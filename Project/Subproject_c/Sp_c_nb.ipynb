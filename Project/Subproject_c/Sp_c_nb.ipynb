{
 "cells": [
  {
   "cell_type": "markdown",
   "metadata": {},
   "source": [
    "# Subproject c\n",
    "- Test for independence of selected survey responses\n",
    "- Author: Roberto P. (GitHub: Roberto919) (mail: robertosysm@gmail.com)"
   ]
  },
  {
   "cell_type": "markdown",
   "metadata": {},
   "source": [
    "---"
   ]
  },
  {
   "cell_type": "markdown",
   "metadata": {
    "heading_collapsed": true
   },
   "source": [
    "# Imports"
   ]
  },
  {
   "cell_type": "markdown",
   "metadata": {
    "hidden": true
   },
   "source": [
    "#### Python libraries"
   ]
  },
  {
   "cell_type": "code",
   "execution_count": 1,
   "metadata": {
    "ExecuteTime": {
     "end_time": "2020-07-18T02:08:13.519644Z",
     "start_time": "2020-07-18T02:08:12.923476Z"
    },
    "hidden": true
   },
   "outputs": [],
   "source": [
    "import pandas as pd\n",
    "\n",
    "import os\n",
    "\n",
    "import matplotlib.pyplot as plt\n",
    "from matplotlib.pyplot import figure\n",
    "\n",
    "from scipy.stats import chi2_contingency, chi2\n",
    "\n",
    "import numpy as np"
   ]
  },
  {
   "cell_type": "markdown",
   "metadata": {
    "hidden": true
   },
   "source": [
    "#### Ancillary modules"
   ]
  },
  {
   "cell_type": "code",
   "execution_count": 2,
   "metadata": {
    "ExecuteTime": {
     "end_time": "2020-07-18T02:08:14.185937Z",
     "start_time": "2020-07-18T02:08:14.158097Z"
    },
    "hidden": true
   },
   "outputs": [],
   "source": [
    "## Reloading module\n",
    "%load_ext autoreload\n",
    "%autoreload 2\n",
    "\n",
    "from Sp_c_params import *\n",
    "from Sp_c_funcs import *"
   ]
  },
  {
   "cell_type": "markdown",
   "metadata": {
    "hidden": true
   },
   "source": [
    "---"
   ]
  },
  {
   "cell_type": "markdown",
   "metadata": {
    "heading_collapsed": true
   },
   "source": [
    "# Upload and clean data"
   ]
  },
  {
   "cell_type": "code",
   "execution_count": 3,
   "metadata": {
    "ExecuteTime": {
     "end_time": "2020-07-18T02:08:15.657225Z",
     "start_time": "2020-07-18T02:08:15.630059Z"
    },
    "hidden": true,
    "scrolled": true
   },
   "outputs": [],
   "source": [
    "df = pd.read_csv(os.path.join(relative_data_loc, file_name))"
   ]
  },
  {
   "cell_type": "code",
   "execution_count": 4,
   "metadata": {
    "ExecuteTime": {
     "end_time": "2020-07-18T02:08:15.821396Z",
     "start_time": "2020-07-18T02:08:15.797683Z"
    },
    "hidden": true
   },
   "outputs": [],
   "source": [
    "cleaning_df(df)"
   ]
  },
  {
   "cell_type": "code",
   "execution_count": 5,
   "metadata": {
    "ExecuteTime": {
     "end_time": "2020-07-18T02:08:15.951109Z",
     "start_time": "2020-07-18T02:08:15.922199Z"
    },
    "hidden": true
   },
   "outputs": [
    {
     "data": {
      "text/html": [
       "<div>\n",
       "<style scoped>\n",
       "    .dataframe tbody tr th:only-of-type {\n",
       "        vertical-align: middle;\n",
       "    }\n",
       "\n",
       "    .dataframe tbody tr th {\n",
       "        vertical-align: top;\n",
       "    }\n",
       "\n",
       "    .dataframe thead th {\n",
       "        text-align: right;\n",
       "    }\n",
       "</style>\n",
       "<table border=\"1\" class=\"dataframe\">\n",
       "  <thead>\n",
       "    <tr style=\"text-align: right;\">\n",
       "      <th></th>\n",
       "      <th>ID</th>\n",
       "      <th>Considera_tele</th>\n",
       "      <th>Cree_comun_tele</th>\n",
       "      <th>Pagar_cuanto</th>\n",
       "      <th>Regularidad_uso</th>\n",
       "    </tr>\n",
       "  </thead>\n",
       "  <tbody>\n",
       "    <tr>\n",
       "      <th>0</th>\n",
       "      <td>4</td>\n",
       "      <td>NO</td>\n",
       "      <td>1: No será común</td>\n",
       "      <td>No pagaría por una</td>\n",
       "      <td>1: No la utilizaría</td>\n",
       "    </tr>\n",
       "    <tr>\n",
       "      <th>1</th>\n",
       "      <td>5</td>\n",
       "      <td>NO</td>\n",
       "      <td>2: Poco común</td>\n",
       "      <td>Menos de $100</td>\n",
       "      <td>2: Con poca regularidad</td>\n",
       "    </tr>\n",
       "    <tr>\n",
       "      <th>2</th>\n",
       "      <td>6</td>\n",
       "      <td>NO</td>\n",
       "      <td>2: Poco común</td>\n",
       "      <td>Menos de $750</td>\n",
       "      <td>2: Con poca regularidad</td>\n",
       "    </tr>\n",
       "    <tr>\n",
       "      <th>3</th>\n",
       "      <td>7</td>\n",
       "      <td>SI</td>\n",
       "      <td>3: Neutral</td>\n",
       "      <td>No pagaría por una</td>\n",
       "      <td>1: No la utilizaría</td>\n",
       "    </tr>\n",
       "    <tr>\n",
       "      <th>4</th>\n",
       "      <td>8</td>\n",
       "      <td>NO</td>\n",
       "      <td>2: Poco común</td>\n",
       "      <td>Menos de $100</td>\n",
       "      <td>1: No la utilizaría</td>\n",
       "    </tr>\n",
       "    <tr>\n",
       "      <th>...</th>\n",
       "      <td>...</td>\n",
       "      <td>...</td>\n",
       "      <td>...</td>\n",
       "      <td>...</td>\n",
       "      <td>...</td>\n",
       "    </tr>\n",
       "    <tr>\n",
       "      <th>749</th>\n",
       "      <td>753</td>\n",
       "      <td>NO</td>\n",
       "      <td>5: Totalmente Común</td>\n",
       "      <td>Más de $750</td>\n",
       "      <td>5: Regularmente</td>\n",
       "    </tr>\n",
       "    <tr>\n",
       "      <th>750</th>\n",
       "      <td>754</td>\n",
       "      <td>SI</td>\n",
       "      <td>5: Totalmente Común</td>\n",
       "      <td>Más de $750</td>\n",
       "      <td>5: Regularmente</td>\n",
       "    </tr>\n",
       "    <tr>\n",
       "      <th>751</th>\n",
       "      <td>755</td>\n",
       "      <td>SI</td>\n",
       "      <td>5: Totalmente Común</td>\n",
       "      <td>Más de $750</td>\n",
       "      <td>5: Regularmente</td>\n",
       "    </tr>\n",
       "    <tr>\n",
       "      <th>752</th>\n",
       "      <td>756</td>\n",
       "      <td>SI</td>\n",
       "      <td>2: Poco común</td>\n",
       "      <td>Menos de $100</td>\n",
       "      <td>3: Neutral</td>\n",
       "    </tr>\n",
       "    <tr>\n",
       "      <th>753</th>\n",
       "      <td>757</td>\n",
       "      <td>SI</td>\n",
       "      <td>3: Neutral</td>\n",
       "      <td>Menos de $100</td>\n",
       "      <td>3: Neutral</td>\n",
       "    </tr>\n",
       "  </tbody>\n",
       "</table>\n",
       "<p>754 rows × 5 columns</p>\n",
       "</div>"
      ],
      "text/plain": [
       "      ID Considera_tele       Cree_comun_tele        Pagar_cuanto  \\\n",
       "0      4             NO     1: No será común   No pagaría por una   \n",
       "1      5             NO         2: Poco común       Menos de $100   \n",
       "2      6             NO         2: Poco común       Menos de $750   \n",
       "3      7             SI            3: Neutral  No pagaría por una   \n",
       "4      8             NO         2: Poco común       Menos de $100   \n",
       "..   ...            ...                   ...                 ...   \n",
       "749  753             NO  5: Totalmente Común          Más de $750   \n",
       "750  754             SI  5: Totalmente Común          Más de $750   \n",
       "751  755             SI  5: Totalmente Común          Más de $750   \n",
       "752  756             SI         2: Poco común       Menos de $100   \n",
       "753  757             SI            3: Neutral       Menos de $100   \n",
       "\n",
       "             Regularidad_uso  \n",
       "0        1: No la utilizaría  \n",
       "1    2: Con poca regularidad  \n",
       "2    2: Con poca regularidad  \n",
       "3        1: No la utilizaría  \n",
       "4        1: No la utilizaría  \n",
       "..                       ...  \n",
       "749          5: Regularmente  \n",
       "750          5: Regularmente  \n",
       "751          5: Regularmente  \n",
       "752               3: Neutral  \n",
       "753               3: Neutral  \n",
       "\n",
       "[754 rows x 5 columns]"
      ]
     },
     "execution_count": 5,
     "metadata": {},
     "output_type": "execute_result"
    }
   ],
   "source": [
    "df"
   ]
  },
  {
   "cell_type": "markdown",
   "metadata": {
    "hidden": true
   },
   "source": [
    "---"
   ]
  },
  {
   "cell_type": "markdown",
   "metadata": {
    "heading_collapsed": true
   },
   "source": [
    "# Initial data exploration"
   ]
  },
  {
   "cell_type": "code",
   "execution_count": 6,
   "metadata": {
    "ExecuteTime": {
     "end_time": "2020-07-18T02:08:18.388971Z",
     "start_time": "2020-07-18T02:08:18.365794Z"
    },
    "hidden": true
   },
   "outputs": [],
   "source": [
    "dfx = df.copy()"
   ]
  },
  {
   "cell_type": "code",
   "execution_count": 7,
   "metadata": {
    "ExecuteTime": {
     "end_time": "2020-07-18T02:08:18.801302Z",
     "start_time": "2020-07-18T02:08:18.653299Z"
    },
    "hidden": true
   },
   "outputs": [
    {
     "data": {
      "image/png": "[encoded data removed]",
      "text/plain": [
       "<Figure size 864x360 with 1 Axes>"
      ]
     },
     "metadata": {
      "needs_background": "light"
     },
     "output_type": "display_data"
    },
    {
     "name": "stdout",
     "output_type": "stream",
     "text": [
      "                 ID      Prop\n",
      "Considera_tele               \n",
      "NO              374  0.496021\n",
      "SI              380  0.503979\n"
     ]
    }
   ],
   "source": [
    "ct_var = ['ID']\n",
    "bar_var = ['Considera_tele']\n",
    "color='orange'\n",
    "\n",
    "one_bar_graph(dfx, ct_var, bar_var, color)\n",
    "var_count_summary(dfx, ct_var, bar_var)"
   ]
  },
  {
   "cell_type": "code",
   "execution_count": 8,
   "metadata": {
    "ExecuteTime": {
     "end_time": "2020-07-18T02:08:19.341651Z",
     "start_time": "2020-07-18T02:08:19.207294Z"
    },
    "hidden": true
   },
   "outputs": [
    {
     "data": {
      "image/png": "[encoded data removed]",
      "text/plain": [
       "<Figure size 864x360 with 1 Axes>"
      ]
     },
     "metadata": {
      "needs_background": "light"
     },
     "output_type": "display_data"
    },
    {
     "name": "stdout",
     "output_type": "stream",
     "text": [
      "                       ID      Prop\n",
      "Cree_comun_tele                    \n",
      "1: No será común      159  0.210875\n",
      "2: Poco común         238  0.315650\n",
      "3: Neutral            203  0.269231\n",
      "4: Muy Común          125  0.165782\n",
      "5: Totalmente Común    29  0.038462\n"
     ]
    }
   ],
   "source": [
    "ct_var = ['ID']\n",
    "bar_var = ['Cree_comun_tele']\n",
    "color='blue'\n",
    "\n",
    "one_bar_graph(dfx, ct_var, bar_var, color)\n",
    "var_count_summary(dfx, ct_var, bar_var)"
   ]
  },
  {
   "cell_type": "code",
   "execution_count": 9,
   "metadata": {
    "ExecuteTime": {
     "end_time": "2020-07-18T02:08:19.825242Z",
     "start_time": "2020-07-18T02:08:19.685669Z"
    },
    "hidden": true
   },
   "outputs": [
    {
     "data": {
      "image/png": "[encoded data removed]",
      "text/plain": [
       "<Figure size 864x360 with 1 Axes>"
      ]
     },
     "metadata": {
      "needs_background": "light"
     },
     "output_type": "display_data"
    },
    {
     "name": "stdout",
     "output_type": "stream",
     "text": [
      "                     ID      Prop\n",
      "Pagar_cuanto                     \n",
      "Menos de $100       172  0.228117\n",
      "Menos de $750       197  0.261273\n",
      "Más de $750          18  0.023873\n",
      "No pagaría por una  367  0.486737\n"
     ]
    }
   ],
   "source": [
    "ct_var = ['ID']\n",
    "bar_var = ['Pagar_cuanto']\n",
    "color='green'\n",
    "\n",
    "one_bar_graph(dfx, ct_var, bar_var, color)\n",
    "var_count_summary(dfx, ct_var, bar_var)"
   ]
  },
  {
   "cell_type": "code",
   "execution_count": 10,
   "metadata": {
    "ExecuteTime": {
     "end_time": "2020-07-18T02:08:20.593582Z",
     "start_time": "2020-07-18T02:08:20.449711Z"
    },
    "hidden": true
   },
   "outputs": [
    {
     "data": {
      "image/png": "[encoded data removed]",
      "text/plain": [
       "<Figure size 864x360 with 1 Axes>"
      ]
     },
     "metadata": {
      "needs_background": "light"
     },
     "output_type": "display_data"
    },
    {
     "name": "stdout",
     "output_type": "stream",
     "text": [
      "                            ID      Prop\n",
      "Regularidad_uso                         \n",
      "1: No la utilizaría        192  0.254642\n",
      "2: Con poca regularidad    225  0.298408\n",
      "3: Neutral                 174  0.230769\n",
      "4: Con cierta regularidad  123  0.163130\n",
      "5: Regularmente             40  0.053050\n"
     ]
    }
   ],
   "source": [
    "ct_var = ['ID']\n",
    "bar_var = ['Regularidad_uso']\n",
    "color='purple'\n",
    "\n",
    "one_bar_graph(dfx, ct_var, bar_var, color)\n",
    "var_count_summary(dfx, ct_var, bar_var)"
   ]
  },
  {
   "cell_type": "markdown",
   "metadata": {
    "hidden": true
   },
   "source": [
    "---"
   ]
  },
  {
   "cell_type": "markdown",
   "metadata": {
    "heading_collapsed": true
   },
   "source": [
    "# Test 1: chi-square test of independece\n",
    "- **Variable 1:** doctors' expected use regularity of the platform\n",
    "- **Variable 2:** doctors' perception about their patients interest to take virtual medical sessions\n",
    "- $\\alpha \\text{ (significance)} = 0.1$\n",
    "\n",
    "$$H_0: \\text{the two variables are independent}$$\n",
    "$$H_1: \\text{the two variables are dependent}$$"
   ]
  },
  {
   "cell_type": "markdown",
   "metadata": {
    "hidden": true
   },
   "source": [
    "### Input data"
   ]
  },
  {
   "cell_type": "code",
   "execution_count": 11,
   "metadata": {
    "ExecuteTime": {
     "end_time": "2020-07-18T02:08:25.351453Z",
     "start_time": "2020-07-18T02:08:25.329993Z"
    },
    "hidden": true
   },
   "outputs": [],
   "source": [
    "alpha = 0.1"
   ]
  },
  {
   "cell_type": "markdown",
   "metadata": {
    "hidden": true
   },
   "source": [
    "### Variables crossing"
   ]
  },
  {
   "cell_type": "code",
   "execution_count": 12,
   "metadata": {
    "ExecuteTime": {
     "end_time": "2020-07-18T02:08:25.626179Z",
     "start_time": "2020-07-18T02:08:25.606465Z"
    },
    "hidden": true
   },
   "outputs": [],
   "source": [
    "rc = [\n",
    "    'Cree_comun_tele',\n",
    "    'Regularidad_uso',\n",
    "]\n",
    "\n",
    "ct_col = ['ID']"
   ]
  },
  {
   "cell_type": "code",
   "execution_count": 13,
   "metadata": {
    "ExecuteTime": {
     "end_time": "2020-07-18T02:08:25.796806Z",
     "start_time": "2020-07-18T02:08:25.763693Z"
    },
    "hidden": true
   },
   "outputs": [
    {
     "data": {
      "text/html": [
       "<div>\n",
       "<style scoped>\n",
       "    .dataframe tbody tr th:only-of-type {\n",
       "        vertical-align: middle;\n",
       "    }\n",
       "\n",
       "    .dataframe tbody tr th {\n",
       "        vertical-align: top;\n",
       "    }\n",
       "\n",
       "    .dataframe thead th {\n",
       "        text-align: right;\n",
       "    }\n",
       "</style>\n",
       "<table border=\"1\" class=\"dataframe\">\n",
       "  <thead>\n",
       "    <tr style=\"text-align: right;\">\n",
       "      <th>Regularidad_uso</th>\n",
       "      <th>1: No la utilizaría</th>\n",
       "      <th>2: Con poca regularidad</th>\n",
       "      <th>3: Neutral</th>\n",
       "      <th>4: Con cierta regularidad</th>\n",
       "      <th>5: Regularmente</th>\n",
       "    </tr>\n",
       "    <tr>\n",
       "      <th>Cree_comun_tele</th>\n",
       "      <th></th>\n",
       "      <th></th>\n",
       "      <th></th>\n",
       "      <th></th>\n",
       "      <th></th>\n",
       "    </tr>\n",
       "  </thead>\n",
       "  <tbody>\n",
       "    <tr>\n",
       "      <th>1: No será común</th>\n",
       "      <td>108.0</td>\n",
       "      <td>37.0</td>\n",
       "      <td>12.0</td>\n",
       "      <td>0.0</td>\n",
       "      <td>2.0</td>\n",
       "    </tr>\n",
       "    <tr>\n",
       "      <th>2: Poco común</th>\n",
       "      <td>43.0</td>\n",
       "      <td>134.0</td>\n",
       "      <td>43.0</td>\n",
       "      <td>16.0</td>\n",
       "      <td>2.0</td>\n",
       "    </tr>\n",
       "    <tr>\n",
       "      <th>3: Neutral</th>\n",
       "      <td>24.0</td>\n",
       "      <td>43.0</td>\n",
       "      <td>97.0</td>\n",
       "      <td>35.0</td>\n",
       "      <td>4.0</td>\n",
       "    </tr>\n",
       "    <tr>\n",
       "      <th>4: Muy Común</th>\n",
       "      <td>11.0</td>\n",
       "      <td>11.0</td>\n",
       "      <td>20.0</td>\n",
       "      <td>67.0</td>\n",
       "      <td>16.0</td>\n",
       "    </tr>\n",
       "    <tr>\n",
       "      <th>5: Totalmente Común</th>\n",
       "      <td>6.0</td>\n",
       "      <td>0.0</td>\n",
       "      <td>2.0</td>\n",
       "      <td>5.0</td>\n",
       "      <td>16.0</td>\n",
       "    </tr>\n",
       "  </tbody>\n",
       "</table>\n",
       "</div>"
      ],
      "text/plain": [
       "Regularidad_uso       1: No la utilizaría  2: Con poca regularidad  \\\n",
       "Cree_comun_tele                                                      \n",
       "1: No será común                    108.0                     37.0   \n",
       "2: Poco común                        43.0                    134.0   \n",
       "3: Neutral                           24.0                     43.0   \n",
       "4: Muy Común                         11.0                     11.0   \n",
       "5: Totalmente Común                   6.0                      0.0   \n",
       "\n",
       "Regularidad_uso       3: Neutral  4: Con cierta regularidad  5: Regularmente  \n",
       "Cree_comun_tele                                                               \n",
       "1: No será común            12.0                        0.0              2.0  \n",
       "2: Poco común               43.0                       16.0              2.0  \n",
       "3: Neutral                  97.0                       35.0              4.0  \n",
       "4: Muy Común                20.0                       67.0             16.0  \n",
       "5: Totalmente Común          2.0                        5.0             16.0  "
      ]
     },
     "execution_count": 13,
     "metadata": {},
     "output_type": "execute_result"
    }
   ],
   "source": [
    "dfx = vars_cross_df(df, ct_col, rc)\n",
    "dfx"
   ]
  },
  {
   "cell_type": "markdown",
   "metadata": {
    "hidden": true
   },
   "source": [
    "### $\\chi^2$ value, p-value, degrees of freedom and expected values"
   ]
  },
  {
   "cell_type": "code",
   "execution_count": 14,
   "metadata": {
    "ExecuteTime": {
     "end_time": "2020-07-18T02:08:27.260901Z",
     "start_time": "2020-07-18T02:08:27.238931Z"
    },
    "hidden": true
   },
   "outputs": [],
   "source": [
    "chi, pval, dof, exp_v = chi2_contingency(dfx)"
   ]
  },
  {
   "cell_type": "code",
   "execution_count": 15,
   "metadata": {
    "ExecuteTime": {
     "end_time": "2020-07-18T02:08:27.620392Z",
     "start_time": "2020-07-18T02:08:27.587971Z"
    },
    "hidden": true
   },
   "outputs": [
    {
     "data": {
      "text/html": [
       "<div>\n",
       "<style scoped>\n",
       "    .dataframe tbody tr th:only-of-type {\n",
       "        vertical-align: middle;\n",
       "    }\n",
       "\n",
       "    .dataframe tbody tr th {\n",
       "        vertical-align: top;\n",
       "    }\n",
       "\n",
       "    .dataframe thead th {\n",
       "        text-align: right;\n",
       "    }\n",
       "</style>\n",
       "<table border=\"1\" class=\"dataframe\">\n",
       "  <thead>\n",
       "    <tr style=\"text-align: right;\">\n",
       "      <th>Regularidad_uso</th>\n",
       "      <th>1: No la utilizaría</th>\n",
       "      <th>2: Con poca regularidad</th>\n",
       "      <th>3: Neutral</th>\n",
       "      <th>4: Con cierta regularidad</th>\n",
       "      <th>5: Regularmente</th>\n",
       "    </tr>\n",
       "    <tr>\n",
       "      <th>Cree_comun_tele</th>\n",
       "      <th></th>\n",
       "      <th></th>\n",
       "      <th></th>\n",
       "      <th></th>\n",
       "      <th></th>\n",
       "    </tr>\n",
       "  </thead>\n",
       "  <tbody>\n",
       "    <tr>\n",
       "      <th>1: No será común</th>\n",
       "      <td>40.49</td>\n",
       "      <td>47.45</td>\n",
       "      <td>36.69</td>\n",
       "      <td>25.94</td>\n",
       "      <td>8.44</td>\n",
       "    </tr>\n",
       "    <tr>\n",
       "      <th>2: Poco común</th>\n",
       "      <td>60.60</td>\n",
       "      <td>71.02</td>\n",
       "      <td>54.92</td>\n",
       "      <td>38.82</td>\n",
       "      <td>12.63</td>\n",
       "    </tr>\n",
       "    <tr>\n",
       "      <th>3: Neutral</th>\n",
       "      <td>51.69</td>\n",
       "      <td>60.58</td>\n",
       "      <td>46.85</td>\n",
       "      <td>33.12</td>\n",
       "      <td>10.77</td>\n",
       "    </tr>\n",
       "    <tr>\n",
       "      <th>4: Muy Común</th>\n",
       "      <td>31.83</td>\n",
       "      <td>37.30</td>\n",
       "      <td>28.85</td>\n",
       "      <td>20.39</td>\n",
       "      <td>6.63</td>\n",
       "    </tr>\n",
       "    <tr>\n",
       "      <th>5: Totalmente Común</th>\n",
       "      <td>7.38</td>\n",
       "      <td>8.65</td>\n",
       "      <td>6.69</td>\n",
       "      <td>4.73</td>\n",
       "      <td>1.54</td>\n",
       "    </tr>\n",
       "  </tbody>\n",
       "</table>\n",
       "</div>"
      ],
      "text/plain": [
       "Regularidad_uso       1: No la utilizaría  2: Con poca regularidad  \\\n",
       "Cree_comun_tele                                                      \n",
       "1: No será común                    40.49                    47.45   \n",
       "2: Poco común                       60.60                    71.02   \n",
       "3: Neutral                          51.69                    60.58   \n",
       "4: Muy Común                        31.83                    37.30   \n",
       "5: Totalmente Común                  7.38                     8.65   \n",
       "\n",
       "Regularidad_uso       3: Neutral  4: Con cierta regularidad  5: Regularmente  \n",
       "Cree_comun_tele                                                               \n",
       "1: No será común           36.69                      25.94             8.44  \n",
       "2: Poco común              54.92                      38.82            12.63  \n",
       "3: Neutral                 46.85                      33.12            10.77  \n",
       "4: Muy Común               28.85                      20.39             6.63  \n",
       "5: Totalmente Común         6.69                       4.73             1.54  "
      ]
     },
     "execution_count": 15,
     "metadata": {},
     "output_type": "execute_result"
    }
   ],
   "source": [
    "exp_v = pd.DataFrame(exp_v, index=[dfx.index], columns=dfx.columns).round(2)\n",
    "exp_v"
   ]
  },
  {
   "cell_type": "markdown",
   "metadata": {
    "hidden": true
   },
   "source": [
    "### Critical value"
   ]
  },
  {
   "cell_type": "code",
   "execution_count": 16,
   "metadata": {
    "ExecuteTime": {
     "end_time": "2020-07-18T02:08:28.369356Z",
     "start_time": "2020-07-18T02:08:28.347179Z"
    },
    "hidden": true
   },
   "outputs": [],
   "source": [
    "p = 1 - alpha"
   ]
  },
  {
   "cell_type": "code",
   "execution_count": 17,
   "metadata": {
    "ExecuteTime": {
     "end_time": "2020-07-18T02:08:28.652972Z",
     "start_time": "2020-07-18T02:08:28.629858Z"
    },
    "hidden": true
   },
   "outputs": [
    {
     "data": {
      "text/plain": [
       "23.541828923096105"
      ]
     },
     "execution_count": 17,
     "metadata": {},
     "output_type": "execute_result"
    }
   ],
   "source": [
    "c_v = chi2.ppf(p, dof)\n",
    "c_v"
   ]
  },
  {
   "cell_type": "markdown",
   "metadata": {
    "hidden": true
   },
   "source": [
    "### Conclusion"
   ]
  },
  {
   "cell_type": "code",
   "execution_count": 18,
   "metadata": {
    "ExecuteTime": {
     "end_time": "2020-07-18T02:08:29.184167Z",
     "start_time": "2020-07-18T02:08:29.161030Z"
    },
    "hidden": true
   },
   "outputs": [
    {
     "name": "stdout",
     "output_type": "stream",
     "text": [
      "At 0.1 level of significance, we reject the null hypotheses and accept the alternative hypoteses.\n",
      "The two variables are dependent.\n"
     ]
    }
   ],
   "source": [
    "if pval < alpha:\n",
    "    print(\"At {} level of significance, we reject the null hypotheses and accept the alternative hypoteses.\".format(alpha))\n",
    "    print(\"The two variables are dependent.\")\n",
    "else:\n",
    "    print(\"At {} level of significance, we accept the null hypotheses.\".format(alpha))\n",
    "    print(\"The two variables are independent\")"
   ]
  },
  {
   "cell_type": "markdown",
   "metadata": {
    "hidden": true
   },
   "source": [
    "---"
   ]
  },
  {
   "cell_type": "markdown",
   "metadata": {
    "heading_collapsed": true
   },
   "source": [
    "# Test 2: chi-square test of independece\n",
    "- **Variable 1:** doctors' perception about the future of telemedicine\n",
    "- **Variable 2:** doctors' willingness to pay for a telemedicine platform\n",
    "- $\\alpha \\text{ (significance)} = 0.1$\n",
    "\n",
    "$$H_0: \\text{the two variables are independent}$$\n",
    "$$H_1: \\text{the two variables are dependent}$$"
   ]
  },
  {
   "cell_type": "markdown",
   "metadata": {
    "hidden": true
   },
   "source": [
    "### Input data"
   ]
  },
  {
   "cell_type": "code",
   "execution_count": 19,
   "metadata": {
    "ExecuteTime": {
     "end_time": "2020-07-18T02:08:31.069354Z",
     "start_time": "2020-07-18T02:08:31.046353Z"
    },
    "hidden": true
   },
   "outputs": [],
   "source": [
    "alpha = 0.1"
   ]
  },
  {
   "cell_type": "markdown",
   "metadata": {
    "hidden": true
   },
   "source": [
    "### Variables crossing"
   ]
  },
  {
   "cell_type": "code",
   "execution_count": 20,
   "metadata": {
    "ExecuteTime": {
     "end_time": "2020-07-18T02:08:31.352353Z",
     "start_time": "2020-07-18T02:08:31.331599Z"
    },
    "hidden": true
   },
   "outputs": [],
   "source": [
    "rc = [\n",
    "    'Considera_tele',\n",
    "    'Pagar_cuanto',\n",
    "]\n",
    "\n",
    "ct_col = ['ID']"
   ]
  },
  {
   "cell_type": "code",
   "execution_count": 21,
   "metadata": {
    "ExecuteTime": {
     "end_time": "2020-07-18T02:08:31.507624Z",
     "start_time": "2020-07-18T02:08:31.480757Z"
    },
    "hidden": true
   },
   "outputs": [
    {
     "data": {
      "text/html": [
       "<div>\n",
       "<style scoped>\n",
       "    .dataframe tbody tr th:only-of-type {\n",
       "        vertical-align: middle;\n",
       "    }\n",
       "\n",
       "    .dataframe tbody tr th {\n",
       "        vertical-align: top;\n",
       "    }\n",
       "\n",
       "    .dataframe thead th {\n",
       "        text-align: right;\n",
       "    }\n",
       "</style>\n",
       "<table border=\"1\" class=\"dataframe\">\n",
       "  <thead>\n",
       "    <tr style=\"text-align: right;\">\n",
       "      <th>Pagar_cuanto</th>\n",
       "      <th>Menos de $100</th>\n",
       "      <th>Menos de $750</th>\n",
       "      <th>Más de $750</th>\n",
       "      <th>No pagaría por una</th>\n",
       "    </tr>\n",
       "    <tr>\n",
       "      <th>Considera_tele</th>\n",
       "      <th></th>\n",
       "      <th></th>\n",
       "      <th></th>\n",
       "      <th></th>\n",
       "    </tr>\n",
       "  </thead>\n",
       "  <tbody>\n",
       "    <tr>\n",
       "      <th>NO</th>\n",
       "      <td>55</td>\n",
       "      <td>59</td>\n",
       "      <td>2</td>\n",
       "      <td>258</td>\n",
       "    </tr>\n",
       "    <tr>\n",
       "      <th>SI</th>\n",
       "      <td>117</td>\n",
       "      <td>138</td>\n",
       "      <td>16</td>\n",
       "      <td>109</td>\n",
       "    </tr>\n",
       "  </tbody>\n",
       "</table>\n",
       "</div>"
      ],
      "text/plain": [
       "Pagar_cuanto    Menos de $100  Menos de $750  Más de $750  No pagaría por una\n",
       "Considera_tele                                                               \n",
       "NO                         55             59            2                 258\n",
       "SI                        117            138           16                 109"
      ]
     },
     "execution_count": 21,
     "metadata": {},
     "output_type": "execute_result"
    }
   ],
   "source": [
    "dfx = vars_cross_df(df, ct_col, rc)\n",
    "dfx"
   ]
  },
  {
   "cell_type": "markdown",
   "metadata": {
    "hidden": true
   },
   "source": [
    "### $\\chi^2$ value, p-value, degrees of freedom and expected values"
   ]
  },
  {
   "cell_type": "code",
   "execution_count": 22,
   "metadata": {
    "ExecuteTime": {
     "end_time": "2020-07-18T02:08:32.900256Z",
     "start_time": "2020-07-18T02:08:32.877359Z"
    },
    "hidden": true
   },
   "outputs": [],
   "source": [
    "chi, pval, dof, exp_v = chi2_contingency(dfx)"
   ]
  },
  {
   "cell_type": "code",
   "execution_count": 23,
   "metadata": {
    "ExecuteTime": {
     "end_time": "2020-07-18T02:08:33.076693Z",
     "start_time": "2020-07-18T02:08:33.046463Z"
    },
    "hidden": true
   },
   "outputs": [
    {
     "data": {
      "text/html": [
       "<div>\n",
       "<style scoped>\n",
       "    .dataframe tbody tr th:only-of-type {\n",
       "        vertical-align: middle;\n",
       "    }\n",
       "\n",
       "    .dataframe tbody tr th {\n",
       "        vertical-align: top;\n",
       "    }\n",
       "\n",
       "    .dataframe thead th {\n",
       "        text-align: right;\n",
       "    }\n",
       "</style>\n",
       "<table border=\"1\" class=\"dataframe\">\n",
       "  <thead>\n",
       "    <tr style=\"text-align: right;\">\n",
       "      <th>Pagar_cuanto</th>\n",
       "      <th>Menos de $100</th>\n",
       "      <th>Menos de $750</th>\n",
       "      <th>Más de $750</th>\n",
       "      <th>No pagaría por una</th>\n",
       "    </tr>\n",
       "    <tr>\n",
       "      <th>Considera_tele</th>\n",
       "      <th></th>\n",
       "      <th></th>\n",
       "      <th></th>\n",
       "      <th></th>\n",
       "    </tr>\n",
       "  </thead>\n",
       "  <tbody>\n",
       "    <tr>\n",
       "      <th>NO</th>\n",
       "      <td>85.32</td>\n",
       "      <td>97.72</td>\n",
       "      <td>8.93</td>\n",
       "      <td>182.04</td>\n",
       "    </tr>\n",
       "    <tr>\n",
       "      <th>SI</th>\n",
       "      <td>86.68</td>\n",
       "      <td>99.28</td>\n",
       "      <td>9.07</td>\n",
       "      <td>184.96</td>\n",
       "    </tr>\n",
       "  </tbody>\n",
       "</table>\n",
       "</div>"
      ],
      "text/plain": [
       "Pagar_cuanto    Menos de $100  Menos de $750  Más de $750  No pagaría por una\n",
       "Considera_tele                                                               \n",
       "NO                      85.32          97.72         8.93              182.04\n",
       "SI                      86.68          99.28         9.07              184.96"
      ]
     },
     "execution_count": 23,
     "metadata": {},
     "output_type": "execute_result"
    }
   ],
   "source": [
    "exp_v = pd.DataFrame(exp_v, index=[dfx.index], columns=dfx.columns).round(2)\n",
    "exp_v"
   ]
  },
  {
   "cell_type": "markdown",
   "metadata": {
    "hidden": true
   },
   "source": [
    "### Critical value"
   ]
  },
  {
   "cell_type": "code",
   "execution_count": 24,
   "metadata": {
    "ExecuteTime": {
     "end_time": "2020-07-18T02:08:33.397811Z",
     "start_time": "2020-07-18T02:08:33.377596Z"
    },
    "hidden": true
   },
   "outputs": [],
   "source": [
    "p = 1 - alpha"
   ]
  },
  {
   "cell_type": "code",
   "execution_count": 25,
   "metadata": {
    "ExecuteTime": {
     "end_time": "2020-07-18T02:08:33.655912Z",
     "start_time": "2020-07-18T02:08:33.632498Z"
    },
    "hidden": true
   },
   "outputs": [
    {
     "data": {
      "text/plain": [
       "6.251388631170325"
      ]
     },
     "execution_count": 25,
     "metadata": {},
     "output_type": "execute_result"
    }
   ],
   "source": [
    "c_v = chi2.ppf(p, dof)\n",
    "c_v"
   ]
  },
  {
   "cell_type": "markdown",
   "metadata": {
    "hidden": true
   },
   "source": [
    "### Conclusion"
   ]
  },
  {
   "cell_type": "code",
   "execution_count": 26,
   "metadata": {
    "ExecuteTime": {
     "end_time": "2020-07-18T02:08:34.403658Z",
     "start_time": "2020-07-18T02:08:34.379429Z"
    },
    "hidden": true
   },
   "outputs": [
    {
     "name": "stdout",
     "output_type": "stream",
     "text": [
      "At 0.1 level of significance, we reject the null hypotheses and accept the alternative hypoteses.\n",
      "The two variables are dependent.\n"
     ]
    }
   ],
   "source": [
    "if pval < alpha:\n",
    "    print(\"At {} level of significance, we reject the null hypotheses and accept the alternative hypoteses.\".format(alpha))\n",
    "    print(\"The two variables are dependent.\")\n",
    "else:\n",
    "    print(\"At {} level of significance, we accept the null hypotheses.\".format(alpha))\n",
    "    print(\"The two variables are independent\")"
   ]
  },
  {
   "cell_type": "markdown",
   "metadata": {
    "hidden": true
   },
   "source": [
    "---"
   ]
  },
  {
   "cell_type": "markdown",
   "metadata": {
    "heading_collapsed": true
   },
   "source": [
    "# Test 3: chi-square test of independece\n",
    "- **Variable 1:** doctors' perception about their patients interest to take virtual medical sessions\n",
    "- **Variable 2:** doctors' willingness to pay for a telemedicine platform\n",
    "- $\\alpha \\text{ (significance)} = 0.1$\n",
    "\n",
    "$$H_0: \\text{the two variables are independent}$$\n",
    "$$H_1: \\text{the two variables are dependent}$$"
   ]
  },
  {
   "cell_type": "markdown",
   "metadata": {
    "hidden": true
   },
   "source": [
    "### Input data"
   ]
  },
  {
   "cell_type": "code",
   "execution_count": 27,
   "metadata": {
    "ExecuteTime": {
     "end_time": "2020-07-18T02:08:36.201435Z",
     "start_time": "2020-07-18T02:08:36.182496Z"
    },
    "hidden": true
   },
   "outputs": [],
   "source": [
    "alpha = 0.1"
   ]
  },
  {
   "cell_type": "markdown",
   "metadata": {
    "hidden": true
   },
   "source": [
    "### Variables crossing"
   ]
  },
  {
   "cell_type": "code",
   "execution_count": 28,
   "metadata": {
    "ExecuteTime": {
     "end_time": "2020-07-18T02:08:36.485471Z",
     "start_time": "2020-07-18T02:08:36.464174Z"
    },
    "hidden": true
   },
   "outputs": [],
   "source": [
    "rc = [\n",
    "    'Cree_comun_tele',\n",
    "    'Pagar_cuanto',\n",
    "]\n",
    "\n",
    "ct_col = ['ID']"
   ]
  },
  {
   "cell_type": "code",
   "execution_count": 29,
   "metadata": {
    "ExecuteTime": {
     "end_time": "2020-07-18T02:08:36.640689Z",
     "start_time": "2020-07-18T02:08:36.608107Z"
    },
    "hidden": true
   },
   "outputs": [
    {
     "data": {
      "text/html": [
       "<div>\n",
       "<style scoped>\n",
       "    .dataframe tbody tr th:only-of-type {\n",
       "        vertical-align: middle;\n",
       "    }\n",
       "\n",
       "    .dataframe tbody tr th {\n",
       "        vertical-align: top;\n",
       "    }\n",
       "\n",
       "    .dataframe thead th {\n",
       "        text-align: right;\n",
       "    }\n",
       "</style>\n",
       "<table border=\"1\" class=\"dataframe\">\n",
       "  <thead>\n",
       "    <tr style=\"text-align: right;\">\n",
       "      <th>Pagar_cuanto</th>\n",
       "      <th>Menos de $100</th>\n",
       "      <th>Menos de $750</th>\n",
       "      <th>Más de $750</th>\n",
       "      <th>No pagaría por una</th>\n",
       "    </tr>\n",
       "    <tr>\n",
       "      <th>Cree_comun_tele</th>\n",
       "      <th></th>\n",
       "      <th></th>\n",
       "      <th></th>\n",
       "      <th></th>\n",
       "    </tr>\n",
       "  </thead>\n",
       "  <tbody>\n",
       "    <tr>\n",
       "      <th>1: No será común</th>\n",
       "      <td>18.0</td>\n",
       "      <td>23.0</td>\n",
       "      <td>1.0</td>\n",
       "      <td>117.0</td>\n",
       "    </tr>\n",
       "    <tr>\n",
       "      <th>2: Poco común</th>\n",
       "      <td>58.0</td>\n",
       "      <td>52.0</td>\n",
       "      <td>0.0</td>\n",
       "      <td>128.0</td>\n",
       "    </tr>\n",
       "    <tr>\n",
       "      <th>3: Neutral</th>\n",
       "      <td>56.0</td>\n",
       "      <td>61.0</td>\n",
       "      <td>4.0</td>\n",
       "      <td>82.0</td>\n",
       "    </tr>\n",
       "    <tr>\n",
       "      <th>4: Muy Común</th>\n",
       "      <td>32.0</td>\n",
       "      <td>51.0</td>\n",
       "      <td>9.0</td>\n",
       "      <td>33.0</td>\n",
       "    </tr>\n",
       "    <tr>\n",
       "      <th>5: Totalmente Común</th>\n",
       "      <td>8.0</td>\n",
       "      <td>10.0</td>\n",
       "      <td>4.0</td>\n",
       "      <td>7.0</td>\n",
       "    </tr>\n",
       "  </tbody>\n",
       "</table>\n",
       "</div>"
      ],
      "text/plain": [
       "Pagar_cuanto          Menos de $100  Menos de $750  Más de $750  \\\n",
       "Cree_comun_tele                                                   \n",
       "1: No será común               18.0           23.0          1.0   \n",
       "2: Poco común                  58.0           52.0          0.0   \n",
       "3: Neutral                     56.0           61.0          4.0   \n",
       "4: Muy Común                   32.0           51.0          9.0   \n",
       "5: Totalmente Común             8.0           10.0          4.0   \n",
       "\n",
       "Pagar_cuanto          No pagaría por una  \n",
       "Cree_comun_tele                           \n",
       "1: No será común                   117.0  \n",
       "2: Poco común                      128.0  \n",
       "3: Neutral                          82.0  \n",
       "4: Muy Común                        33.0  \n",
       "5: Totalmente Común                  7.0  "
      ]
     },
     "execution_count": 29,
     "metadata": {},
     "output_type": "execute_result"
    }
   ],
   "source": [
    "dfx = vars_cross_df(df, ct_col, rc)\n",
    "dfx"
   ]
  },
  {
   "cell_type": "markdown",
   "metadata": {
    "hidden": true
   },
   "source": [
    "### $\\chi^2$ value, p-value, degrees of freedom and expected values"
   ]
  },
  {
   "cell_type": "code",
   "execution_count": 30,
   "metadata": {
    "ExecuteTime": {
     "end_time": "2020-07-18T02:08:37.822895Z",
     "start_time": "2020-07-18T02:08:37.799613Z"
    },
    "hidden": true
   },
   "outputs": [],
   "source": [
    "chi, pval, dof, exp_v = chi2_contingency(dfx)"
   ]
  },
  {
   "cell_type": "code",
   "execution_count": 31,
   "metadata": {
    "ExecuteTime": {
     "end_time": "2020-07-18T02:08:37.980361Z",
     "start_time": "2020-07-18T02:08:37.951569Z"
    },
    "hidden": true
   },
   "outputs": [
    {
     "data": {
      "text/html": [
       "<div>\n",
       "<style scoped>\n",
       "    .dataframe tbody tr th:only-of-type {\n",
       "        vertical-align: middle;\n",
       "    }\n",
       "\n",
       "    .dataframe tbody tr th {\n",
       "        vertical-align: top;\n",
       "    }\n",
       "\n",
       "    .dataframe thead th {\n",
       "        text-align: right;\n",
       "    }\n",
       "</style>\n",
       "<table border=\"1\" class=\"dataframe\">\n",
       "  <thead>\n",
       "    <tr style=\"text-align: right;\">\n",
       "      <th>Pagar_cuanto</th>\n",
       "      <th>Menos de $100</th>\n",
       "      <th>Menos de $750</th>\n",
       "      <th>Más de $750</th>\n",
       "      <th>No pagaría por una</th>\n",
       "    </tr>\n",
       "    <tr>\n",
       "      <th>Cree_comun_tele</th>\n",
       "      <th></th>\n",
       "      <th></th>\n",
       "      <th></th>\n",
       "      <th></th>\n",
       "    </tr>\n",
       "  </thead>\n",
       "  <tbody>\n",
       "    <tr>\n",
       "      <th>1: No será común</th>\n",
       "      <td>36.27</td>\n",
       "      <td>41.54</td>\n",
       "      <td>3.80</td>\n",
       "      <td>77.39</td>\n",
       "    </tr>\n",
       "    <tr>\n",
       "      <th>2: Poco común</th>\n",
       "      <td>54.29</td>\n",
       "      <td>62.18</td>\n",
       "      <td>5.68</td>\n",
       "      <td>115.84</td>\n",
       "    </tr>\n",
       "    <tr>\n",
       "      <th>3: Neutral</th>\n",
       "      <td>46.31</td>\n",
       "      <td>53.04</td>\n",
       "      <td>4.85</td>\n",
       "      <td>98.81</td>\n",
       "    </tr>\n",
       "    <tr>\n",
       "      <th>4: Muy Común</th>\n",
       "      <td>28.51</td>\n",
       "      <td>32.66</td>\n",
       "      <td>2.98</td>\n",
       "      <td>60.84</td>\n",
       "    </tr>\n",
       "    <tr>\n",
       "      <th>5: Totalmente Común</th>\n",
       "      <td>6.62</td>\n",
       "      <td>7.58</td>\n",
       "      <td>0.69</td>\n",
       "      <td>14.12</td>\n",
       "    </tr>\n",
       "  </tbody>\n",
       "</table>\n",
       "</div>"
      ],
      "text/plain": [
       "Pagar_cuanto          Menos de $100  Menos de $750  Más de $750  \\\n",
       "Cree_comun_tele                                                   \n",
       "1: No será común              36.27          41.54         3.80   \n",
       "2: Poco común                 54.29          62.18         5.68   \n",
       "3: Neutral                    46.31          53.04         4.85   \n",
       "4: Muy Común                  28.51          32.66         2.98   \n",
       "5: Totalmente Común            6.62           7.58         0.69   \n",
       "\n",
       "Pagar_cuanto          No pagaría por una  \n",
       "Cree_comun_tele                           \n",
       "1: No será común                   77.39  \n",
       "2: Poco común                     115.84  \n",
       "3: Neutral                         98.81  \n",
       "4: Muy Común                       60.84  \n",
       "5: Totalmente Común                14.12  "
      ]
     },
     "execution_count": 31,
     "metadata": {},
     "output_type": "execute_result"
    }
   ],
   "source": [
    "exp_v = pd.DataFrame(exp_v, index=[dfx.index], columns=dfx.columns).round(2)\n",
    "exp_v"
   ]
  },
  {
   "cell_type": "markdown",
   "metadata": {
    "hidden": true
   },
   "source": [
    "### Critical value"
   ]
  },
  {
   "cell_type": "code",
   "execution_count": 32,
   "metadata": {
    "ExecuteTime": {
     "end_time": "2020-07-18T02:08:38.286824Z",
     "start_time": "2020-07-18T02:08:38.264831Z"
    },
    "hidden": true
   },
   "outputs": [],
   "source": [
    "p = 1 - alpha"
   ]
  },
  {
   "cell_type": "code",
   "execution_count": 33,
   "metadata": {
    "ExecuteTime": {
     "end_time": "2020-07-18T02:08:38.671714Z",
     "start_time": "2020-07-18T02:08:38.651497Z"
    },
    "hidden": true
   },
   "outputs": [
    {
     "data": {
      "text/plain": [
       "18.54934778670325"
      ]
     },
     "execution_count": 33,
     "metadata": {},
     "output_type": "execute_result"
    }
   ],
   "source": [
    "c_v = chi2.ppf(p, dof)\n",
    "c_v"
   ]
  },
  {
   "cell_type": "markdown",
   "metadata": {
    "hidden": true
   },
   "source": [
    "### Conclusion"
   ]
  },
  {
   "cell_type": "code",
   "execution_count": 34,
   "metadata": {
    "ExecuteTime": {
     "end_time": "2020-07-18T02:08:39.318419Z",
     "start_time": "2020-07-18T02:08:39.294180Z"
    },
    "hidden": true
   },
   "outputs": [
    {
     "name": "stdout",
     "output_type": "stream",
     "text": [
      "At 0.1 level of significance, we reject the null hypotheses and accept the alternative hypoteses.\n",
      "The two variables are dependent.\n"
     ]
    }
   ],
   "source": [
    "if pval < alpha:\n",
    "    print(\"At {} level of significance, we reject the null hypotheses and accept the alternative hypoteses.\".format(alpha))\n",
    "    print(\"The two variables are dependent.\")\n",
    "else:\n",
    "    print(\"At {} level of significance, we accept the null hypotheses.\".format(alpha))\n",
    "    print(\"The two variables are independent\")"
   ]
  },
  {
   "cell_type": "markdown",
   "metadata": {
    "hidden": true
   },
   "source": [
    "---\n",
    "---"
   ]
  }
 ],
 "metadata": {
  "kernelspec": {
   "display_name": "Python 3",
   "language": "python",
   "name": "python3"
  },
  "language_info": {
   "codemirror_mode": {
    "name": "ipython",
    "version": 3
   },
   "file_extension": ".py",
   "mimetype": "text/x-python",
   "name": "python",
   "nbconvert_exporter": "python",
   "pygments_lexer": "ipython3",
   "version": "3.7.4"
  }
 },
 "nbformat": 4,
 "nbformat_minor": 4
}
