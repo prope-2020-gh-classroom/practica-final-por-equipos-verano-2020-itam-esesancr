{
 "cells": [
  {
   "cell_type": "markdown",
   "metadata": {},
   "source": [
    "# Subproject c\n",
    "- Willingness to pay and use platform\n",
    "- Author: Roberto P. (GitHub: Roberto919) (mail: robertosysm@gmail.com)"
   ]
  },
  {
   "cell_type": "markdown",
   "metadata": {},
   "source": [
    "---"
   ]
  },
  {
   "cell_type": "markdown",
   "metadata": {},
   "source": [
    "# Imports"
   ]
  },
  {
   "cell_type": "markdown",
   "metadata": {},
   "source": [
    "#### Python libraries"
   ]
  },
  {
   "cell_type": "code",
   "execution_count": 1,
   "metadata": {
    "ExecuteTime": {
     "end_time": "2020-07-17T01:47:57.326679Z",
     "start_time": "2020-07-17T01:47:56.734878Z"
    }
   },
   "outputs": [],
   "source": [
    "import pandas as pd\n",
    "\n",
    "import os\n",
    "\n",
    "import matplotlib.pyplot as plt\n",
    "from matplotlib.pyplot import figure"
   ]
  },
  {
   "cell_type": "markdown",
   "metadata": {},
   "source": [
    "#### Ancillary modules"
   ]
  },
  {
   "cell_type": "code",
   "execution_count": 23,
   "metadata": {
    "ExecuteTime": {
     "end_time": "2020-07-17T01:56:56.325290Z",
     "start_time": "2020-07-17T01:56:56.300617Z"
    }
   },
   "outputs": [
    {
     "name": "stdout",
     "output_type": "stream",
     "text": [
      "The autoreload extension is already loaded. To reload it, use:\n",
      "  %reload_ext autoreload\n"
     ]
    }
   ],
   "source": [
    "## Reloading module\n",
    "%load_ext autoreload\n",
    "%autoreload 2\n",
    "\n",
    "from Sp_c_params import *\n",
    "from Sp_c_funcs import *"
   ]
  },
  {
   "cell_type": "markdown",
   "metadata": {},
   "source": [
    "---"
   ]
  },
  {
   "cell_type": "markdown",
   "metadata": {},
   "source": [
    "# Upload and clean data"
   ]
  },
  {
   "cell_type": "code",
   "execution_count": 24,
   "metadata": {
    "ExecuteTime": {
     "end_time": "2020-07-17T01:56:57.123930Z",
     "start_time": "2020-07-17T01:56:57.100438Z"
    },
    "scrolled": true
   },
   "outputs": [],
   "source": [
    "df = pd.read_csv(os.path.join(relative_data_loc, file_name))"
   ]
  },
  {
   "cell_type": "code",
   "execution_count": 25,
   "metadata": {
    "ExecuteTime": {
     "end_time": "2020-07-17T01:56:57.363693Z",
     "start_time": "2020-07-17T01:56:57.346012Z"
    }
   },
   "outputs": [],
   "source": [
    "cleaning_df(df)"
   ]
  },
  {
   "cell_type": "code",
   "execution_count": 26,
   "metadata": {
    "ExecuteTime": {
     "end_time": "2020-07-17T01:56:57.632180Z",
     "start_time": "2020-07-17T01:56:57.607913Z"
    }
   },
   "outputs": [
    {
     "data": {
      "text/html": [
       "<div>\n",
       "<style scoped>\n",
       "    .dataframe tbody tr th:only-of-type {\n",
       "        vertical-align: middle;\n",
       "    }\n",
       "\n",
       "    .dataframe tbody tr th {\n",
       "        vertical-align: top;\n",
       "    }\n",
       "\n",
       "    .dataframe thead th {\n",
       "        text-align: right;\n",
       "    }\n",
       "</style>\n",
       "<table border=\"1\" class=\"dataframe\">\n",
       "  <thead>\n",
       "    <tr style=\"text-align: right;\">\n",
       "      <th></th>\n",
       "      <th>ID</th>\n",
       "      <th>Considera_tele</th>\n",
       "      <th>Cree_comun_tele</th>\n",
       "      <th>Pagar_cuanto</th>\n",
       "      <th>Regularidad_uso</th>\n",
       "    </tr>\n",
       "  </thead>\n",
       "  <tbody>\n",
       "    <tr>\n",
       "      <th>0</th>\n",
       "      <td>4</td>\n",
       "      <td>NO</td>\n",
       "      <td>1: No será común</td>\n",
       "      <td>No pagaría por una</td>\n",
       "      <td>1: No la utilizaría</td>\n",
       "    </tr>\n",
       "    <tr>\n",
       "      <th>1</th>\n",
       "      <td>5</td>\n",
       "      <td>NO</td>\n",
       "      <td>2: Poco común</td>\n",
       "      <td>Menos de $100</td>\n",
       "      <td>2: Con poca regularidad</td>\n",
       "    </tr>\n",
       "    <tr>\n",
       "      <th>2</th>\n",
       "      <td>6</td>\n",
       "      <td>NO</td>\n",
       "      <td>2: Poco común</td>\n",
       "      <td>Menos de $750</td>\n",
       "      <td>2: Con poca regularidad</td>\n",
       "    </tr>\n",
       "    <tr>\n",
       "      <th>3</th>\n",
       "      <td>7</td>\n",
       "      <td>SI</td>\n",
       "      <td>3: Neutral</td>\n",
       "      <td>No pagaría por una</td>\n",
       "      <td>1: No la utilizaría</td>\n",
       "    </tr>\n",
       "    <tr>\n",
       "      <th>4</th>\n",
       "      <td>8</td>\n",
       "      <td>NO</td>\n",
       "      <td>2: Poco común</td>\n",
       "      <td>Menos de $100</td>\n",
       "      <td>1: No la utilizaría</td>\n",
       "    </tr>\n",
       "    <tr>\n",
       "      <th>...</th>\n",
       "      <td>...</td>\n",
       "      <td>...</td>\n",
       "      <td>...</td>\n",
       "      <td>...</td>\n",
       "      <td>...</td>\n",
       "    </tr>\n",
       "    <tr>\n",
       "      <th>749</th>\n",
       "      <td>753</td>\n",
       "      <td>NO</td>\n",
       "      <td>5: Totalmente Común</td>\n",
       "      <td>Más de $750</td>\n",
       "      <td>5: Regularmente</td>\n",
       "    </tr>\n",
       "    <tr>\n",
       "      <th>750</th>\n",
       "      <td>754</td>\n",
       "      <td>SI</td>\n",
       "      <td>5: Totalmente Común</td>\n",
       "      <td>Más de $750</td>\n",
       "      <td>5: Regularmente</td>\n",
       "    </tr>\n",
       "    <tr>\n",
       "      <th>751</th>\n",
       "      <td>755</td>\n",
       "      <td>SI</td>\n",
       "      <td>5: Totalmente Común</td>\n",
       "      <td>Más de $750</td>\n",
       "      <td>5: Regularmente</td>\n",
       "    </tr>\n",
       "    <tr>\n",
       "      <th>752</th>\n",
       "      <td>756</td>\n",
       "      <td>SI</td>\n",
       "      <td>2: Poco común</td>\n",
       "      <td>Menos de $100</td>\n",
       "      <td>3: Neutral</td>\n",
       "    </tr>\n",
       "    <tr>\n",
       "      <th>753</th>\n",
       "      <td>757</td>\n",
       "      <td>SI</td>\n",
       "      <td>3: Neutral</td>\n",
       "      <td>Menos de $100</td>\n",
       "      <td>3: Neutral</td>\n",
       "    </tr>\n",
       "  </tbody>\n",
       "</table>\n",
       "<p>754 rows × 5 columns</p>\n",
       "</div>"
      ],
      "text/plain": [
       "      ID Considera_tele       Cree_comun_tele        Pagar_cuanto  \\\n",
       "0      4             NO     1: No será común   No pagaría por una   \n",
       "1      5             NO         2: Poco común       Menos de $100   \n",
       "2      6             NO         2: Poco común       Menos de $750   \n",
       "3      7             SI            3: Neutral  No pagaría por una   \n",
       "4      8             NO         2: Poco común       Menos de $100   \n",
       "..   ...            ...                   ...                 ...   \n",
       "749  753             NO  5: Totalmente Común          Más de $750   \n",
       "750  754             SI  5: Totalmente Común          Más de $750   \n",
       "751  755             SI  5: Totalmente Común          Más de $750   \n",
       "752  756             SI         2: Poco común       Menos de $100   \n",
       "753  757             SI            3: Neutral       Menos de $100   \n",
       "\n",
       "             Regularidad_uso  \n",
       "0        1: No la utilizaría  \n",
       "1    2: Con poca regularidad  \n",
       "2    2: Con poca regularidad  \n",
       "3        1: No la utilizaría  \n",
       "4        1: No la utilizaría  \n",
       "..                       ...  \n",
       "749          5: Regularmente  \n",
       "750          5: Regularmente  \n",
       "751          5: Regularmente  \n",
       "752               3: Neutral  \n",
       "753               3: Neutral  \n",
       "\n",
       "[754 rows x 5 columns]"
      ]
     },
     "execution_count": 26,
     "metadata": {},
     "output_type": "execute_result"
    }
   ],
   "source": [
    "df"
   ]
  },
  {
   "cell_type": "markdown",
   "metadata": {},
   "source": [
    "---"
   ]
  },
  {
   "cell_type": "markdown",
   "metadata": {},
   "source": [
    "# Initial data exploration"
   ]
  },
  {
   "cell_type": "markdown",
   "metadata": {
    "heading_collapsed": true
   },
   "source": [
    "### Proportion summaries"
   ]
  },
  {
   "cell_type": "code",
   "execution_count": 27,
   "metadata": {
    "ExecuteTime": {
     "end_time": "2020-07-17T01:56:58.973958Z",
     "start_time": "2020-07-17T01:56:58.958318Z"
    },
    "hidden": true
   },
   "outputs": [],
   "source": [
    "dfx = df.copy()"
   ]
  },
  {
   "cell_type": "code",
   "execution_count": 28,
   "metadata": {
    "ExecuteTime": {
     "end_time": "2020-07-17T01:56:59.289803Z",
     "start_time": "2020-07-17T01:56:59.266898Z"
    },
    "hidden": true
   },
   "outputs": [
    {
     "data": {
      "text/html": [
       "<div>\n",
       "<style scoped>\n",
       "    .dataframe tbody tr th:only-of-type {\n",
       "        vertical-align: middle;\n",
       "    }\n",
       "\n",
       "    .dataframe tbody tr th {\n",
       "        vertical-align: top;\n",
       "    }\n",
       "\n",
       "    .dataframe thead th {\n",
       "        text-align: right;\n",
       "    }\n",
       "</style>\n",
       "<table border=\"1\" class=\"dataframe\">\n",
       "  <thead>\n",
       "    <tr style=\"text-align: right;\">\n",
       "      <th></th>\n",
       "      <th>ID</th>\n",
       "      <th>Prop</th>\n",
       "    </tr>\n",
       "    <tr>\n",
       "      <th>Considera_tele</th>\n",
       "      <th></th>\n",
       "      <th></th>\n",
       "    </tr>\n",
       "  </thead>\n",
       "  <tbody>\n",
       "    <tr>\n",
       "      <th>NO</th>\n",
       "      <td>374</td>\n",
       "      <td>0.496021</td>\n",
       "    </tr>\n",
       "    <tr>\n",
       "      <th>SI</th>\n",
       "      <td>380</td>\n",
       "      <td>0.503979</td>\n",
       "    </tr>\n",
       "  </tbody>\n",
       "</table>\n",
       "</div>"
      ],
      "text/plain": [
       "                 ID      Prop\n",
       "Considera_tele               \n",
       "NO              374  0.496021\n",
       "SI              380  0.503979"
      ]
     },
     "execution_count": 28,
     "metadata": {},
     "output_type": "execute_result"
    }
   ],
   "source": [
    "rc = 'Considera_tele'\n",
    "dfx1 = dfx.loc[:, ['ID', rc]].groupby([rc]).count()\n",
    "id_sum = dfx1['ID'].sum()\n",
    "dfx1['Prop'] = dfx1['ID'].apply(lambda x: x/id_sum)\n",
    "dfx1"
   ]
  },
  {
   "cell_type": "code",
   "execution_count": 29,
   "metadata": {
    "ExecuteTime": {
     "end_time": "2020-07-17T01:57:01.296696Z",
     "start_time": "2020-07-17T01:57:01.269363Z"
    },
    "hidden": true
   },
   "outputs": [
    {
     "data": {
      "text/html": [
       "<div>\n",
       "<style scoped>\n",
       "    .dataframe tbody tr th:only-of-type {\n",
       "        vertical-align: middle;\n",
       "    }\n",
       "\n",
       "    .dataframe tbody tr th {\n",
       "        vertical-align: top;\n",
       "    }\n",
       "\n",
       "    .dataframe thead th {\n",
       "        text-align: right;\n",
       "    }\n",
       "</style>\n",
       "<table border=\"1\" class=\"dataframe\">\n",
       "  <thead>\n",
       "    <tr style=\"text-align: right;\">\n",
       "      <th></th>\n",
       "      <th>ID</th>\n",
       "      <th>Prop</th>\n",
       "    </tr>\n",
       "    <tr>\n",
       "      <th>Regularidad_uso</th>\n",
       "      <th></th>\n",
       "      <th></th>\n",
       "    </tr>\n",
       "  </thead>\n",
       "  <tbody>\n",
       "    <tr>\n",
       "      <th>1: No la utilizaría</th>\n",
       "      <td>192</td>\n",
       "      <td>0.254642</td>\n",
       "    </tr>\n",
       "    <tr>\n",
       "      <th>2: Con poca regularidad</th>\n",
       "      <td>225</td>\n",
       "      <td>0.298408</td>\n",
       "    </tr>\n",
       "    <tr>\n",
       "      <th>3: Neutral</th>\n",
       "      <td>174</td>\n",
       "      <td>0.230769</td>\n",
       "    </tr>\n",
       "    <tr>\n",
       "      <th>4: Con cierta regularidad</th>\n",
       "      <td>123</td>\n",
       "      <td>0.163130</td>\n",
       "    </tr>\n",
       "    <tr>\n",
       "      <th>5: Regularmente</th>\n",
       "      <td>40</td>\n",
       "      <td>0.053050</td>\n",
       "    </tr>\n",
       "  </tbody>\n",
       "</table>\n",
       "</div>"
      ],
      "text/plain": [
       "                            ID      Prop\n",
       "Regularidad_uso                         \n",
       "1: No la utilizaría        192  0.254642\n",
       "2: Con poca regularidad    225  0.298408\n",
       "3: Neutral                 174  0.230769\n",
       "4: Con cierta regularidad  123  0.163130\n",
       "5: Regularmente             40  0.053050"
      ]
     },
     "execution_count": 29,
     "metadata": {},
     "output_type": "execute_result"
    }
   ],
   "source": [
    "rc = 'Regularidad_uso'\n",
    "dfx1 = dfx.loc[:, ['ID', rc]].groupby([rc]).count()\n",
    "id_sum = dfx1['ID'].sum()\n",
    "dfx1['Prop'] = dfx1['ID'].apply(lambda x: x/id_sum)\n",
    "dfx1"
   ]
  },
  {
   "cell_type": "code",
   "execution_count": 30,
   "metadata": {
    "ExecuteTime": {
     "end_time": "2020-07-17T01:57:01.970300Z",
     "start_time": "2020-07-17T01:57:01.942456Z"
    },
    "hidden": true
   },
   "outputs": [
    {
     "data": {
      "text/html": [
       "<div>\n",
       "<style scoped>\n",
       "    .dataframe tbody tr th:only-of-type {\n",
       "        vertical-align: middle;\n",
       "    }\n",
       "\n",
       "    .dataframe tbody tr th {\n",
       "        vertical-align: top;\n",
       "    }\n",
       "\n",
       "    .dataframe thead th {\n",
       "        text-align: right;\n",
       "    }\n",
       "</style>\n",
       "<table border=\"1\" class=\"dataframe\">\n",
       "  <thead>\n",
       "    <tr style=\"text-align: right;\">\n",
       "      <th></th>\n",
       "      <th>ID</th>\n",
       "      <th>Prop</th>\n",
       "    </tr>\n",
       "    <tr>\n",
       "      <th>Pagar_cuanto</th>\n",
       "      <th></th>\n",
       "      <th></th>\n",
       "    </tr>\n",
       "  </thead>\n",
       "  <tbody>\n",
       "    <tr>\n",
       "      <th>Menos de $100</th>\n",
       "      <td>172</td>\n",
       "      <td>0.228117</td>\n",
       "    </tr>\n",
       "    <tr>\n",
       "      <th>Menos de $750</th>\n",
       "      <td>197</td>\n",
       "      <td>0.261273</td>\n",
       "    </tr>\n",
       "    <tr>\n",
       "      <th>Más de $750</th>\n",
       "      <td>18</td>\n",
       "      <td>0.023873</td>\n",
       "    </tr>\n",
       "    <tr>\n",
       "      <th>No pagaría por una</th>\n",
       "      <td>367</td>\n",
       "      <td>0.486737</td>\n",
       "    </tr>\n",
       "  </tbody>\n",
       "</table>\n",
       "</div>"
      ],
      "text/plain": [
       "                     ID      Prop\n",
       "Pagar_cuanto                     \n",
       "Menos de $100       172  0.228117\n",
       "Menos de $750       197  0.261273\n",
       "Más de $750          18  0.023873\n",
       "No pagaría por una  367  0.486737"
      ]
     },
     "execution_count": 30,
     "metadata": {},
     "output_type": "execute_result"
    }
   ],
   "source": [
    "rc = 'Pagar_cuanto'\n",
    "dfx1 = dfx.loc[:, ['ID', rc]].groupby([rc]).count()\n",
    "id_sum = dfx1['ID'].sum()\n",
    "dfx1['Prop'] = dfx1['ID'].apply(lambda x: x/id_sum)\n",
    "dfx1"
   ]
  },
  {
   "cell_type": "markdown",
   "metadata": {},
   "source": [
    "### Histograms"
   ]
  },
  {
   "cell_type": "code",
   "execution_count": null,
   "metadata": {
    "ExecuteTime": {
     "end_time": "2020-07-16T22:29:40.106244Z",
     "start_time": "2020-07-16T22:29:40.088720Z"
    }
   },
   "outputs": [],
   "source": [
    "dfx = df.copy()"
   ]
  },
  {
   "cell_type": "code",
   "execution_count": null,
   "metadata": {
    "ExecuteTime": {
     "end_time": "2020-07-16T22:41:09.249983Z",
     "start_time": "2020-07-16T22:41:09.094527Z"
    }
   },
   "outputs": [],
   "source": [
    "fig, ax = plt.subplots()\n",
    "\n",
    "plt.hist(\n",
    "    dfx['Regularidad_uso'],\n",
    "    color='purple'\n",
    ")\n",
    "\n",
    "fig.set_size_inches(12, 5)\n",
    "\n",
    "plt.title('Regularidad esperada de uso')\n",
    "\n",
    "plt.show()"
   ]
  },
  {
   "cell_type": "code",
   "execution_count": null,
   "metadata": {
    "ExecuteTime": {
     "end_time": "2020-07-16T22:42:27.423032Z",
     "start_time": "2020-07-16T22:42:27.254208Z"
    }
   },
   "outputs": [],
   "source": [
    "fig, ax = plt.subplots()\n",
    "\n",
    "plt.hist(\n",
    "    dfx['Pagar_cuanto'],\n",
    "    color='green'\n",
    ")\n",
    "\n",
    "fig.set_size_inches(17, 5)\n",
    "\n",
    "plt.title('Monto dispuestos a pagar')\n",
    "\n",
    "plt.show()"
   ]
  },
  {
   "cell_type": "code",
   "execution_count": null,
   "metadata": {
    "ExecuteTime": {
     "end_time": "2020-07-16T22:44:31.625621Z",
     "start_time": "2020-07-16T22:44:31.477708Z"
    }
   },
   "outputs": [],
   "source": [
    "fig, ax = plt.subplots()\n",
    "\n",
    "plt.hist(\n",
    "    dfx['Cree_comun_tele'],\n",
    "    color='blue'\n",
    ")\n",
    "\n",
    "fig.set_size_inches(14, 5)\n",
    "\n",
    "plt.title('Percepción de la telemedicina')\n",
    "\n",
    "plt.show()"
   ]
  },
  {
   "cell_type": "markdown",
   "metadata": {},
   "source": [
    "---"
   ]
  },
  {
   "cell_type": "markdown",
   "metadata": {},
   "source": [
    "# Chi-square test of independece"
   ]
  },
  {
   "cell_type": "markdown",
   "metadata": {},
   "source": [
    "### Contingency table"
   ]
  },
  {
   "cell_type": "code",
   "execution_count": 31,
   "metadata": {
    "ExecuteTime": {
     "end_time": "2020-07-17T02:04:52.850155Z",
     "start_time": "2020-07-17T02:04:52.832194Z"
    }
   },
   "outputs": [],
   "source": [
    "dfx = df.copy()"
   ]
  },
  {
   "cell_type": "code",
   "execution_count": 33,
   "metadata": {
    "ExecuteTime": {
     "end_time": "2020-07-17T02:06:56.662494Z",
     "start_time": "2020-07-17T02:06:56.631785Z"
    }
   },
   "outputs": [
    {
     "data": {
      "text/html": [
       "<div>\n",
       "<style scoped>\n",
       "    .dataframe tbody tr th:only-of-type {\n",
       "        vertical-align: middle;\n",
       "    }\n",
       "\n",
       "    .dataframe tbody tr th {\n",
       "        vertical-align: top;\n",
       "    }\n",
       "\n",
       "    .dataframe thead tr th {\n",
       "        text-align: left;\n",
       "    }\n",
       "\n",
       "    .dataframe thead tr:last-of-type th {\n",
       "        text-align: right;\n",
       "    }\n",
       "</style>\n",
       "<table border=\"1\" class=\"dataframe\">\n",
       "  <thead>\n",
       "    <tr>\n",
       "      <th></th>\n",
       "      <th colspan=\"5\" halign=\"left\">ID</th>\n",
       "    </tr>\n",
       "    <tr>\n",
       "      <th>Regularidad_uso</th>\n",
       "      <th>1: No la utilizaría</th>\n",
       "      <th>2: Con poca regularidad</th>\n",
       "      <th>3: Neutral</th>\n",
       "      <th>4: Con cierta regularidad</th>\n",
       "      <th>5: Regularmente</th>\n",
       "    </tr>\n",
       "    <tr>\n",
       "      <th>Cree_comun_tele</th>\n",
       "      <th></th>\n",
       "      <th></th>\n",
       "      <th></th>\n",
       "      <th></th>\n",
       "      <th></th>\n",
       "    </tr>\n",
       "  </thead>\n",
       "  <tbody>\n",
       "    <tr>\n",
       "      <th>1: No será común</th>\n",
       "      <td>108.0</td>\n",
       "      <td>37.0</td>\n",
       "      <td>12.0</td>\n",
       "      <td>NaN</td>\n",
       "      <td>2.0</td>\n",
       "    </tr>\n",
       "    <tr>\n",
       "      <th>2: Poco común</th>\n",
       "      <td>43.0</td>\n",
       "      <td>134.0</td>\n",
       "      <td>43.0</td>\n",
       "      <td>16.0</td>\n",
       "      <td>2.0</td>\n",
       "    </tr>\n",
       "    <tr>\n",
       "      <th>3: Neutral</th>\n",
       "      <td>24.0</td>\n",
       "      <td>43.0</td>\n",
       "      <td>97.0</td>\n",
       "      <td>35.0</td>\n",
       "      <td>4.0</td>\n",
       "    </tr>\n",
       "    <tr>\n",
       "      <th>4: Muy Común</th>\n",
       "      <td>11.0</td>\n",
       "      <td>11.0</td>\n",
       "      <td>20.0</td>\n",
       "      <td>67.0</td>\n",
       "      <td>16.0</td>\n",
       "    </tr>\n",
       "    <tr>\n",
       "      <th>5: Totalmente Común</th>\n",
       "      <td>6.0</td>\n",
       "      <td>NaN</td>\n",
       "      <td>2.0</td>\n",
       "      <td>5.0</td>\n",
       "      <td>16.0</td>\n",
       "    </tr>\n",
       "  </tbody>\n",
       "</table>\n",
       "</div>"
      ],
      "text/plain": [
       "                                      ID                                     \\\n",
       "Regularidad_uso      1: No la utilizaría 2: Con poca regularidad 3: Neutral   \n",
       "Cree_comun_tele                                                               \n",
       "1: No será común                   108.0                    37.0       12.0   \n",
       "2: Poco común                       43.0                   134.0       43.0   \n",
       "3: Neutral                          24.0                    43.0       97.0   \n",
       "4: Muy Común                        11.0                    11.0       20.0   \n",
       "5: Totalmente Común                  6.0                     NaN        2.0   \n",
       "\n",
       "                                                                \n",
       "Regularidad_uso      4: Con cierta regularidad 5: Regularmente  \n",
       "Cree_comun_tele                                                 \n",
       "1: No será común                           NaN             2.0  \n",
       "2: Poco común                             16.0             2.0  \n",
       "3: Neutral                                35.0             4.0  \n",
       "4: Muy Común                              67.0            16.0  \n",
       "5: Totalmente Común                        5.0            16.0  "
      ]
     },
     "execution_count": 33,
     "metadata": {},
     "output_type": "execute_result"
    }
   ],
   "source": [
    "rc = [\n",
    "    'Cree_comun_tele',\n",
    "    'Regularidad_uso',\n",
    "    'ID'\n",
    "]\n",
    "\n",
    "dfx.loc[:, rc].groupby(['Cree_comun_tele', 'Regularidad_uso']).count().unstack()"
   ]
  },
  {
   "cell_type": "markdown",
   "metadata": {},
   "source": [
    "---"
   ]
  }
 ],
 "metadata": {
  "kernelspec": {
   "display_name": "Python 3",
   "language": "python",
   "name": "python3"
  },
  "language_info": {
   "codemirror_mode": {
    "name": "ipython",
    "version": 3
   },
   "file_extension": ".py",
   "mimetype": "text/x-python",
   "name": "python",
   "nbconvert_exporter": "python",
   "pygments_lexer": "ipython3",
   "version": "3.7.4"
  }
 },
 "nbformat": 4,
 "nbformat_minor": 4
}
