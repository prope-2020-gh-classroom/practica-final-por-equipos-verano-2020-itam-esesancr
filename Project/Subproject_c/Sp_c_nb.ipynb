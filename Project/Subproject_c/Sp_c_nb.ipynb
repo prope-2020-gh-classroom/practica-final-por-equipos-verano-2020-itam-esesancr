{
 "cells": [
  {
   "cell_type": "markdown",
   "metadata": {},
   "source": [
    "# Subproject c\n",
    "- Willingness to pay and use platform\n",
    "- Author: Roberto P. (GitHub: Roberto919) (mail: robertosysm@gmail.com)"
   ]
  },
  {
   "cell_type": "markdown",
   "metadata": {},
   "source": [
    "---"
   ]
  },
  {
   "cell_type": "markdown",
   "metadata": {},
   "source": [
    "# Imports"
   ]
  },
  {
   "cell_type": "markdown",
   "metadata": {},
   "source": [
    "#### Python libraries"
   ]
  },
  {
   "cell_type": "code",
   "execution_count": 16,
   "metadata": {
    "ExecuteTime": {
     "end_time": "2020-07-16T22:35:30.322825Z",
     "start_time": "2020-07-16T22:35:30.304082Z"
    }
   },
   "outputs": [],
   "source": [
    "import pandas as pd\n",
    "\n",
    "import os\n",
    "\n",
    "import matplotlib.pyplot as plt\n",
    "from matplotlib.pyplot import figure"
   ]
  },
  {
   "cell_type": "markdown",
   "metadata": {},
   "source": [
    "#### Ancillary modules"
   ]
  },
  {
   "cell_type": "code",
   "execution_count": 5,
   "metadata": {
    "ExecuteTime": {
     "end_time": "2020-07-16T22:28:11.789403Z",
     "start_time": "2020-07-16T22:28:11.769060Z"
    }
   },
   "outputs": [
    {
     "name": "stdout",
     "output_type": "stream",
     "text": [
      "The autoreload extension is already loaded. To reload it, use:\n",
      "  %reload_ext autoreload\n"
     ]
    }
   ],
   "source": [
    "## Reloading module\n",
    "%load_ext autoreload\n",
    "%autoreload 2\n",
    "\n",
    "from Sp_c_params import *\n",
    "from Sp_c_funcs import *"
   ]
  },
  {
   "cell_type": "markdown",
   "metadata": {},
   "source": [
    "---"
   ]
  },
  {
   "cell_type": "markdown",
   "metadata": {},
   "source": [
    "# Upload and clean data"
   ]
  },
  {
   "cell_type": "code",
   "execution_count": 6,
   "metadata": {
    "ExecuteTime": {
     "end_time": "2020-07-16T22:28:12.814141Z",
     "start_time": "2020-07-16T22:28:12.790450Z"
    },
    "scrolled": true
   },
   "outputs": [],
   "source": [
    "df = pd.read_csv(os.path.join(relative_data_loc, file_name))"
   ]
  },
  {
   "cell_type": "code",
   "execution_count": 7,
   "metadata": {
    "ExecuteTime": {
     "end_time": "2020-07-16T22:28:13.124590Z",
     "start_time": "2020-07-16T22:28:13.108408Z"
    }
   },
   "outputs": [],
   "source": [
    "cleaning_df(df)"
   ]
  },
  {
   "cell_type": "code",
   "execution_count": 8,
   "metadata": {
    "ExecuteTime": {
     "end_time": "2020-07-16T22:28:14.161330Z",
     "start_time": "2020-07-16T22:28:14.124991Z"
    }
   },
   "outputs": [
    {
     "data": {
      "text/html": [
       "<div>\n",
       "<style scoped>\n",
       "    .dataframe tbody tr th:only-of-type {\n",
       "        vertical-align: middle;\n",
       "    }\n",
       "\n",
       "    .dataframe tbody tr th {\n",
       "        vertical-align: top;\n",
       "    }\n",
       "\n",
       "    .dataframe thead th {\n",
       "        text-align: right;\n",
       "    }\n",
       "</style>\n",
       "<table border=\"1\" class=\"dataframe\">\n",
       "  <thead>\n",
       "    <tr style=\"text-align: right;\">\n",
       "      <th></th>\n",
       "      <th>ID</th>\n",
       "      <th>Considera_tele</th>\n",
       "      <th>Cree_comun_tele</th>\n",
       "      <th>Pagar_cuanto</th>\n",
       "      <th>Regularidad_uso</th>\n",
       "    </tr>\n",
       "  </thead>\n",
       "  <tbody>\n",
       "    <tr>\n",
       "      <th>0</th>\n",
       "      <td>4</td>\n",
       "      <td>NO</td>\n",
       "      <td>1: No será común</td>\n",
       "      <td>No pagaría por una</td>\n",
       "      <td>1: No la utilizaría</td>\n",
       "    </tr>\n",
       "    <tr>\n",
       "      <th>1</th>\n",
       "      <td>5</td>\n",
       "      <td>NO</td>\n",
       "      <td>2: Poco común</td>\n",
       "      <td>Menos de $100</td>\n",
       "      <td>2: Con poca regularidad</td>\n",
       "    </tr>\n",
       "    <tr>\n",
       "      <th>2</th>\n",
       "      <td>6</td>\n",
       "      <td>NO</td>\n",
       "      <td>2: Poco común</td>\n",
       "      <td>Menos de $750</td>\n",
       "      <td>2: Con poca regularidad</td>\n",
       "    </tr>\n",
       "    <tr>\n",
       "      <th>3</th>\n",
       "      <td>7</td>\n",
       "      <td>SI</td>\n",
       "      <td>3: Neutral</td>\n",
       "      <td>No pagaría por una</td>\n",
       "      <td>1: No la utilizaría</td>\n",
       "    </tr>\n",
       "    <tr>\n",
       "      <th>4</th>\n",
       "      <td>8</td>\n",
       "      <td>NO</td>\n",
       "      <td>2: Poco común</td>\n",
       "      <td>Menos de $100</td>\n",
       "      <td>1: No la utilizaría</td>\n",
       "    </tr>\n",
       "    <tr>\n",
       "      <th>...</th>\n",
       "      <td>...</td>\n",
       "      <td>...</td>\n",
       "      <td>...</td>\n",
       "      <td>...</td>\n",
       "      <td>...</td>\n",
       "    </tr>\n",
       "    <tr>\n",
       "      <th>749</th>\n",
       "      <td>753</td>\n",
       "      <td>NO</td>\n",
       "      <td>5: Totalmente Común</td>\n",
       "      <td>Más de $750</td>\n",
       "      <td>5: Regularmente</td>\n",
       "    </tr>\n",
       "    <tr>\n",
       "      <th>750</th>\n",
       "      <td>754</td>\n",
       "      <td>SI</td>\n",
       "      <td>5: Totalmente Común</td>\n",
       "      <td>Más de $750</td>\n",
       "      <td>5: Regularmente</td>\n",
       "    </tr>\n",
       "    <tr>\n",
       "      <th>751</th>\n",
       "      <td>755</td>\n",
       "      <td>SI</td>\n",
       "      <td>5: Totalmente Común</td>\n",
       "      <td>Más de $750</td>\n",
       "      <td>5: Regularmente</td>\n",
       "    </tr>\n",
       "    <tr>\n",
       "      <th>752</th>\n",
       "      <td>756</td>\n",
       "      <td>SI</td>\n",
       "      <td>2: Poco común</td>\n",
       "      <td>Menos de $100</td>\n",
       "      <td>3: Neutral</td>\n",
       "    </tr>\n",
       "    <tr>\n",
       "      <th>753</th>\n",
       "      <td>757</td>\n",
       "      <td>SI</td>\n",
       "      <td>3: Neutral</td>\n",
       "      <td>Menos de $100</td>\n",
       "      <td>3: Neutral</td>\n",
       "    </tr>\n",
       "  </tbody>\n",
       "</table>\n",
       "<p>754 rows × 5 columns</p>\n",
       "</div>"
      ],
      "text/plain": [
       "      ID Considera_tele       Cree_comun_tele        Pagar_cuanto  \\\n",
       "0      4             NO     1: No será común   No pagaría por una   \n",
       "1      5             NO         2: Poco común      Menos de $100    \n",
       "2      6             NO         2: Poco común      Menos de $750    \n",
       "3      7             SI            3: Neutral  No pagaría por una   \n",
       "4      8             NO         2: Poco común      Menos de $100    \n",
       "..   ...            ...                   ...                 ...   \n",
       "749  753             NO  5: Totalmente Común          Más de $750   \n",
       "750  754             SI  5: Totalmente Común          Más de $750   \n",
       "751  755             SI  5: Totalmente Común          Más de $750   \n",
       "752  756             SI         2: Poco común      Menos de $100    \n",
       "753  757             SI            3: Neutral      Menos de $100    \n",
       "\n",
       "             Regularidad_uso  \n",
       "0        1: No la utilizaría  \n",
       "1    2: Con poca regularidad  \n",
       "2    2: Con poca regularidad  \n",
       "3        1: No la utilizaría  \n",
       "4        1: No la utilizaría  \n",
       "..                       ...  \n",
       "749          5: Regularmente  \n",
       "750          5: Regularmente  \n",
       "751          5: Regularmente  \n",
       "752               3: Neutral  \n",
       "753               3: Neutral  \n",
       "\n",
       "[754 rows x 5 columns]"
      ]
     },
     "execution_count": 8,
     "metadata": {},
     "output_type": "execute_result"
    }
   ],
   "source": [
    "df"
   ]
  },
  {
   "cell_type": "markdown",
   "metadata": {},
   "source": [
    "---"
   ]
  },
  {
   "cell_type": "markdown",
   "metadata": {},
   "source": [
    "# Initial data exploration"
   ]
  },
  {
   "cell_type": "markdown",
   "metadata": {},
   "source": [
    "#### Histograms"
   ]
  },
  {
   "cell_type": "code",
   "execution_count": 9,
   "metadata": {
    "ExecuteTime": {
     "end_time": "2020-07-16T22:29:40.106244Z",
     "start_time": "2020-07-16T22:29:40.088720Z"
    }
   },
   "outputs": [],
   "source": [
    "dfx = df.copy()"
   ]
  },
  {
   "cell_type": "code",
   "execution_count": 38,
   "metadata": {
    "ExecuteTime": {
     "end_time": "2020-07-16T22:41:09.249983Z",
     "start_time": "2020-07-16T22:41:09.094527Z"
    }
   },
   "outputs": [
    {
     "data": {
      "image/png": "[encoded data removed]",
      "text/plain": [
       "<Figure size 864x360 with 1 Axes>"
      ]
     },
     "metadata": {
      "needs_background": "light"
     },
     "output_type": "display_data"
    }
   ],
   "source": [
    "fig, ax = plt.subplots()\n",
    "\n",
    "plt.hist(\n",
    "    dfx['Regularidad_uso'],\n",
    "    color='purple'\n",
    ")\n",
    "\n",
    "fig.set_size_inches(12, 5)\n",
    "\n",
    "plt.title('Regularidad esperada de uso')\n",
    "\n",
    "plt.show()"
   ]
  },
  {
   "cell_type": "code",
   "execution_count": 41,
   "metadata": {
    "ExecuteTime": {
     "end_time": "2020-07-16T22:42:27.423032Z",
     "start_time": "2020-07-16T22:42:27.254208Z"
    }
   },
   "outputs": [
    {
     "data": {
      "image/png": "[encoded data removed]",
      "text/plain": [
       "<Figure size 1224x360 with 1 Axes>"
      ]
     },
     "metadata": {
      "needs_background": "light"
     },
     "output_type": "display_data"
    }
   ],
   "source": [
    "fig, ax = plt.subplots()\n",
    "\n",
    "plt.hist(\n",
    "    dfx['Pagar_cuanto'],\n",
    "    color='green'\n",
    ")\n",
    "\n",
    "fig.set_size_inches(17, 5)\n",
    "\n",
    "plt.title('Monto dispuestos a pagar')\n",
    "\n",
    "plt.show()"
   ]
  },
  {
   "cell_type": "code",
   "execution_count": 43,
   "metadata": {
    "ExecuteTime": {
     "end_time": "2020-07-16T22:44:31.625621Z",
     "start_time": "2020-07-16T22:44:31.477708Z"
    }
   },
   "outputs": [
    {
     "data": {
      "image/png": "[encoded data removed]",
      "text/plain": [
       "<Figure size 1008x360 with 1 Axes>"
      ]
     },
     "metadata": {
      "needs_background": "light"
     },
     "output_type": "display_data"
    }
   ],
   "source": [
    "fig, ax = plt.subplots()\n",
    "\n",
    "plt.hist(\n",
    "    dfx['Cree_comun_tele'],\n",
    "    color='blue'\n",
    ")\n",
    "\n",
    "fig.set_size_inches(14, 5)\n",
    "\n",
    "plt.title('Percepción de la telemedicina')\n",
    "\n",
    "plt.show()"
   ]
  },
  {
   "cell_type": "code",
   "execution_count": null,
   "metadata": {},
   "outputs": [],
   "source": []
  }
 ],
 "metadata": {
  "kernelspec": {
   "display_name": "Python 3",
   "language": "python",
   "name": "python3"
  },
  "language_info": {
   "codemirror_mode": {
    "name": "ipython",
    "version": 3
   },
   "file_extension": ".py",
   "mimetype": "text/x-python",
   "name": "python",
   "nbconvert_exporter": "python",
   "pygments_lexer": "ipython3",
   "version": "3.7.4"
  }
 },
 "nbformat": 4,
 "nbformat_minor": 4
}
