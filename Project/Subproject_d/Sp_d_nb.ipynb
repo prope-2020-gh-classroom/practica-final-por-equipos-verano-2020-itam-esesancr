{
 "cells": [
  {
   "cell_type": "markdown",
   "metadata": {},
   "source": [
    "# Subproject d\n",
    "- Null Hypothesis to be challenged: at least 50% of the Mexican doctors that are offered a technological platform that supports their service would be willing to use it regularly or very regularly.\n",
    "- Author(s): \n",
    "    - Roberto P. (GitHub: Roberto919) (mail: robertosysm@gmail.com)\n",
    "    - Cecy A. (GitHub: cecyar) (mail: cecyar@gmail.com\n",
    "    - Sergio S. (GitHub: esesancr) (mail: esesancr@gmail.com)"
   ]
  },
  {
   "cell_type": "markdown",
   "metadata": {},
   "source": [
    "---"
   ]
  },
  {
   "cell_type": "code",
   "execution_count": null,
   "metadata": {},
   "outputs": [],
   "source": []
  }
 ],
 "metadata": {
  "kernelspec": {
   "display_name": "Python 3",
   "language": "python",
   "name": "python3"
  },
  "language_info": {
   "codemirror_mode": {
    "name": "ipython",
    "version": 3
   },
   "file_extension": ".py",
   "mimetype": "text/x-python",
   "name": "python",
   "nbconvert_exporter": "python",
   "pygments_lexer": "ipython3",
   "version": "3.7.4"
  }
 },
 "nbformat": 4,
 "nbformat_minor": 4
}
