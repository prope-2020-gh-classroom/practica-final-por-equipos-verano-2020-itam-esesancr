{
 "cells": [
  {
   "cell_type": "markdown",
   "metadata": {},
   "source": [
    "# Subproject b\n",
    "- Platform attributes\n",
    "- Author: Cecilia Avilés Robles (GitHub: cecyar) (mail: cecyar@gmail.com)"
   ]
  },
  {
   "cell_type": "markdown",
   "metadata": {},
   "source": [
    "---"
   ]
  },
  {
   "cell_type": "code",
   "execution_count": 1,
   "metadata": {},
   "outputs": [
    {
     "name": "stdout",
     "output_type": "stream",
     "text": [
      "\u001b[33m  WARNING: The script tqdm is installed in '/home/miuser/.local/bin' which is not on PATH.\n",
      "  Consider adding this directory to PATH or, if you prefer to suppress this warning, use --no-warn-script-location.\u001b[0m\n",
      "\u001b[33m  WARNING: The script nltk is installed in '/home/miuser/.local/bin' which is not on PATH.\n",
      "  Consider adding this directory to PATH or, if you prefer to suppress this warning, use --no-warn-script-location.\u001b[0m\n"
     ]
    }
   ],
   "source": [
    "!pip install --user -q nltk"
   ]
  },
  {
   "cell_type": "code",
   "execution_count": 221,
   "metadata": {},
   "outputs": [],
   "source": [
    "import pandas as pd\n",
    "import numpy as np\n",
    "import matplotlib.pyplot as plt\n",
    "import seaborn as sns"
   ]
  },
  {
   "cell_type": "code",
   "execution_count": 40,
   "metadata": {},
   "outputs": [],
   "source": [
    "import os\n",
    "import nltk\n",
    "from nltk import * \n",
    "from nltk.corpus import stopwords\n",
    "#import nltk.corpus\n",
    "#from nltk import word_tokenize\n",
    "#from nltk.tokenize import word_tokenize\n",
    "#from nltk.probability import FreqDist"
   ]
  },
  {
   "cell_type": "code",
   "execution_count": 33,
   "metadata": {},
   "outputs": [],
   "source": [
    "import os\n",
    "from nltk import * "
   ]
  },
  {
   "cell_type": "markdown",
   "metadata": {},
   "source": [
    "First, we import the raw data and save it to a dataframe for further use."
   ]
  },
  {
   "cell_type": "code",
   "execution_count": 126,
   "metadata": {},
   "outputs": [
    {
     "data": {
      "text/html": [
       "<div>\n",
       "<style scoped>\n",
       "    .dataframe tbody tr th:only-of-type {\n",
       "        vertical-align: middle;\n",
       "    }\n",
       "\n",
       "    .dataframe tbody tr th {\n",
       "        vertical-align: top;\n",
       "    }\n",
       "\n",
       "    .dataframe thead th {\n",
       "        text-align: right;\n",
       "    }\n",
       "</style>\n",
       "<table border=\"1\" class=\"dataframe\">\n",
       "  <thead>\n",
       "    <tr style=\"text-align: right;\">\n",
       "      <th></th>\n",
       "      <th>ID</th>\n",
       "      <th>ID del Médico</th>\n",
       "      <th>Codigo Medico</th>\n",
       "      <th>Especialidad del Médico</th>\n",
       "      <th>¿Ha considerado ofrecer consultas  médicas a distancia (teleconsultas) a través de videoconferencias a sus pacientes?</th>\n",
       "      <th>¿Del 1 al 5, qué tan común considera que será que sus pacientes soliciten teleconsultas médicas para atender sus padecimientos?</th>\n",
       "      <th>¿Cuenta con alguna plataforma digital que le ayude con la administración de sus servicios médicos (Por Ejemplo: con la gestión de citas, pagos, seguimiento a pacientes)?</th>\n",
       "      <th>¿Cuáles?</th>\n",
       "      <th>¿Cuenta con alguna plataforma digital para ofrecer teleconsultas?</th>\n",
       "      <th>¿Cuáles?2</th>\n",
       "      <th>Seleccione las funcionalidades que considera importantes para que estén presentes en una plataforma digital que lo apoye con la gestión de sus servicios médicos.</th>\n",
       "      <th>¿Cuánto estaría dispuesto a pagar mensualmente por el uso de la plataforma descrita?</th>\n",
       "      <th>Si le ofrecieran una plataforma digital a un precio competitivo para facilitarle la gestión de su agenda de citas, cobros y seguimientos a pacientes, así como la posibilidad de llevar a cabo telec...</th>\n",
       "      <th>Fecha de nacimiento</th>\n",
       "    </tr>\n",
       "  </thead>\n",
       "  <tbody>\n",
       "    <tr>\n",
       "      <th>0</th>\n",
       "      <td>721</td>\n",
       "      <td>1511533</td>\n",
       "      <td>1511533</td>\n",
       "      <td>Endocrinólogo</td>\n",
       "      <td>SI</td>\n",
       "      <td>5: Totalmente Común</td>\n",
       "      <td>SI</td>\n",
       "      <td>No especifico, solicito llamada en agosto</td>\n",
       "      <td>SI</td>\n",
       "      <td>No especifico</td>\n",
       "      <td>Solicito llamada después, estaba ocupada;</td>\n",
       "      <td>No pagaría por una</td>\n",
       "      <td>3: Neutral</td>\n",
       "      <td>26/03/70</td>\n",
       "    </tr>\n",
       "    <tr>\n",
       "      <th>1</th>\n",
       "      <td>386</td>\n",
       "      <td>1561268</td>\n",
       "      <td>1561268</td>\n",
       "      <td>Endocrinólogo</td>\n",
       "      <td>SI</td>\n",
       "      <td>3: Neutral</td>\n",
       "      <td>NO</td>\n",
       "      <td>NaN</td>\n",
       "      <td>NO</td>\n",
       "      <td>NaN</td>\n",
       "      <td>Envío y recepción de documentos con cliente (e...</td>\n",
       "      <td>No pagaría por una</td>\n",
       "      <td>3: Neutral</td>\n",
       "      <td>29/05/77</td>\n",
       "    </tr>\n",
       "    <tr>\n",
       "      <th>2</th>\n",
       "      <td>652</td>\n",
       "      <td>1514853</td>\n",
       "      <td>1514853</td>\n",
       "      <td>Internista</td>\n",
       "      <td>SI</td>\n",
       "      <td>2: Poco común</td>\n",
       "      <td>NO</td>\n",
       "      <td>NaN</td>\n",
       "      <td>SI</td>\n",
       "      <td>Skype</td>\n",
       "      <td>Creación automática de videoconferencias con c...</td>\n",
       "      <td>No pagaría por una</td>\n",
       "      <td>1: No la utilizaría</td>\n",
       "      <td>01/01/78</td>\n",
       "    </tr>\n",
       "    <tr>\n",
       "      <th>3</th>\n",
       "      <td>362</td>\n",
       "      <td>2166821</td>\n",
       "      <td>2166821</td>\n",
       "      <td>Internista</td>\n",
       "      <td>SI</td>\n",
       "      <td>3: Neutral</td>\n",
       "      <td>NO</td>\n",
       "      <td>NaN</td>\n",
       "      <td>SI</td>\n",
       "      <td>Whatsap, zoom, meet</td>\n",
       "      <td>Envío y recepción de documentos con cliente (e...</td>\n",
       "      <td>No pagaría por una</td>\n",
       "      <td>2: Con poca regularidad</td>\n",
       "      <td>0</td>\n",
       "    </tr>\n",
       "    <tr>\n",
       "      <th>4</th>\n",
       "      <td>28</td>\n",
       "      <td>..</td>\n",
       "      <td>..</td>\n",
       "      <td>Internista</td>\n",
       "      <td>SI</td>\n",
       "      <td>4: Muy Común</td>\n",
       "      <td>NO</td>\n",
       "      <td>NaN</td>\n",
       "      <td>NO</td>\n",
       "      <td>NaN</td>\n",
       "      <td>Creación automática de videoconferencias con c...</td>\n",
       "      <td>Menos de $750</td>\n",
       "      <td>3: Neutral</td>\n",
       "      <td>0</td>\n",
       "    </tr>\n",
       "    <tr>\n",
       "      <th>...</th>\n",
       "      <td>...</td>\n",
       "      <td>...</td>\n",
       "      <td>...</td>\n",
       "      <td>...</td>\n",
       "      <td>...</td>\n",
       "      <td>...</td>\n",
       "      <td>...</td>\n",
       "      <td>...</td>\n",
       "      <td>...</td>\n",
       "      <td>...</td>\n",
       "      <td>...</td>\n",
       "      <td>...</td>\n",
       "      <td>...</td>\n",
       "      <td>...</td>\n",
       "    </tr>\n",
       "    <tr>\n",
       "      <th>760</th>\n",
       "      <td>533</td>\n",
       "      <td>joel</td>\n",
       "      <td>joel</td>\n",
       "      <td>Internista</td>\n",
       "      <td>NO</td>\n",
       "      <td>4: Muy Común</td>\n",
       "      <td>NO</td>\n",
       "      <td>NaN</td>\n",
       "      <td>NO</td>\n",
       "      <td>NaN</td>\n",
       "      <td>Creación automática de videoconferencias con c...</td>\n",
       "      <td>No pagaría por una</td>\n",
       "      <td>5: Regularmente</td>\n",
       "      <td>0</td>\n",
       "    </tr>\n",
       "    <tr>\n",
       "      <th>761</th>\n",
       "      <td>201</td>\n",
       "      <td>OZ</td>\n",
       "      <td>OZ</td>\n",
       "      <td>Internista</td>\n",
       "      <td>NO</td>\n",
       "      <td>5: Totalmente Común</td>\n",
       "      <td>NO</td>\n",
       "      <td>NaN</td>\n",
       "      <td>NO</td>\n",
       "      <td>NaN</td>\n",
       "      <td>Envío y recepción de documentos con cliente (e...</td>\n",
       "      <td>No pagaría por una</td>\n",
       "      <td>1: No la utilizaría</td>\n",
       "      <td>0</td>\n",
       "    </tr>\n",
       "    <tr>\n",
       "      <th>762</th>\n",
       "      <td>40</td>\n",
       "      <td>pitaluis</td>\n",
       "      <td>pitaluis</td>\n",
       "      <td>Internista</td>\n",
       "      <td>SI</td>\n",
       "      <td>2: Poco común</td>\n",
       "      <td>NO</td>\n",
       "      <td>NaN</td>\n",
       "      <td>NO</td>\n",
       "      <td>NaN</td>\n",
       "      <td>Creación automática de videoconferencias con c...</td>\n",
       "      <td>No pagaría por una</td>\n",
       "      <td>2: Con poca regularidad</td>\n",
       "      <td>0</td>\n",
       "    </tr>\n",
       "    <tr>\n",
       "      <th>763</th>\n",
       "      <td>63</td>\n",
       "      <td>Q531206</td>\n",
       "      <td>531206</td>\n",
       "      <td>Internista</td>\n",
       "      <td>NO</td>\n",
       "      <td>1: No será común</td>\n",
       "      <td>NO</td>\n",
       "      <td>NaN</td>\n",
       "      <td>NO</td>\n",
       "      <td>NaN</td>\n",
       "      <td>Administración de citas;</td>\n",
       "      <td>No pagaría por una</td>\n",
       "      <td>1: No la utilizaría</td>\n",
       "      <td>0</td>\n",
       "    </tr>\n",
       "    <tr>\n",
       "      <th>764</th>\n",
       "      <td>65</td>\n",
       "      <td>Q531296</td>\n",
       "      <td>531296</td>\n",
       "      <td>Internista</td>\n",
       "      <td>NO</td>\n",
       "      <td>1: No será común</td>\n",
       "      <td>SI</td>\n",
       "      <td>DOCTORALIA</td>\n",
       "      <td>NO</td>\n",
       "      <td>NaN</td>\n",
       "      <td>Administración de citas;</td>\n",
       "      <td>No pagaría por una</td>\n",
       "      <td>2: Con poca regularidad</td>\n",
       "      <td>0</td>\n",
       "    </tr>\n",
       "  </tbody>\n",
       "</table>\n",
       "<p>765 rows × 14 columns</p>\n",
       "</div>"
      ],
      "text/plain": [
       "      ID ID del Médico Codigo Medico Especialidad del Médico  \\\n",
       "0    721       1511533       1511533           Endocrinólogo   \n",
       "1    386       1561268       1561268           Endocrinólogo   \n",
       "2    652       1514853       1514853              Internista   \n",
       "3    362       2166821       2166821              Internista   \n",
       "4     28            ..            ..              Internista   \n",
       "..   ...           ...           ...                     ...   \n",
       "760  533         joel           joel              Internista   \n",
       "761  201            OZ            OZ              Internista   \n",
       "762   40      pitaluis      pitaluis              Internista   \n",
       "763   63       Q531206        531206              Internista   \n",
       "764   65       Q531296        531296              Internista   \n",
       "\n",
       "    ¿Ha considerado ofrecer consultas  médicas a distancia (teleconsultas) a través de videoconferencias a sus pacientes?  \\\n",
       "0                                                   SI                                                                      \n",
       "1                                                   SI                                                                      \n",
       "2                                                   SI                                                                      \n",
       "3                                                   SI                                                                      \n",
       "4                                                   SI                                                                      \n",
       "..                                                 ...                                                                      \n",
       "760                                                 NO                                                                      \n",
       "761                                                 NO                                                                      \n",
       "762                                                 SI                                                                      \n",
       "763                                                 NO                                                                      \n",
       "764                                                 NO                                                                      \n",
       "\n",
       "    ¿Del 1 al 5, qué tan común considera que será que sus pacientes soliciten teleconsultas médicas para atender sus padecimientos?  \\\n",
       "0                                 5: Totalmente Común                                                                                 \n",
       "1                                           3: Neutral                                                                                \n",
       "2                                        2: Poco común                                                                                \n",
       "3                                           3: Neutral                                                                                \n",
       "4                                         4: Muy Común                                                                                \n",
       "..                                                 ...                                                                                \n",
       "760                                       4: Muy Común                                                                                \n",
       "761                               5: Totalmente Común                                                                                 \n",
       "762                                      2: Poco común                                                                                \n",
       "763                                  1: No será común                                                                                 \n",
       "764                                  1: No será común                                                                                 \n",
       "\n",
       "    ¿Cuenta con alguna plataforma digital que le ayude con la administración de sus servicios médicos (Por Ejemplo: con la gestión de citas, pagos, seguimiento a pacientes)?  \\\n",
       "0                                                   SI                                                                                                                          \n",
       "1                                                   NO                                                                                                                          \n",
       "2                                                   NO                                                                                                                          \n",
       "3                                                   NO                                                                                                                          \n",
       "4                                                   NO                                                                                                                          \n",
       "..                                                 ...                                                                                                                          \n",
       "760                                                 NO                                                                                                                          \n",
       "761                                                 NO                                                                                                                          \n",
       "762                                                 NO                                                                                                                          \n",
       "763                                                 NO                                                                                                                          \n",
       "764                                                 SI                                                                                                                          \n",
       "\n",
       "                                      ¿Cuáles?  \\\n",
       "0    No especifico, solicito llamada en agosto   \n",
       "1                                          NaN   \n",
       "2                                          NaN   \n",
       "3                                          NaN   \n",
       "4                                          NaN   \n",
       "..                                         ...   \n",
       "760                                        NaN   \n",
       "761                                        NaN   \n",
       "762                                        NaN   \n",
       "763                                        NaN   \n",
       "764                                 DOCTORALIA   \n",
       "\n",
       "    ¿Cuenta con alguna plataforma digital para ofrecer teleconsultas?  \\\n",
       "0                                                   SI                  \n",
       "1                                                   NO                  \n",
       "2                                                   SI                  \n",
       "3                                                   SI                  \n",
       "4                                                   NO                  \n",
       "..                                                 ...                  \n",
       "760                                                 NO                  \n",
       "761                                                 NO                  \n",
       "762                                                 NO                  \n",
       "763                                                 NO                  \n",
       "764                                                 NO                  \n",
       "\n",
       "               ¿Cuáles?2  \\\n",
       "0          No especifico   \n",
       "1                    NaN   \n",
       "2                  Skype   \n",
       "3    Whatsap, zoom, meet   \n",
       "4                    NaN   \n",
       "..                   ...   \n",
       "760                  NaN   \n",
       "761                  NaN   \n",
       "762                  NaN   \n",
       "763                  NaN   \n",
       "764                  NaN   \n",
       "\n",
       "    Seleccione las funcionalidades que considera importantes para que estén presentes en una plataforma digital que lo apoye con la gestión de sus servicios médicos.  \\\n",
       "0            Solicito llamada después, estaba ocupada;                                                                                                                  \n",
       "1    Envío y recepción de documentos con cliente (e...                                                                                                                  \n",
       "2    Creación automática de videoconferencias con c...                                                                                                                  \n",
       "3    Envío y recepción de documentos con cliente (e...                                                                                                                  \n",
       "4    Creación automática de videoconferencias con c...                                                                                                                  \n",
       "..                                                 ...                                                                                                                  \n",
       "760  Creación automática de videoconferencias con c...                                                                                                                  \n",
       "761  Envío y recepción de documentos con cliente (e...                                                                                                                  \n",
       "762  Creación automática de videoconferencias con c...                                                                                                                  \n",
       "763                           Administración de citas;                                                                                                                  \n",
       "764                           Administración de citas;                                                                                                                  \n",
       "\n",
       "    ¿Cuánto estaría dispuesto a pagar mensualmente por el uso de la plataforma descrita?  \\\n",
       "0                                   No pagaría por una                                     \n",
       "1                                   No pagaría por una                                     \n",
       "2                                   No pagaría por una                                     \n",
       "3                                   No pagaría por una                                     \n",
       "4                                       Menos de $750                                      \n",
       "..                                                 ...                                     \n",
       "760                                 No pagaría por una                                     \n",
       "761                                 No pagaría por una                                     \n",
       "762                                 No pagaría por una                                     \n",
       "763                                 No pagaría por una                                     \n",
       "764                                 No pagaría por una                                     \n",
       "\n",
       "    Si le ofrecieran una plataforma digital a un precio competitivo para facilitarle la gestión de su agenda de citas, cobros y seguimientos a pacientes, así como la posibilidad de llevar a cabo telec...  \\\n",
       "0                                           3: Neutral                                                                                                                                                        \n",
       "1                                           3: Neutral                                                                                                                                                        \n",
       "2                                  1: No la utilizaría                                                                                                                                                        \n",
       "3                              2: Con poca regularidad                                                                                                                                                        \n",
       "4                                           3: Neutral                                                                                                                                                        \n",
       "..                                                 ...                                                                                                                                                        \n",
       "760                                    5: Regularmente                                                                                                                                                        \n",
       "761                                1: No la utilizaría                                                                                                                                                        \n",
       "762                            2: Con poca regularidad                                                                                                                                                        \n",
       "763                                1: No la utilizaría                                                                                                                                                        \n",
       "764                            2: Con poca regularidad                                                                                                                                                        \n",
       "\n",
       "    Fecha de nacimiento  \n",
       "0              26/03/70  \n",
       "1              29/05/77  \n",
       "2              01/01/78  \n",
       "3                     0  \n",
       "4                     0  \n",
       "..                  ...  \n",
       "760                   0  \n",
       "761                   0  \n",
       "762                   0  \n",
       "763                   0  \n",
       "764                   0  \n",
       "\n",
       "[765 rows x 14 columns]"
      ]
     },
     "execution_count": 126,
     "metadata": {},
     "output_type": "execute_result"
    }
   ],
   "source": [
    "data = pd.read_csv(\"project_data.csv\")\n",
    "data"
   ]
  },
  {
   "cell_type": "markdown",
   "metadata": {},
   "source": [
    "The original column names are stored in a list (in case they are needed). Then, they are changed to a shorter name for easier manipulation."
   ]
  },
  {
   "cell_type": "code",
   "execution_count": 127,
   "metadata": {},
   "outputs": [],
   "source": [
    "column_names = list(data.columns)"
   ]
  },
  {
   "cell_type": "code",
   "execution_count": 128,
   "metadata": {},
   "outputs": [],
   "source": [
    "data.columns = ['ID', 'IDMED', 'COD', 'ESP', 'P1_CONSULTAS', 'P2_RANKING', 'P3_PLAT ADMON', 'R3', 'P4_PLAT CONSULTA',\n",
    "               'R4', 'P5_ATRIBUTOS', 'P6_PAGO', 'P7_DISPOSICION', 'FNAC'] "
   ]
  },
  {
   "cell_type": "markdown",
   "metadata": {},
   "source": [
    "The objective of this subproject is to analyze _what are the attributes that doctors value the most in a technological platform that enhances their services_. This data is repesented in the answers given in column `P5_ATRIBUTOS`, therefore it will be stored in a separate object for further analysis."
   ]
  },
  {
   "cell_type": "code",
   "execution_count": 214,
   "metadata": {},
   "outputs": [
    {
     "data": {
      "text/plain": [
       "765"
      ]
     },
     "execution_count": 214,
     "metadata": {},
     "output_type": "execute_result"
    }
   ],
   "source": [
    "attributes = data[\"P5_ATRIBUTOS\"]\n",
    "attributes.size"
   ]
  },
  {
   "cell_type": "markdown",
   "metadata": {},
   "source": [
    "Since the data we are working with is of the type `string`, it will be first saved in a `list` that will be converted to a `string` afterwards."
   ]
  },
  {
   "cell_type": "code",
   "execution_count": 218,
   "metadata": {},
   "outputs": [],
   "source": [
    "raw_attributes = []\n",
    "\n",
    "for i in range(0, attributes.size):\n",
    "    text_i = str(attributes[i])\n",
    "    raw_attributes.append(text_i)      #List\n",
    "\n",
    "text_attributes = str(raw_attributes)  #String"
   ]
  },
  {
   "cell_type": "markdown",
   "metadata": {},
   "source": [
    "Then, the default answers are defined in different variables and are used to create an array named `answers`."
   ]
  },
  {
   "cell_type": "code",
   "execution_count": 134,
   "metadata": {},
   "outputs": [],
   "source": [
    "answer_1a = \"Creación automática de videoconferencias con clientes\"\n",
    "answer_1b = \"Creación automática de videoconferencias\"\n",
    "answer_2 = \"Envío y recepción de documentos con cliente (estudios, recetas médicas)\"\n",
    "answer_3 = \"Administración de citas\"\n",
    "answer_4 = \"Gestión de pagos\"\n",
    "answer_5 = \"Despliegue de encuestas de satisfacción de clientes\"\n",
    "answer_6 = \"Aplicación de promociones de descuento para clientes\"\n",
    "\n",
    "answers = [answer_1a, answer_1b, answer_2, answer_3, answer_4, answer_5, answer_6]"
   ]
  },
  {
   "cell_type": "markdown",
   "metadata": {},
   "source": [
    "The array `answers` is used to count the number of occurrences each answer has in the string `text_attributes`."
   ]
  },
  {
   "cell_type": "code",
   "execution_count": 135,
   "metadata": {},
   "outputs": [],
   "source": [
    "pre_counts = []\n",
    "\n",
    "for i in range(0, len(answers)):\n",
    "    count_i = text_attributes.count(answers[i])\n",
    "    pre_counts.append(count_i)"
   ]
  },
  {
   "cell_type": "markdown",
   "metadata": {},
   "source": [
    "The occurrences were stored in the arrary `pre_counts`. Since the default _answer 1_ was changed during the interview period, there are two possible answers that refer to the same one. Therefore, entries $0$ and $1$ are added to correctly represent this occurrence. The appropriate counts are stored in array `counts`."
   ]
  },
  {
   "cell_type": "code",
   "execution_count": 220,
   "metadata": {},
   "outputs": [
    {
     "data": {
      "text/plain": [
       "[536, 363, 379, 245, 90, 111]"
      ]
     },
     "execution_count": 220,
     "metadata": {},
     "output_type": "execute_result"
    }
   ],
   "source": [
    "counts = [pre_counts[0] + pre_counts[1], pre_counts[2], pre_counts[3], pre_counts[4], pre_counts[5], pre_counts[6]]\n",
    "counts"
   ]
  },
  {
   "cell_type": "markdown",
   "metadata": {},
   "source": [
    "**Plotting the default answers**"
   ]
  },
  {
   "cell_type": "markdown",
   "metadata": {},
   "source": [
    "Creating a label to be used in the plot."
   ]
  },
  {
   "cell_type": "code",
   "execution_count": 226,
   "metadata": {},
   "outputs": [],
   "source": [
    "label = \"1. \"+answer_1a+\"\\n\"+\"2. \"+answer_2+\"\\n\"+\"3. \"+answer_3+\"\\n\"+\"4. \"+answer_4+\"\\n\"+\"5. \"+answer_5+\"\\n\"+\"6. \"+answer_6"
   ]
  },
  {
   "cell_type": "code",
   "execution_count": 227,
   "metadata": {},
   "outputs": [
    {
     "data": {
      "image/png": "[encoded data removed]",
      "text/plain": [
       "<Figure size 1080x504 with 1 Axes>"
      ]
     },
     "metadata": {},
     "output_type": "display_data"
    }
   ],
   "source": [
    "sns.set_style(\"whitegrid\")\n",
    "fig = plt.figure(figsize = (15,7))\n",
    "\n",
    "x = np.arange(1,7,1)\n",
    "plt.bar(x, counts, color = [\"firebrick\",\"mediumpurple\",\"steelblue\",\"gray\",\"yellowgreen\",\"gold\"], edgecolor = \"black\")\n",
    "plt.text(3.73, 483, label, bbox = {\"facecolor\": \"white\"})  \n",
    "plt.axis([0.5, 6.5, 0, 600])\n",
    "plt.title(\"Frecuencia de respuestas predeterminadas\", fontsize = 16)\n",
    "plt.xlabel(\"Respuesta\", fontsize = 12)\n",
    "plt.ylabel(\"Frecuencia\", fontsize = 12)\n",
    "plt.show()"
   ]
  },
  {
   "cell_type": "markdown",
   "metadata": {},
   "source": [
    "We then want to show the default answers by percentages. For this matter, we will use a pie chart."
   ]
  },
  {
   "cell_type": "code",
   "execution_count": 228,
   "metadata": {},
   "outputs": [],
   "source": [
    "pie_answers = [answer_1a, answer_2, answer_3, answer_4, answer_5, answer_6]\n",
    "plot_info = pd.DataFrame({'Answer': pie_answers, 'Freq': counts,})\n",
    "pie_info = plot_info.sort_values(by = 'Freq', ascending = False)"
   ]
  },
  {
   "cell_type": "code",
   "execution_count": 236,
   "metadata": {},
   "outputs": [
    {
     "data": {
      "image/png": "[encoded data removed]",
      "text/plain": [
       "<Figure size 432x288 with 1 Axes>"
      ]
     },
     "metadata": {},
     "output_type": "display_data"
    }
   ],
   "source": [
    "sns.set_style(\"whitegrid\")\n",
    "plt.style.use(\"ggplot\")\n",
    "\n",
    "fig = plt.figure()\n",
    "ax = fig.add_axes([0,0,1,1])\n",
    "ax.axis('equal')\n",
    "ax.pie(pie_info.Freq, labels = pie_info.Answer, autopct = '%1.2f%%')\n",
    "plt.title(\"Frecuencia de respuestas predeterminadas\", fontsize = 16)\n",
    "plt.show()"
   ]
  },
  {
   "cell_type": "markdown",
   "metadata": {},
   "source": [
    "Next, we want to show if there is any correlation between the age of the doctors and their disposition to use an online platform (represented by selecting some of the default answers or no)."
   ]
  },
  {
   "cell_type": "markdown",
   "metadata": {},
   "source": [
    "For this, a new dataframe `birth_info` will be created with columns `P5_ATRIBUTOS`and `FNAC` of the raw data."
   ]
  },
  {
   "cell_type": "code",
   "execution_count": 252,
   "metadata": {},
   "outputs": [],
   "source": [
    "attributes2 = data[\"P5_ATRIBUTOS\"]\n",
    "birthdates = data[\"FNAC\"]"
   ]
  },
  {
   "cell_type": "code",
   "execution_count": 262,
   "metadata": {},
   "outputs": [],
   "source": [
    "birth_info = pd.DataFrame({'BirthDate': birthdates, 'Attributes': attributes2,})"
   ]
  },
  {
   "cell_type": "markdown",
   "metadata": {},
   "source": [
    "Then, we calculate an _approximate age_ based only on the birth year. We create a list `year` with this calculation, and the append it to the dataframe `birth_info`."
   ]
  },
  {
   "cell_type": "code",
   "execution_count": 263,
   "metadata": {},
   "outputs": [],
   "source": [
    "year = []\n",
    "for i in range(0,birth_info.shape[0]):\n",
    "    year_i = 120 - int(birth_info.BirthDate[i][-2:])\n",
    "    year.append(year_i)"
   ]
  },
  {
   "cell_type": "code",
   "execution_count": 264,
   "metadata": {},
   "outputs": [],
   "source": [
    "dfyear = pd.DataFrame(year, columns = [\"Age\"])"
   ]
  },
  {
   "cell_type": "code",
   "execution_count": 265,
   "metadata": {},
   "outputs": [],
   "source": [
    "birth_info[\"Age\"] = dfyear[\"Age\"]"
   ]
  },
  {
   "cell_type": "markdown",
   "metadata": {},
   "source": [
    "Now we add new `flag` columns to indicate wheter a default answer was selected (\"Yes\") or no (\"No\"). Additionally, the same is done for the optinal answer _\"Todas\"_."
   ]
  },
  {
   "cell_type": "code",
   "execution_count": 266,
   "metadata": {},
   "outputs": [
    {
     "data": {
      "text/plain": [
       "(765, 10)"
      ]
     },
     "execution_count": 266,
     "metadata": {},
     "output_type": "execute_result"
    }
   ],
   "source": [
    "birth_info['A1_flag'] = np.where(birth_info['Attributes'].str.contains(answer_1b), 'Yes', 'No')\n",
    "birth_info['A2_flag'] = np.where(birth_info['Attributes'].str.contains(\"Envío y recepción de documentos con cliente\"), 'Yes', 'No')\n",
    "birth_info['A3_flag'] = np.where(birth_info['Attributes'].str.contains(answer_3), 'Yes', 'No')\n",
    "birth_info['A4_flag'] = np.where(birth_info['Attributes'].str.contains(answer_4), 'Yes', 'No')\n",
    "birth_info['A5_flag'] = np.where(birth_info['Attributes'].str.contains(answer_5), 'Yes', 'No')\n",
    "birth_info['A6_flag'] = np.where(birth_info['Attributes'].str.contains(answer_6), 'Yes', 'No')\n",
    "birth_info['An_flag'] = np.where(birth_info['Attributes'].str.contains(\"Todas\"), 'Yes', 'No')\n",
    "birth_info.shape"
   ]
  },
  {
   "cell_type": "markdown",
   "metadata": {},
   "source": [
    "Later, we delete the rows in which no birth date was given, to exlude them from our analysis."
   ]
  },
  {
   "cell_type": "code",
   "execution_count": 267,
   "metadata": {},
   "outputs": [
    {
     "data": {
      "text/plain": [
       "(730, 10)"
      ]
     },
     "execution_count": 267,
     "metadata": {},
     "output_type": "execute_result"
    }
   ],
   "source": [
    "indexNames = birth_info[ (birth_info['Age'] == 120) | (birth_info['Age'] == 119) ].index\n",
    "birth_info.drop(indexNames, inplace = True)\n",
    "birth_info.shape"
   ]
  },
  {
   "cell_type": "markdown",
   "metadata": {},
   "source": [
    "Then, function `answers_pre` is defined to evaluate whether a `flag` column has `Yes` or `No`. It is later added to the dataframe `birth_info` in the new column `Boolean_Answer`."
   ]
  },
  {
   "cell_type": "code",
   "execution_count": 168,
   "metadata": {},
   "outputs": [],
   "source": [
    "def answers_pre (row):\n",
    "   if row[\"A1_flag\"] == \"Yes\" :\n",
    "      return \"Yes\"\n",
    "   if row[\"A2_flag\"] == \"Yes\" :\n",
    "      return \"Yes\"\n",
    "   if row[\"A3_flag\"] == \"Yes\" :\n",
    "      return \"Yes\"\n",
    "   if row[\"A4_flag\"] == \"Yes\":\n",
    "      return \"Yes\"\n",
    "   if row[\"A5_flag\"]  == \"Yes\":\n",
    "      return \"Yes\"\n",
    "   if row[\"A6_flag\"] == \"Yes\":\n",
    "      return \"Yes\"\n",
    "   if row[\"An_flag\"] == \"Yes\":\n",
    "      return \"Yes\"\n",
    "   return \"No\""
   ]
  },
  {
   "cell_type": "code",
   "execution_count": 268,
   "metadata": {},
   "outputs": [],
   "source": [
    "birth_info['Boolean_Answer'] = birth_info.apply (lambda row: answers_pre(row), axis = 1)"
   ]
  },
  {
   "cell_type": "markdown",
   "metadata": {},
   "source": [
    "Lastly, two sub dataframes are created both containing the age of the doctor. The first one is for when the doctor selected one of the default answers (`yes_df`), the second one for when he did not (`no_df`)."
   ]
  },
  {
   "cell_type": "code",
   "execution_count": 271,
   "metadata": {},
   "outputs": [
    {
     "data": {
      "text/plain": [
       "(627, 11)"
      ]
     },
     "execution_count": 271,
     "metadata": {},
     "output_type": "execute_result"
    }
   ],
   "source": [
    "yes_df = birth_info[birth_info['Boolean_Answer'] == \"Yes\"]\n",
    "yes_df.shape"
   ]
  },
  {
   "cell_type": "code",
   "execution_count": 272,
   "metadata": {},
   "outputs": [
    {
     "data": {
      "text/plain": [
       "(103, 11)"
      ]
     },
     "execution_count": 272,
     "metadata": {},
     "output_type": "execute_result"
    }
   ],
   "source": [
    "no_df = birth_info[birth_info['Boolean_Answer'] == \"No\"]\n",
    "no_df.shape"
   ]
  },
  {
   "cell_type": "markdown",
   "metadata": {},
   "source": [
    "Now we use these two sub dataframes to plot the age distribution of the two."
   ]
  },
  {
   "cell_type": "code",
   "execution_count": 278,
   "metadata": {},
   "outputs": [
    {
     "data": {
      "text/plain": [
       "<matplotlib.legend.Legend at 0x7fa0af610630>"
      ]
     },
     "execution_count": 278,
     "metadata": {},
     "output_type": "execute_result"
    },
    {
     "data": {
      "image/png": "[encoded data removed]",
      "text/plain": [
       "<Figure size 1080x504 with 1 Axes>"
      ]
     },
     "metadata": {},
     "output_type": "display_data"
    }
   ],
   "source": [
    "sns.set_style(\"whitegrid\")\n",
    "fig = plt.figure(figsize = (15,7))\n",
    "\n",
    "sns.distplot(yes_df[\"Age\"], color = \"green\", label = \"Answered Yes to any question\")\n",
    "sns.distplot(no_df[\"Age\"], color = \"red\", label = \"Answered No\")\n",
    "plt.title(\"Distribución de Edades\", fontsize = 16)\n",
    "plt.legend()"
   ]
  },
  {
   "cell_type": "markdown",
   "metadata": {},
   "source": [
    "We combine the two sub dataframes in order to make a scatter plot."
   ]
  },
  {
   "cell_type": "code",
   "execution_count": 275,
   "metadata": {},
   "outputs": [],
   "source": [
    "yes_info = pd.DataFrame({'Age': yes_df.Age, 'Boolean_Ans': yes_df.Boolean_Answer,})\n",
    "no_info = pd.DataFrame({'Age': no_df.Age, 'Boolean_Ans': no_df.Boolean_Answer,})\n",
    "scatter_info = yes_info.append(no_info)"
   ]
  },
  {
   "cell_type": "code",
   "execution_count": 277,
   "metadata": {},
   "outputs": [
    {
     "data": {
      "text/plain": [
       "Text(0.5, 1.0, 'Dispersión de Edades')"
      ]
     },
     "execution_count": 277,
     "metadata": {},
     "output_type": "execute_result"
    },
    {
     "data": {
      "image/png": "[encoded data removed]",
      "text/plain": [
       "<Figure size 1080x504 with 1 Axes>"
      ]
     },
     "metadata": {},
     "output_type": "display_data"
    }
   ],
   "source": [
    "fig = plt.figure(figsize = (15,7))\n",
    "sns.set_style(\"whitegrid\")\n",
    "\n",
    "sns.regplot(x = scatter_info[\"Age\"], y = scatter_info[\"Boolean_Ans\"], fit_reg = False, scatter_kws = {\"color\":\"darkred\",\"alpha\":0.3,\"s\":200})\n",
    "plt.title(\"Dispersión de Edades\", fontsize = 16)"
   ]
  },
  {
   "cell_type": "markdown",
   "metadata": {},
   "source": [
    "Based on the distribution and scatter plots, we conclude that there is no correlation between the age of the doctors and their disposition to use an online platform (represented by selecting some of the default answers or no)."
   ]
  },
  {
   "cell_type": "markdown",
   "metadata": {},
   "source": [
    "**Analyzing the inputs from the -optional- 7th answer**"
   ]
  },
  {
   "cell_type": "markdown",
   "metadata": {},
   "source": [
    "In case the doctor did not want to select one of the default answers, there was an _optional_ 7th answer in which they could write whatever they wanted. This \"free text\" needs to be part of the analysis."
   ]
  },
  {
   "cell_type": "markdown",
   "metadata": {},
   "source": [
    "We start by deleting the default answers from the string `text_attributes` and stored the new string in `pre_written_answers`."
   ]
  },
  {
   "cell_type": "code",
   "execution_count": 279,
   "metadata": {},
   "outputs": [],
   "source": [
    "pre_written_ans = text_attributes\n",
    "\n",
    "for i in range(0, len(answers)):\n",
    "    pre_written_ans = pre_written_ans.replace(str(answers[i]),\"\")\n",
    "    \n",
    "#print(pre_written_ans)"
   ]
  },
  {
   "cell_type": "markdown",
   "metadata": {},
   "source": [
    "This new string has to be filtered in order to remove characters as `;`, `'`, `,`, `[`, `]`, `(` and `)`. This is achieved with the following line of code."
   ]
  },
  {
   "cell_type": "code",
   "execution_count": 280,
   "metadata": {},
   "outputs": [],
   "source": [
    "pre_written_ans = pre_written_ans.translate({ord(i): None for i in \";',[]()\"})\n",
    "#pre_written_ans"
   ]
  },
  {
   "cell_type": "markdown",
   "metadata": {},
   "source": [
    "In order to obtain a better analysis, the words defined in array `to_replace` will be changed with the words defined in array `replaced`. This new string is saved in `written_ans`."
   ]
  },
  {
   "cell_type": "code",
   "execution_count": 29,
   "metadata": {},
   "outputs": [],
   "source": [
    "to_replace = [\"NO\", \"NINGUNA\", \"INTERESA\", \"intereza\", \"interezado\", \".\"]\n",
    "replaced = [\"No\", \"Ninguna\", \"interesa\", \"interesa\", \"interesa\", \"\"]"
   ]
  },
  {
   "cell_type": "code",
   "execution_count": 282,
   "metadata": {},
   "outputs": [],
   "source": [
    "written_ans = pre_written_ans\n",
    "\n",
    "for i in range(0, len(to_replace)):\n",
    "    written_ans = written_ans.replace(to_replace[i],replaced[i])\n",
    "    \n",
    "#written_ans"
   ]
  },
  {
   "cell_type": "markdown",
   "metadata": {},
   "source": [
    "Now, I will use the info provided in [Text Mining in Python](https://medium.com/towards-artificial-intelligence/text-mining-in-python-steps-and-examples-78b3f8fd913b) to do some language processing.\n",
    "\n",
    "First, we do a _tokenization_, which means breaking the string into tokens which in turn are small structures or units."
   ]
  },
  {
   "cell_type": "code",
   "execution_count": 283,
   "metadata": {},
   "outputs": [
    {
     "name": "stderr",
     "output_type": "stream",
     "text": [
      "[nltk_data] Downloading package punkt to /home/miuser/nltk_data...\n",
      "[nltk_data]   Package punkt is already up-to-date!\n"
     ]
    }
   ],
   "source": [
    "nltk.download('punkt')\n",
    "\n",
    "token_words = word_tokenize(written_ans)"
   ]
  },
  {
   "cell_type": "markdown",
   "metadata": {},
   "source": [
    "Then, we find the frequency of each token token. Aditionally, the top 40 words are identified and shown."
   ]
  },
  {
   "cell_type": "code",
   "execution_count": 284,
   "metadata": {},
   "outputs": [
    {
     "data": {
      "text/plain": [
       "[('No', 50),\n",
       " ('Ninguna', 15),\n",
       " ('interesa', 15),\n",
       " ('Que', 12),\n",
       " ('de', 11),\n",
       " ('le', 10),\n",
       " ('el', 10),\n",
       " ('la', 10),\n",
       " ('en', 8),\n",
       " ('me', 8),\n",
       " ('no', 7),\n",
       " ('a', 7),\n",
       " ('que', 7),\n",
       " ('Todas', 6),\n",
       " ('todo', 6),\n",
       " ('esta', 6),\n",
       " ('calidad', 5),\n",
       " ('y', 5),\n",
       " ('con', 5),\n",
       " ('lo', 5),\n",
       " ('nos', 5),\n",
       " ('es', 4),\n",
       " ('por', 4),\n",
       " ('muy', 4),\n",
       " ('buena', 3),\n",
       " ('apoye', 3),\n",
       " ('mi', 3),\n",
       " ('para', 3),\n",
       " ('pacientes', 3),\n",
       " ('varias', 3),\n",
       " ('o', 3),\n",
       " ('momento', 3),\n",
       " ('hospital', 3),\n",
       " ('informacion', 3),\n",
       " ('se', 3),\n",
       " ('interesado', 3),\n",
       " ('LE', 3),\n",
       " ('como', 3),\n",
       " ('he', 2),\n",
       " ('whats', 2)]"
      ]
     },
     "execution_count": 284,
     "metadata": {},
     "output_type": "execute_result"
    }
   ],
   "source": [
    "fdist = FreqDist(token_words)\n",
    "fdist_top = fdist.most_common(40)\n",
    "fdist_top"
   ]
  },
  {
   "cell_type": "markdown",
   "metadata": {},
   "source": [
    "We can see there are a lot of words that do not offer any value for the analysis. These are called _\"Stop words\"_ and are interpreted as the most common words in any language (in spanish they will be equivalent to _artículos, preposiciones, conjunciones, etc._). These words do not provide any meaning and are usually removed from texts. We will remove these stop words with the following code."
   ]
  },
  {
   "cell_type": "code",
   "execution_count": 286,
   "metadata": {},
   "outputs": [
    {
     "name": "stdout",
     "output_type": "stream",
     "text": [
      "['solicito', 'llamada', 'después', 'ocupada', 'ninguna', 'todas', 'funcional', 'prefiere', 'genera', 'físico', 'ofreca', 'buena', 'calidad', 'apoye', 'costo', 'ninguna', 'considerado', 'opcion', 'todas', 'asistente', 'usa', 'whats', 'app', 'pudiera', 'llevar', 'secretaria', 'creo', 'viable', 'requiere', 'usa', 'ofrezca', 'buena', 'calidad', 'apoye', 'calidad', 'wats', 'zoom', 'teams', 'incluso', 'webex', 'necesita', 'ninguna', 'gusta', 'interesaría', 'usaría', 'interesa', 'especificar', 'interesa', 'proporcionará', 'buen', 'precio', 'accesible', 'solo', 'seguimiento', 'considero', 'usar', 'platafromas', 'ninguna', 'atender', 'pacientes', 'modalidad', 'gratis', 'seguimiento', 'englobar', 'varias', 'interesa', 'dar', 'teleconsulta', 'interesa', 'informacion', 'utilizo', 'computadora', 'consultas', 'ninguna', 'utilidad', 'cosiderado', 'acostumbra', 'utiliza', 'usaria', 'interesa', 'ninguna', 'interesa', 'gestione', 'gran', 'parte', 'podria', 'ser', 'ayuda', 'casos', 'todas', 'especificar', 'momento', 'alguna', 'mente', 'informativa', 'buena', 'cálidad', 'ninguna', 'uso', 'informativa', 'informacion', 'laboratorios', 'gestionar', 'fresca', 'calidad', 'información', 'aplican', 'varias', 'plataformas', 'hospital', 'universitario', 'informacion', 'da', 'hospital', 'completa', 'considerará', 'varias', 'anteriores', 'formulario', 'previo', 'llenado', 'paciente', 'historia', 'clinica', 'ninguna', 'usaria', 'apoye', 'requisicion', 'mayoria', 'informacion', 'hospital', 'ninguna', 'momento', 'solo', 'whats', 'app', 'ninguna', 'interesa', 'plataformas', 'intereso', 'ninguna', 'realmente', 'necesita', 'ver', 'oaciente', 'interesa', 'útil', 'momento', 'interesado', 'hace', 'practico', 'utilizar', 'aplicaciones', 'creo', 'sustituya', 'consulta', 'interesa', 'interesa', 'interesan', 'plataformas', 'interesa', 'trabajado', 'skype', 'página', 'mato', 'clinic', 'consultante', 'ayudar', 'dar', 'diagnósticos', 'útil', 'vía', 'si', 'organiza', 'servidor', 'recetas', 'imprimir', 'útiles', 'bueno', 'agregando', 'hago', 'practica', 'privada', 'tarjeta', 'débito', 'traspasa', 'pago', 'bueno', 'hiciera', 'frecuente', 'gracias', 'dios', 'bendice', 'hospital', 'toda', 'informacion', 'conaiderado', 'ninguna', 'interesado', 'todas', 'ninguna', 'interesa', 'explorar', 'pacientes', 'dice', 'llame', 'agosto', 'utilizaría', 'informativo', 'interesa', 'interesa', 'necesita', 'ver', 'pacientes', 'quieren', 'ninguna', 'innecesarias', 'todas', 'interesado', 'requiero', 'ninguna', 'interesa', 'realmente', 'competitiva', 'calidad', 'nivel', 'cara', 'ninguna', 'todas']\n"
     ]
    },
    {
     "name": "stderr",
     "output_type": "stream",
     "text": [
      "[nltk_data] Downloading package stopwords to /home/miuser/nltk_data...\n",
      "[nltk_data]   Package stopwords is already up-to-date!\n"
     ]
    }
   ],
   "source": [
    "nltk.download('stopwords')\n",
    "a = set(stopwords.words('spanish'))\n",
    "\n",
    "pre_processed_text = word_tokenize(written_ans.lower())\n",
    "processed_text = [x for x in pre_processed_text if x not in a]\n",
    "\n",
    "print(processed_text)"
   ]
  },
  {
   "cell_type": "code",
   "execution_count": 42,
   "metadata": {},
   "outputs": [],
   "source": [
    "fdist2 = FreqDist(processed_text)"
   ]
  },
  {
   "cell_type": "code",
   "execution_count": 43,
   "metadata": {},
   "outputs": [
    {
     "data": {
      "text/plain": [
       "[('ninguna', 16),\n",
       " ('interesa', 15),\n",
       " ('todas', 6),\n",
       " ('calidad', 5),\n",
       " ('informacion', 5),\n",
       " ('hospital', 4),\n",
       " ('buena', 3),\n",
       " ('apoye', 3),\n",
       " ('necesita', 3),\n",
       " ('pacientes', 3),\n",
       " ('varias', 3),\n",
       " ('momento', 3),\n",
       " ('plataformas', 3),\n",
       " ('interesado', 3),\n",
       " ('usa', 2),\n",
       " ('whats', 2),\n",
       " ('app', 2),\n",
       " ('creo', 2),\n",
       " ('especificar', 2),\n",
       " ('solo', 2),\n",
       " ('seguimiento', 2),\n",
       " ('dar', 2),\n",
       " ('usaria', 2),\n",
       " ('informativa', 2),\n",
       " ('realmente', 2),\n",
       " ('ver', 2),\n",
       " ('útil', 2),\n",
       " ('bueno', 2),\n",
       " ('solicito', 1),\n",
       " ('llamada', 1),\n",
       " ('después', 1),\n",
       " ('ocupada', 1),\n",
       " ('funcional', 1),\n",
       " ('prefiere', 1),\n",
       " ('genera', 1),\n",
       " ('físico', 1),\n",
       " ('ofreca', 1),\n",
       " ('costo', 1),\n",
       " ('considerado', 1),\n",
       " ('opcion', 1),\n",
       " ('asistente', 1),\n",
       " ('pudiera', 1),\n",
       " ('llevar', 1),\n",
       " ('secretaria', 1),\n",
       " ('viable', 1),\n",
       " ('requiere', 1),\n",
       " ('ofrezca', 1),\n",
       " ('wats', 1),\n",
       " ('zoom', 1),\n",
       " ('teams', 1)]"
      ]
     },
     "execution_count": 43,
     "metadata": {},
     "output_type": "execute_result"
    }
   ],
   "source": [
    "fdist_top2 = fdist2.most_common(50)\n",
    "fdist_top2"
   ]
  },
  {
   "cell_type": "code",
   "execution_count": null,
   "metadata": {},
   "outputs": [],
   "source": []
  },
  {
   "cell_type": "code",
   "execution_count": null,
   "metadata": {},
   "outputs": [],
   "source": []
  },
  {
   "cell_type": "code",
   "execution_count": null,
   "metadata": {},
   "outputs": [],
   "source": []
  }
 ],
 "metadata": {
  "kernelspec": {
   "display_name": "Python 3",
   "language": "python",
   "name": "python3"
  },
  "language_info": {
   "codemirror_mode": {
    "name": "ipython",
    "version": 3
   },
   "file_extension": ".py",
   "mimetype": "text/x-python",
   "name": "python",
   "nbconvert_exporter": "python",
   "pygments_lexer": "ipython3",
   "version": "3.6.9"
  }
 },
 "nbformat": 4,
 "nbformat_minor": 4
}
