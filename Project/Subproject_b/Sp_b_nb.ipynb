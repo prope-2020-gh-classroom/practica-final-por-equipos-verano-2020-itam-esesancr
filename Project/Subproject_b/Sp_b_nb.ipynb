{
 "cells": [
  {
   "cell_type": "markdown",
   "metadata": {},
   "source": [
    "# Subproject b\n",
    "- Platform attributes\n",
    "- Author: Cecilia Avilés Robles (GitHub: cecyar) (mail: cecyar@gmail.com)"
   ]
  },
  {
   "cell_type": "markdown",
   "metadata": {},
   "source": [
    "---"
   ]
  },
  {
   "cell_type": "code",
   "execution_count": 495,
   "metadata": {},
   "outputs": [],
   "source": [
    "!pip install --user -q nltk"
   ]
  },
  {
   "cell_type": "code",
   "execution_count": 496,
   "metadata": {},
   "outputs": [],
   "source": [
    "import pandas as pd\n",
    "import numpy as np\n",
    "import matplotlib.pyplot as plt"
   ]
  },
  {
   "cell_type": "code",
   "execution_count": 497,
   "metadata": {},
   "outputs": [],
   "source": [
    "#import os\n",
    "#import nltk\n",
    "#import nltk.corpus\n",
    "#from nltk import word_tokenize\n",
    "#from nltk.tokenize import word_tokenize\n",
    "#from nltk.probability import FreqDist\n",
    "#from nltk.corpus import stopwords"
   ]
  },
  {
   "cell_type": "code",
   "execution_count": 498,
   "metadata": {},
   "outputs": [],
   "source": [
    "import os\n",
    "from nltk import * "
   ]
  },
  {
   "cell_type": "code",
   "execution_count": 499,
   "metadata": {},
   "outputs": [],
   "source": [
    "#nltk.download('punkt')\n",
    "#nltk.download('stopwords')"
   ]
  },
  {
   "cell_type": "code",
   "execution_count": 500,
   "metadata": {},
   "outputs": [
    {
     "data": {
      "text/html": [
       "<div>\n",
       "<style scoped>\n",
       "    .dataframe tbody tr th:only-of-type {\n",
       "        vertical-align: middle;\n",
       "    }\n",
       "\n",
       "    .dataframe tbody tr th {\n",
       "        vertical-align: top;\n",
       "    }\n",
       "\n",
       "    .dataframe thead th {\n",
       "        text-align: right;\n",
       "    }\n",
       "</style>\n",
       "<table border=\"1\" class=\"dataframe\">\n",
       "  <thead>\n",
       "    <tr style=\"text-align: right;\">\n",
       "      <th></th>\n",
       "      <th>ID</th>\n",
       "      <th>ID del Médico</th>\n",
       "      <th>Codigo Medico</th>\n",
       "      <th>Especialidad del Médico</th>\n",
       "      <th>¿Ha considerado ofrecer consultas  médicas a distancia (teleconsultas) a través de videoconferencias a sus pacientes?</th>\n",
       "      <th>¿Del 1 al 5, qué tan común considera que será que sus pacientes soliciten teleconsultas médicas para atender sus padecimientos?</th>\n",
       "      <th>¿Cuenta con alguna plataforma digital que le ayude con la administración de sus servicios médicos (Por Ejemplo: con la gestión de citas, pagos, seguimiento a pacientes)?</th>\n",
       "      <th>¿Cuáles?</th>\n",
       "      <th>¿Cuenta con alguna plataforma digital para ofrecer teleconsultas?</th>\n",
       "      <th>¿Cuáles?2</th>\n",
       "      <th>Seleccione las funcionalidades que considera importantes para que estén presentes en una plataforma digital que lo apoye con la gestión de sus servicios médicos.</th>\n",
       "      <th>¿Cuánto estaría dispuesto a pagar mensualmente por el uso de la plataforma descrita?</th>\n",
       "      <th>Si le ofrecieran una plataforma digital a un precio competitivo para facilitarle la gestión de su agenda de citas, cobros y seguimientos a pacientes, así como la posibilidad de llevar a cabo telec...</th>\n",
       "      <th>Fecha de nacimiento</th>\n",
       "    </tr>\n",
       "  </thead>\n",
       "  <tbody>\n",
       "    <tr>\n",
       "      <th>0</th>\n",
       "      <td>721</td>\n",
       "      <td>1511533</td>\n",
       "      <td>1511533</td>\n",
       "      <td>Endocrinólogo</td>\n",
       "      <td>SI</td>\n",
       "      <td>5: Totalmente Común</td>\n",
       "      <td>SI</td>\n",
       "      <td>No especifico, solicito llamada en agosto</td>\n",
       "      <td>SI</td>\n",
       "      <td>No especifico</td>\n",
       "      <td>Solicito llamada después, estaba ocupada;</td>\n",
       "      <td>No pagaría por una</td>\n",
       "      <td>3: Neutral</td>\n",
       "      <td>26/03/70</td>\n",
       "    </tr>\n",
       "    <tr>\n",
       "      <th>1</th>\n",
       "      <td>386</td>\n",
       "      <td>1561268</td>\n",
       "      <td>1561268</td>\n",
       "      <td>Endocrinólogo</td>\n",
       "      <td>SI</td>\n",
       "      <td>3: Neutral</td>\n",
       "      <td>NO</td>\n",
       "      <td>NaN</td>\n",
       "      <td>NO</td>\n",
       "      <td>NaN</td>\n",
       "      <td>Envío y recepción de documentos con cliente (e...</td>\n",
       "      <td>No pagaría por una</td>\n",
       "      <td>3: Neutral</td>\n",
       "      <td>29/05/77</td>\n",
       "    </tr>\n",
       "    <tr>\n",
       "      <th>2</th>\n",
       "      <td>652</td>\n",
       "      <td>1514853</td>\n",
       "      <td>1514853</td>\n",
       "      <td>Internista</td>\n",
       "      <td>SI</td>\n",
       "      <td>2: Poco común</td>\n",
       "      <td>NO</td>\n",
       "      <td>NaN</td>\n",
       "      <td>SI</td>\n",
       "      <td>Skype</td>\n",
       "      <td>Creación automática de videoconferencias con c...</td>\n",
       "      <td>No pagaría por una</td>\n",
       "      <td>1: No la utilizaría</td>\n",
       "      <td>01/01/78</td>\n",
       "    </tr>\n",
       "    <tr>\n",
       "      <th>3</th>\n",
       "      <td>362</td>\n",
       "      <td>2166821</td>\n",
       "      <td>2166821</td>\n",
       "      <td>Internista</td>\n",
       "      <td>SI</td>\n",
       "      <td>3: Neutral</td>\n",
       "      <td>NO</td>\n",
       "      <td>NaN</td>\n",
       "      <td>SI</td>\n",
       "      <td>Whatsap, zoom, meet</td>\n",
       "      <td>Envío y recepción de documentos con cliente (e...</td>\n",
       "      <td>No pagaría por una</td>\n",
       "      <td>2: Con poca regularidad</td>\n",
       "      <td>0</td>\n",
       "    </tr>\n",
       "    <tr>\n",
       "      <th>4</th>\n",
       "      <td>28</td>\n",
       "      <td>..</td>\n",
       "      <td>..</td>\n",
       "      <td>Internista</td>\n",
       "      <td>SI</td>\n",
       "      <td>4: Muy Común</td>\n",
       "      <td>NO</td>\n",
       "      <td>NaN</td>\n",
       "      <td>NO</td>\n",
       "      <td>NaN</td>\n",
       "      <td>Creación automática de videoconferencias con c...</td>\n",
       "      <td>Menos de $750</td>\n",
       "      <td>3: Neutral</td>\n",
       "      <td>0</td>\n",
       "    </tr>\n",
       "    <tr>\n",
       "      <th>...</th>\n",
       "      <td>...</td>\n",
       "      <td>...</td>\n",
       "      <td>...</td>\n",
       "      <td>...</td>\n",
       "      <td>...</td>\n",
       "      <td>...</td>\n",
       "      <td>...</td>\n",
       "      <td>...</td>\n",
       "      <td>...</td>\n",
       "      <td>...</td>\n",
       "      <td>...</td>\n",
       "      <td>...</td>\n",
       "      <td>...</td>\n",
       "      <td>...</td>\n",
       "    </tr>\n",
       "    <tr>\n",
       "      <th>760</th>\n",
       "      <td>533</td>\n",
       "      <td>joel</td>\n",
       "      <td>joel</td>\n",
       "      <td>Internista</td>\n",
       "      <td>NO</td>\n",
       "      <td>4: Muy Común</td>\n",
       "      <td>NO</td>\n",
       "      <td>NaN</td>\n",
       "      <td>NO</td>\n",
       "      <td>NaN</td>\n",
       "      <td>Creación automática de videoconferencias con c...</td>\n",
       "      <td>No pagaría por una</td>\n",
       "      <td>5: Regularmente</td>\n",
       "      <td>0</td>\n",
       "    </tr>\n",
       "    <tr>\n",
       "      <th>761</th>\n",
       "      <td>201</td>\n",
       "      <td>OZ</td>\n",
       "      <td>OZ</td>\n",
       "      <td>Internista</td>\n",
       "      <td>NO</td>\n",
       "      <td>5: Totalmente Común</td>\n",
       "      <td>NO</td>\n",
       "      <td>NaN</td>\n",
       "      <td>NO</td>\n",
       "      <td>NaN</td>\n",
       "      <td>Envío y recepción de documentos con cliente (e...</td>\n",
       "      <td>No pagaría por una</td>\n",
       "      <td>1: No la utilizaría</td>\n",
       "      <td>0</td>\n",
       "    </tr>\n",
       "    <tr>\n",
       "      <th>762</th>\n",
       "      <td>40</td>\n",
       "      <td>pitaluis</td>\n",
       "      <td>pitaluis</td>\n",
       "      <td>Internista</td>\n",
       "      <td>SI</td>\n",
       "      <td>2: Poco común</td>\n",
       "      <td>NO</td>\n",
       "      <td>NaN</td>\n",
       "      <td>NO</td>\n",
       "      <td>NaN</td>\n",
       "      <td>Creación automática de videoconferencias con c...</td>\n",
       "      <td>No pagaría por una</td>\n",
       "      <td>2: Con poca regularidad</td>\n",
       "      <td>0</td>\n",
       "    </tr>\n",
       "    <tr>\n",
       "      <th>763</th>\n",
       "      <td>63</td>\n",
       "      <td>Q531206</td>\n",
       "      <td>531206</td>\n",
       "      <td>Internista</td>\n",
       "      <td>NO</td>\n",
       "      <td>1: No será común</td>\n",
       "      <td>NO</td>\n",
       "      <td>NaN</td>\n",
       "      <td>NO</td>\n",
       "      <td>NaN</td>\n",
       "      <td>Administración de citas;</td>\n",
       "      <td>No pagaría por una</td>\n",
       "      <td>1: No la utilizaría</td>\n",
       "      <td>0</td>\n",
       "    </tr>\n",
       "    <tr>\n",
       "      <th>764</th>\n",
       "      <td>65</td>\n",
       "      <td>Q531296</td>\n",
       "      <td>531296</td>\n",
       "      <td>Internista</td>\n",
       "      <td>NO</td>\n",
       "      <td>1: No será común</td>\n",
       "      <td>SI</td>\n",
       "      <td>DOCTORALIA</td>\n",
       "      <td>NO</td>\n",
       "      <td>NaN</td>\n",
       "      <td>Administración de citas;</td>\n",
       "      <td>No pagaría por una</td>\n",
       "      <td>2: Con poca regularidad</td>\n",
       "      <td>0</td>\n",
       "    </tr>\n",
       "  </tbody>\n",
       "</table>\n",
       "<p>765 rows × 14 columns</p>\n",
       "</div>"
      ],
      "text/plain": [
       "      ID ID del Médico Codigo Medico Especialidad del Médico  \\\n",
       "0    721       1511533       1511533           Endocrinólogo   \n",
       "1    386       1561268       1561268           Endocrinólogo   \n",
       "2    652       1514853       1514853              Internista   \n",
       "3    362       2166821       2166821              Internista   \n",
       "4     28            ..            ..              Internista   \n",
       "..   ...           ...           ...                     ...   \n",
       "760  533         joel           joel              Internista   \n",
       "761  201            OZ            OZ              Internista   \n",
       "762   40      pitaluis      pitaluis              Internista   \n",
       "763   63       Q531206        531206              Internista   \n",
       "764   65       Q531296        531296              Internista   \n",
       "\n",
       "    ¿Ha considerado ofrecer consultas  médicas a distancia (teleconsultas) a través de videoconferencias a sus pacientes?  \\\n",
       "0                                                   SI                                                                      \n",
       "1                                                   SI                                                                      \n",
       "2                                                   SI                                                                      \n",
       "3                                                   SI                                                                      \n",
       "4                                                   SI                                                                      \n",
       "..                                                 ...                                                                      \n",
       "760                                                 NO                                                                      \n",
       "761                                                 NO                                                                      \n",
       "762                                                 SI                                                                      \n",
       "763                                                 NO                                                                      \n",
       "764                                                 NO                                                                      \n",
       "\n",
       "    ¿Del 1 al 5, qué tan común considera que será que sus pacientes soliciten teleconsultas médicas para atender sus padecimientos?  \\\n",
       "0                                 5: Totalmente Común                                                                                 \n",
       "1                                           3: Neutral                                                                                \n",
       "2                                        2: Poco común                                                                                \n",
       "3                                           3: Neutral                                                                                \n",
       "4                                         4: Muy Común                                                                                \n",
       "..                                                 ...                                                                                \n",
       "760                                       4: Muy Común                                                                                \n",
       "761                               5: Totalmente Común                                                                                 \n",
       "762                                      2: Poco común                                                                                \n",
       "763                                  1: No será común                                                                                 \n",
       "764                                  1: No será común                                                                                 \n",
       "\n",
       "    ¿Cuenta con alguna plataforma digital que le ayude con la administración de sus servicios médicos (Por Ejemplo: con la gestión de citas, pagos, seguimiento a pacientes)?  \\\n",
       "0                                                   SI                                                                                                                          \n",
       "1                                                   NO                                                                                                                          \n",
       "2                                                   NO                                                                                                                          \n",
       "3                                                   NO                                                                                                                          \n",
       "4                                                   NO                                                                                                                          \n",
       "..                                                 ...                                                                                                                          \n",
       "760                                                 NO                                                                                                                          \n",
       "761                                                 NO                                                                                                                          \n",
       "762                                                 NO                                                                                                                          \n",
       "763                                                 NO                                                                                                                          \n",
       "764                                                 SI                                                                                                                          \n",
       "\n",
       "                                      ¿Cuáles?  \\\n",
       "0    No especifico, solicito llamada en agosto   \n",
       "1                                          NaN   \n",
       "2                                          NaN   \n",
       "3                                          NaN   \n",
       "4                                          NaN   \n",
       "..                                         ...   \n",
       "760                                        NaN   \n",
       "761                                        NaN   \n",
       "762                                        NaN   \n",
       "763                                        NaN   \n",
       "764                                 DOCTORALIA   \n",
       "\n",
       "    ¿Cuenta con alguna plataforma digital para ofrecer teleconsultas?  \\\n",
       "0                                                   SI                  \n",
       "1                                                   NO                  \n",
       "2                                                   SI                  \n",
       "3                                                   SI                  \n",
       "4                                                   NO                  \n",
       "..                                                 ...                  \n",
       "760                                                 NO                  \n",
       "761                                                 NO                  \n",
       "762                                                 NO                  \n",
       "763                                                 NO                  \n",
       "764                                                 NO                  \n",
       "\n",
       "               ¿Cuáles?2  \\\n",
       "0          No especifico   \n",
       "1                    NaN   \n",
       "2                  Skype   \n",
       "3    Whatsap, zoom, meet   \n",
       "4                    NaN   \n",
       "..                   ...   \n",
       "760                  NaN   \n",
       "761                  NaN   \n",
       "762                  NaN   \n",
       "763                  NaN   \n",
       "764                  NaN   \n",
       "\n",
       "    Seleccione las funcionalidades que considera importantes para que estén presentes en una plataforma digital que lo apoye con la gestión de sus servicios médicos.  \\\n",
       "0            Solicito llamada después, estaba ocupada;                                                                                                                  \n",
       "1    Envío y recepción de documentos con cliente (e...                                                                                                                  \n",
       "2    Creación automática de videoconferencias con c...                                                                                                                  \n",
       "3    Envío y recepción de documentos con cliente (e...                                                                                                                  \n",
       "4    Creación automática de videoconferencias con c...                                                                                                                  \n",
       "..                                                 ...                                                                                                                  \n",
       "760  Creación automática de videoconferencias con c...                                                                                                                  \n",
       "761  Envío y recepción de documentos con cliente (e...                                                                                                                  \n",
       "762  Creación automática de videoconferencias con c...                                                                                                                  \n",
       "763                           Administración de citas;                                                                                                                  \n",
       "764                           Administración de citas;                                                                                                                  \n",
       "\n",
       "    ¿Cuánto estaría dispuesto a pagar mensualmente por el uso de la plataforma descrita?  \\\n",
       "0                                   No pagaría por una                                     \n",
       "1                                   No pagaría por una                                     \n",
       "2                                   No pagaría por una                                     \n",
       "3                                   No pagaría por una                                     \n",
       "4                                       Menos de $750                                      \n",
       "..                                                 ...                                     \n",
       "760                                 No pagaría por una                                     \n",
       "761                                 No pagaría por una                                     \n",
       "762                                 No pagaría por una                                     \n",
       "763                                 No pagaría por una                                     \n",
       "764                                 No pagaría por una                                     \n",
       "\n",
       "    Si le ofrecieran una plataforma digital a un precio competitivo para facilitarle la gestión de su agenda de citas, cobros y seguimientos a pacientes, así como la posibilidad de llevar a cabo telec...  \\\n",
       "0                                           3: Neutral                                                                                                                                                        \n",
       "1                                           3: Neutral                                                                                                                                                        \n",
       "2                                  1: No la utilizaría                                                                                                                                                        \n",
       "3                              2: Con poca regularidad                                                                                                                                                        \n",
       "4                                           3: Neutral                                                                                                                                                        \n",
       "..                                                 ...                                                                                                                                                        \n",
       "760                                    5: Regularmente                                                                                                                                                        \n",
       "761                                1: No la utilizaría                                                                                                                                                        \n",
       "762                            2: Con poca regularidad                                                                                                                                                        \n",
       "763                                1: No la utilizaría                                                                                                                                                        \n",
       "764                            2: Con poca regularidad                                                                                                                                                        \n",
       "\n",
       "    Fecha de nacimiento  \n",
       "0              26/03/70  \n",
       "1              29/05/77  \n",
       "2              01/01/78  \n",
       "3                     0  \n",
       "4                     0  \n",
       "..                  ...  \n",
       "760                   0  \n",
       "761                   0  \n",
       "762                   0  \n",
       "763                   0  \n",
       "764                   0  \n",
       "\n",
       "[765 rows x 14 columns]"
      ]
     },
     "execution_count": 500,
     "metadata": {},
     "output_type": "execute_result"
    }
   ],
   "source": [
    "data = pd.read_csv(\"project_data.csv\")\n",
    "data"
   ]
  },
  {
   "cell_type": "code",
   "execution_count": 501,
   "metadata": {},
   "outputs": [],
   "source": [
    "column_names = list(data.columns)"
   ]
  },
  {
   "cell_type": "code",
   "execution_count": 502,
   "metadata": {},
   "outputs": [],
   "source": [
    "data.columns = ['ID', 'IDMED', 'COD', 'ESP', 'P1_CONSULTAS', 'P2_RANKING', 'P3_PLAT ADMON', 'R3', 'P4_PLAT CONSULTA',\n",
    "               'R4', 'P5_ATRIBUTOS', 'P6_PAGO', 'P7_DISPOSICION', 'FNAC'] "
   ]
  },
  {
   "cell_type": "code",
   "execution_count": 503,
   "metadata": {},
   "outputs": [
    {
     "name": "stdout",
     "output_type": "stream",
     "text": [
      "Index(['ID', 'IDMED', 'COD', 'ESP', 'P1_CONSULTAS', 'P2_RANKING',\n",
      "       'P3_PLAT ADMON', 'R3', 'P4_PLAT CONSULTA', 'R4', 'P5_ATRIBUTOS',\n",
      "       'P6_PAGO', 'P7_DISPOSICION', 'FNAC'],\n",
      "      dtype='object')\n"
     ]
    }
   ],
   "source": [
    "print(data.columns)"
   ]
  },
  {
   "cell_type": "code",
   "execution_count": 504,
   "metadata": {},
   "outputs": [],
   "source": [
    "attributes = data[\"P5_ATRIBUTOS\"]"
   ]
  },
  {
   "cell_type": "code",
   "execution_count": 505,
   "metadata": {},
   "outputs": [
    {
     "data": {
      "text/plain": [
       "765"
      ]
     },
     "execution_count": 505,
     "metadata": {},
     "output_type": "execute_result"
    }
   ],
   "source": [
    "attributes.size"
   ]
  },
  {
   "cell_type": "code",
   "execution_count": 506,
   "metadata": {},
   "outputs": [],
   "source": [
    "raw_attributes = []\n",
    "\n",
    "for i in range(0, attributes.size):\n",
    "    text_i = str(attributes[i])\n",
    "    raw_attributes.append(text_i)\n",
    "\n",
    "text_attributes = str(raw_attributes)"
   ]
  },
  {
   "cell_type": "code",
   "execution_count": 507,
   "metadata": {},
   "outputs": [],
   "source": [
    "#text_attributes"
   ]
  },
  {
   "cell_type": "code",
   "execution_count": 508,
   "metadata": {},
   "outputs": [],
   "source": [
    "answer_1a = \"Creación automática de videoconferencias con clientes\"\n",
    "answer_1b = \"Creación automática de videoconferencias\"\n",
    "answer_2 = \"Envío y recepción de documentos con cliente (estudios, recetas médicas)\"\n",
    "answer_3 = \"Administración de citas\"\n",
    "answer_4 = \"Gestión de pagos\"\n",
    "answer_5 = \"Despliegue de encuestas de satisfacción de clientes\"\n",
    "answer_6 = \"Aplicación de promociones de descuento para clientes\"\n",
    "\n",
    "answers = [answer_1a, answer_1b, answer_2, answer_3, answer_4, answer_5, answer_6]"
   ]
  },
  {
   "cell_type": "code",
   "execution_count": 509,
   "metadata": {},
   "outputs": [],
   "source": [
    "pre_counts = []\n",
    "\n",
    "for i in range(0, len(answers)):\n",
    "    count_i = text_attributes.count(answers[i])\n",
    "    pre_counts.append(count_i)"
   ]
  },
  {
   "cell_type": "code",
   "execution_count": 510,
   "metadata": {},
   "outputs": [
    {
     "data": {
      "text/plain": [
       "[536, 363, 379, 245, 90, 111]"
      ]
     },
     "execution_count": 510,
     "metadata": {},
     "output_type": "execute_result"
    }
   ],
   "source": [
    "counts = [pre_counts[0] + pre_counts[1], pre_counts[2], pre_counts[3], pre_counts[4], pre_counts[5], pre_counts[6]]\n",
    "counts"
   ]
  },
  {
   "cell_type": "code",
   "execution_count": 511,
   "metadata": {},
   "outputs": [],
   "source": [
    "label_answers = \"1. \" + answer_1a + \"\\n\" + \"2. \" + answer_2 + \"\\n\" + \"3. \" + answer_3 + \"\\n\" + \"4. \" + answer_4 + \"\\n\" + \"5. \" + answer_5 + \"\\n\" + \"6. \" + answer_6"
   ]
  },
  {
   "cell_type": "code",
   "execution_count": 512,
   "metadata": {},
   "outputs": [
    {
     "data": {
      "image/png": "[encoded data removed]",
      "text/plain": [
       "<Figure size 1080x504 with 1 Axes>"
      ]
     },
     "metadata": {},
     "output_type": "display_data"
    }
   ],
   "source": [
    "import seaborn as sns\n",
    "\n",
    "sns.set_style(\"whitegrid\")\n",
    "fig = plt.figure(figsize = (15,7))\n",
    "x = np.arange(1,7,1)\n",
    "\n",
    "plt.bar(x, counts, color = ['firebrick','mediumpurple','steelblue','gray','yellowgreen','gold'], edgecolor = 'black')\n",
    "plt.text(3.73, 483, label_answers, bbox = {\"facecolor\": \"white\"})  #loc='best'\n",
    "plt.axis([0.5, 6.5, 0, 600])\n",
    "plt.title(\"Frecuencia de respuestas predeterminadas\", fontsize = 16)\n",
    "plt.xlabel(\"Respuesta\", fontsize = 12)\n",
    "plt.ylabel(\"Frecuencia\", fontsize = 12)\n",
    "plt.show()"
   ]
  },
  {
   "cell_type": "code",
   "execution_count": 513,
   "metadata": {},
   "outputs": [],
   "source": [
    "plot_answers = [answer_1a, answer_2, answer_3, answer_4, answer_5, answer_6]\n",
    "plot_info = pd.DataFrame({'Answer': plot_answers, 'Freq': counts,})\n",
    "pie_info = plot_info.sort_values(by = 'Freq', ascending = False)"
   ]
  },
  {
   "cell_type": "code",
   "execution_count": 514,
   "metadata": {},
   "outputs": [
    {
     "data": {
      "text/plain": [
       "<Figure size 1080x720 with 0 Axes>"
      ]
     },
     "metadata": {},
     "output_type": "display_data"
    },
    {
     "data": {
      "image/png": "[encoded data removed]",
      "text/plain": [
       "<Figure size 432x288 with 1 Axes>"
      ]
     },
     "metadata": {},
     "output_type": "display_data"
    }
   ],
   "source": [
    "sns.set_style(\"whitegrid\")\n",
    "\n",
    "fig = plt.figure(figsize = (15,10))\n",
    "fig = plt.figure()\n",
    "ax = fig.add_axes([0,0,1,1])\n",
    "ax.axis('equal')\n",
    "ax.pie(pie_info.Freq, labels = pie_info.Answer, autopct = '%1.2f%%')\n",
    "plt.title(\"Frecuencia de respuestas predeterminadas\", fontsize = 16)\n",
    "plt.show()"
   ]
  },
  {
   "cell_type": "code",
   "execution_count": null,
   "metadata": {},
   "outputs": [],
   "source": []
  },
  {
   "cell_type": "code",
   "execution_count": null,
   "metadata": {},
   "outputs": [],
   "source": []
  },
  {
   "cell_type": "code",
   "execution_count": null,
   "metadata": {},
   "outputs": [],
   "source": []
  },
  {
   "cell_type": "code",
   "execution_count": null,
   "metadata": {},
   "outputs": [],
   "source": []
  },
  {
   "cell_type": "code",
   "execution_count": null,
   "metadata": {},
   "outputs": [],
   "source": []
  },
  {
   "cell_type": "code",
   "execution_count": null,
   "metadata": {},
   "outputs": [],
   "source": []
  },
  {
   "cell_type": "code",
   "execution_count": null,
   "metadata": {},
   "outputs": [],
   "source": []
  },
  {
   "cell_type": "code",
   "execution_count": null,
   "metadata": {},
   "outputs": [],
   "source": []
  },
  {
   "cell_type": "code",
   "execution_count": null,
   "metadata": {},
   "outputs": [],
   "source": []
  },
  {
   "cell_type": "code",
   "execution_count": 515,
   "metadata": {},
   "outputs": [
    {
     "name": "stdout",
     "output_type": "stream",
     "text": [
      "['Solicito llamada después, estaba ocupada;', ';;', ';', ';', ';;', ';;;', ';;;; ;', ';', ';;;;;;', ';;', 'Ninguna;', ';;;', ';;;; ;', ';', ';;;;; ;', ';', ';', ';; ;', ';', ';', 'Todas;', ';;;;', ' ;', ';;;;;;', ';;', 'no le es funcional prefiere genera todo en físico ;', ';;;', ';;', ';;;;; ;', ';;;', ' ;', ';;;;; ;', 'Que ofreca buena calidad y apoye con el costo ;', 'Ninguna;', ';;;', ';', ';', ';', ';;;;;;', ';;;;', 'No he considerado la opcion;', ';', ';', ';', ';;', ';;', ';;;;', ';;', ';', ';;', ';;;;;', 'Todas;', ';;;', ';', 'NO TENGO ASISTENTE;', ';;; ;', 'Usa whats app;', ';;;', ';;', ';', ';', 'Que pudiera llevar todo mi secretaria;', 'No lo creo viable;', ';', ';;', ';;;;', ';;;;;', 'No la requiere;', ';;', ';;;;', ';', ';;;', ';; ;', ';;', 'No usa;', ' ;', ';', 'Que nos ofrezca buena calidad ;', ';;', ';;;', ';', ';; ;', ';;;;; ;', ';;', ';;;;;', ';', ';;;; ;', ';;;;; ;', ';;;', ';;; ;', ';; ;', ';;; ;', ';;', ';;;;;;', ';', 'Que nos apoye y de calidad;', 'Wats, zoom, teams, incluso webex;', ';;', ';', ';;;;; ;', ';', ';', ';;;', ' ;', ';;;;; ;', 'No necesita ya tiene ;', ';', ';;;', 'No;', ';;;', ';;', ';', 'Ninguna;', ';', 'No me gusta;', ';;;', ';', ';', 'No me interesaría ;', ';', 'Ni;', 'No la Usaría ;', 'A;', 'No;', ';', ';', ';;;;', ';', 'No me interesa ;', ';;;;;', 'No;', 'No;', 'Otros (especificar)', ';', 'No me interesa;', ';', ';', ';', ';', ';;', ';', ';;;', ';', ';;;', 'Que nos proporcionará todo y buen precio accesible ;', ';;', ';', ';;;', ';', ';', 'Solo de seguimiento ;', ';;;', ';;;;', ';;;; ;', ';;', ';;', ';;;', ';;;', ';', ';;;;', 'No considero usar platafromas de ninguna para atender pacientes en esa modalidad;', ';;;', ';; ;', ';', ';;; ;', ';', ';;;;;', ';', ';; ;', ';;;', 'Son gratis;', ';', ';;', ';;', ';', ';;', ';;;;;;', 'De seguimiento ;', ';', ' ;', ';;;', ';;;', ';;', ';', ';;;;;;', ';;;', ';;', ';', ';;;;', ';', ' ;', ';', ';;', ';', ';', ';', ';;;', ';;;;; ;', ';;', ';;;', 'Que englobar a varias;', ';', ';;; ;', ';', ';;;', ';;;;', ';', 'No me interesa dar teleconsulta;', 'NO ME INTERESA;', ';;;;; ;', ';;;;', ';', 'No;', 'Informacion ;;;', ';;', 'No utilizo computadora para consultas;', ';;;;', ';;', ';', 'NINGUNA;', ';;;', ';;', 'NO;', ';;', ';;', 'NO;', ';;', ';;;', ';;;', ';;', 'No le es de utilidad;', 'No lo a cosiderado;', ';', ';;; ;', ';;', 'No lo acostumbra;', 'No la utiliza;', 'Ni lo usaria;', 'No le interesa;', ';;', ';', ';', ';;;;;', ';;', ';;', ';;', ';;', ';;', ';;;', ';;;', ';', ';', ';', ';;;', ';;', ';;;', ';;', ';;', ';;', 'Ninguna;', ';;;', ';;', ';', ';;;', ';', ';;;', ';;', ';', ';', ';', ';', ';', ';;', ';', ';', ';;', ';', ';', ';', ';', ';;;;;', 'No le interesa;;', ';;;;; ;', ';', ';', ';', ';;; ;', ';;', ';;;', ';', ';', ';;', ';', ';', ';', ';', ';', ';;;', ';', ';;', ';;;;', ';;', ';', ' ;', ';', ';;;;', ';;;', ';', ';', ';;;;', ';;;; ;', ';;;;; ;', ';;;;;', ';', ';', ';', ';', ';', ';', 'Gestione todo o gran parte;', 'Podria ser algo de ayuda en algunos casos;', ';', 'Todas;', ';', ';;;;;;Otros (especificar)', 'Por el momento no tengo alguna en mente;', ';', ';;;;;;', ';', ';;', 'Informativa;;;;', ';', ';', ';;;;; ;', ';', '; ;', ' ;', ';;', '; ;', ';', ';;;', ';;;;;', ';', ';', ';;;; ;', ';', ';;;;;', ';;;', '; ;', '; ;', ';;;', ' ;', ';', ';', ';;;;; ;', ';', ';;;;;', ';', ';', ';;;', ';;;;', ';;', ';;;', ';', ';', 'Que tenga buena cálidad;', ';', ';;', 'NINGUNA;', ';', ';;', ';', 'Que tuviera todo ;', ';;', ';;', ';', ';;', ';', ';', ';', ';;', ';;', ';;', ';;', ';;;', ';; ;', ';', ';', ';;;', 'NADA;', '; ;', '; ;', ';;; ;', ';;', ';;;', ';;;', ';', ';', ';', ';;;', ';;;', 'NO;', 'NO LA USO ;', ';;;', ';;', ';;;', ';;;', ';;;', ';; ;', ';', 'Informativa;', 'Informacion de Laboratorios ;;', ';', ';;; ;', ';;', ';;', ';;;;; ;', ';;', ';;;', ';;;', ';;;;', ';', ';', ';;;', 'Gestionar todo;', ';;;;;', ';', 'Que o fresca calidad ;', ';; ;', ';;;;;', ';;;', ';', ';;', 'Información ;;', ';;;;', ';', ';;; ;', ';;; ;', ';', ';;;;', ';;', ';;;;;;', ';;;;; ;', ';', 'Se aplican varias plataformas en el hospital Universitario;;', 'Esta informacion nos la da el Hospital ;', ';', ';', ';;;;', 'Que este completa;', ';', ';; ;', '; ;', ';;;;;', ';;;', ';;;', 'Que considerará varias de las anteriores;', ';', ';;;', ';;;;', ';;;', ' ;', ';', ';;', ';', 'Formulario previo llenado por el paciente con historia clinica;;;;;; ;', ';;', 'NINGUNA;', ';', ';;;;', 'No se;', ';', ';;', 'NO USARIA;', ';', 'Que nos apoye con la requisicion;', '; ;', ';;; ;', ';', ';;;; ;', ';;;;', ';;', ';;;;', ';', ';;', 'Las mayoria de esta informacion las tienen en el hospital;', ';;;', ';', ';;;;', 'Ninguna;', ';', ';', ';', ';;;;;;', ';;', ';;', ';;;', ';', ';;', ';;', 'Por el momento solo whats app;', ';', ';', ';', ';', ';;', ';;;', ';;', 'Nada;', ';;;', ';', 'No;', ';', ';', ';;;', ';', ';', ';', ';', ';', ';', ';', ';', ';', ';', ';', ';', 'Ninguna;', ';', ';', ';', ';', ';', ';', ';', ';', ';;;', 'no le interesa plataformas;', ';', ';', ';', ';;;;', ';', ';', ';;; ;', ';', ';', 'No intereso;', ';;;;; ;', ';', ';', 'Ninguna;', ';', ';;;;', ';', ';;', 'Realmente necesita ver a su oaciente;', 'no le interesa;', ';;;;', ';;', ';;', 'No es útil por el momento ;', ';', 'no esta interesado ya que se le hace poco practico utilizar estas aplicaciones ;', ';', ';', ';;;;', ';', ';;', ';;;;; ;', ';;', ';', ';;;', ';', ';;;;', ';;', ';;;;', ';;;;', ';', ';', ';', 'No creo sustituya la consulta ;', ';;;;; ;', ';;;', ';', ';;;', ';', ';;', ';;', ';', ';', ';;;;', 'NO LE INTERESA;', 'No le intereza;', ';;;;', ';;;;; ;', ';', ';', ';', ';', ';', 'NO LE INTERESAN PLATAFORMAS;', ';', ';;;;;', ';', ';;;', ';', ';', 'No intereza;', ';', ';;;;', 'Yo he trabajado por Skype o la página de la Mato Clinic como consultante. O para ayudar a dar diagnósticos. Es muy útil esta vía. Y si Se organiza el servidor con recetas  que al imprimir sean útiles es muy bueno agregando como hago yo en mi practica privada mi tarjeta de débito me traspasa el pago.  Sería muy bueno que se hiciera como algo frecuente. Gracias. Dios los Bendice. ;;;;;;', ';', ';', ';;; ;', ';', ';', ';', 'El hospital esta al tanto de toda esta informacion;', ';', ' ;', ';;;', ';;;', 'NO LO HE CONAIDERADO;', ';;', ';', 'NINGUNA;', ';', ';', ';;', ';;;;; ;', 'No esta interezado;', 'Todas;', ';;;', ';', ';;;;; ;', ';;;', ';;;;; ;', 'Ninguna ;', ';', 'No me interesa ;', ';', ';;;', ';;;;; ;', 'No por que tiene que explorar a sus pacientes;', ';; ;', ';', 'Dice que le llame en Agosto;', ';;', ';', ';;;;', ';', ';;', ';', ';', ';', ';', ';;;', 'No lo utilizaría;', 'Informativo;;;;', ';', ';; ;', ';;', 'NO LE INTERESA;', ';;;;; ;', ';;', ' ;', ';;', ';;;; ;', ';;', ';', ';', ';;;;; ;', 'No le interesa ;', '; ;', ';;;', ';;;', ';;', ';', ';;;;', ';;;;;', ';;;;', ';;;', ';;', ';;', ';; ;', ';', ';', ';', ';', ';; ;', 'Todo;', 'Necesita ver a sus pacientes y ellos no quieren;', ';;;; ;', ' ;', ';', ';', ';', ';; ;', ';;;;', ';', ';', ';; ;', ';;;;;;', 'Ninguna;', 'Innecesarias;', ';;', ';;;;', ';;;;', ';;;;', ';', ';', ';', ';;;;; ;', ';', ';; ;', ';;;', ';', ';', ';', 'No;', ';;;', ';;;;', ';;', ';', ';;; ;', ';', 'Todas;', ';;', ';;;', ' ;', ';', 'No estoy interesado;', ';', ';', ';', ';;', ';', 'No la requiero;', ';', ';;;', 'Ninguna me interesa;', 'Realmente que sea competitiva, con calidad, este a nivel y no muy cara;', ';', ';', ';', ';', ';', ';', ';;;;', ';;', ';', ';;', ';', ';;', ';', ';; ;', 'Ninguna;', 'Todas;', ';', ';;;;; ;', ';;;', ';;;;; ;', ';', ';']\n"
     ]
    }
   ],
   "source": [
    "pre_written_ans = text_attributes\n",
    "\n",
    "for i in range(0, len(answers)):\n",
    "    pre_written_ans = pre_written_ans.replace(str(answers[i]),\"\")\n",
    "    \n",
    "print(pre_written_ans)"
   ]
  },
  {
   "cell_type": "code",
   "execution_count": 516,
   "metadata": {},
   "outputs": [
    {
     "data": {
      "text/plain": [
       "'Solicito llamada después estaba ocupada           Ninguna             Todas      no le es funcional prefiere genera todo en físico           Que ofreca buena calidad y apoye con el costo  Ninguna       No he considerado la opcion           Todas   NO TENGO ASISTENTE   Usa whats app     Que pudiera llevar todo mi secretaria No lo creo viable     No la requiere        No usa    Que nos ofrezca buena calidad                          Que nos apoye y de calidad Wats zoom teams incluso webex            No necesita ya tiene    No    Ninguna  No me gusta    No me interesaría   Ni No la Usaría  A No     No me interesa   No No Otros especificar  No me interesa          Que nos proporcionará todo y buen precio accesible       Solo de seguimiento            No considero usar platafromas de ninguna para atender pacientes en esa modalidad             Son gratis       De seguimiento                           Que englobar a varias        No me interesa dar teleconsulta NO ME INTERESA     No Informacion   No utilizo computadora para consultas    NINGUNA   NO   NO     No le es de utilidad No lo a cosiderado     No lo acostumbra No la utiliza Ni lo usaria No le interesa                     Ninguna                      No le interesa                                           Gestione todo o gran parte Podria ser algo de ayuda en algunos casos  Todas  Otros especificar Por el momento no tengo alguna en mente     Informativa                                            Que tenga buena cálidad   NINGUNA    Que tuviera todo                   NADA               NO NO LA USO          Informativa Informacion de Laboratorios                Gestionar todo   Que o fresca calidad        Información               Se aplican varias plataformas en el hospital Universitario Esta informacion nos la da el Hospital     Que este completa         Que considerará varias de las anteriores          Formulario previo llenado por el paciente con historia clinica   NINGUNA   No se   NO USARIA  Que nos apoye con la requisicion             Las mayoria de esta informacion las tienen en el hospital    Ninguna           Por el momento solo whats app        Nada   No                Ninguna          no le interesa plataformas           No intereso     Ninguna     Realmente necesita ver a su oaciente no le interesa    No es útil por el momento   no esta interesado ya que se le hace poco practico utilizar estas aplicaciones                    No creo sustituya la consulta             NO LE INTERESA No le intereza         NO LE INTERESAN PLATAFORMAS       No intereza   Yo he trabajado por Skype o la página de la Mato Clinic como consultante. O para ayudar a dar diagnósticos. Es muy útil esta vía. Y si Se organiza el servidor con recetas  que al imprimir sean útiles es muy bueno agregando como hago yo en mi practica privada mi tarjeta de débito me traspasa el pago.  Sería muy bueno que se hiciera como algo frecuente. Gracias. Dios los Bendice.         El hospital esta al tanto de toda esta informacion      NO LO HE CONAIDERADO   NINGUNA      No esta interezado Todas        Ninguna   No me interesa      No por que tiene que explorar a sus pacientes    Dice que le llame en Agosto           No lo utilizaría Informativo     NO LE INTERESA              No le interesa                      Todo Necesita ver a sus pacientes y ellos no quieren                Ninguna Innecesarias                 No        Todas      No estoy interesado      No la requiero   Ninguna me interesa Realmente que sea competitiva con calidad este a nivel y no muy cara                Ninguna Todas        '"
      ]
     },
     "execution_count": 516,
     "metadata": {},
     "output_type": "execute_result"
    }
   ],
   "source": [
    "pre_written_ans = pre_written_ans.translate({ord(i): None for i in \";',[]()\"})\n",
    "pre_written_ans"
   ]
  },
  {
   "cell_type": "code",
   "execution_count": 517,
   "metadata": {},
   "outputs": [],
   "source": [
    "to_replace = [\"NO\", \"NINGUNA\", \"INTERESA\", \"intereza\", \"interezado\", \".\"]\n",
    "replaced = [\"No\", \"Ninguna\", \"interesa\", \"interesa\", \"interesa\", \"\"]"
   ]
  },
  {
   "cell_type": "code",
   "execution_count": 518,
   "metadata": {},
   "outputs": [
    {
     "name": "stdout",
     "output_type": "stream",
     "text": [
      "Solicito llamada después estaba ocupada           Ninguna             Todas      no le es funcional prefiere genera todo en físico           Que ofreca buena calidad y apoye con el costo  Ninguna       No he considerado la opcion           Todas   No TENGO ASISTENTE   Usa whats app     Que pudiera llevar todo mi secretaria No lo creo viable     No la requiere        No usa    Que nos ofrezca buena calidad                          Que nos apoye y de calidad Wats zoom teams incluso webex            No necesita ya tiene    No    Ninguna  No me gusta    No me interesaría   Ni No la Usaría  A No     No me interesa   No No Otros especificar  No me interesa          Que nos proporcionará todo y buen precio accesible       Solo de seguimiento            No considero usar platafromas de ninguna para atender pacientes en esa modalidad             Son gratis       De seguimiento                           Que englobar a varias        No me interesa dar teleconsulta No ME interesa     No Informacion   No utilizo computadora para consultas    Ninguna   No   No     No le es de utilidad No lo a cosiderado     No lo acostumbra No la utiliza Ni lo usaria No le interesa                     Ninguna                      No le interesa                                           Gestione todo o gran parte Podria ser algo de ayuda en algunos casos  Todas  Otros especificar Por el momento no tengo alguna en mente     Informativa                                            Que tenga buena cálidad   Ninguna    Que tuviera todo                   NADA               No No LA USO          Informativa Informacion de Laboratorios                Gestionar todo   Que o fresca calidad        Información               Se aplican varias plataformas en el hospital Universitario Esta informacion nos la da el Hospital     Que este completa         Que considerará varias de las anteriores          Formulario previo llenado por el paciente con historia clinica   Ninguna   No se   No USARIA  Que nos apoye con la requisicion             Las mayoria de esta informacion las tienen en el hospital    Ninguna           Por el momento solo whats app        Nada   No                Ninguna          no le interesa plataformas           No intereso     Ninguna     Realmente necesita ver a su oaciente no le interesa    No es útil por el momento   no esta interesado ya que se le hace poco practico utilizar estas aplicaciones                    No creo sustituya la consulta             No LE interesa No le interesa         No LE interesaN PLATAFORMAS       No interesa   Yo he trabajado por Skype o la página de la Mato Clinic como consultante O para ayudar a dar diagnósticos Es muy útil esta vía Y si Se organiza el servidor con recetas  que al imprimir sean útiles es muy bueno agregando como hago yo en mi practica privada mi tarjeta de débito me traspasa el pago  Sería muy bueno que se hiciera como algo frecuente Gracias Dios los Bendice         El hospital esta al tanto de toda esta informacion      No LO HE CONAIDERADO   Ninguna      No esta interesado Todas        Ninguna   No me interesa      No por que tiene que explorar a sus pacientes    Dice que le llame en Agosto           No lo utilizaría Informativo     No LE interesa              No le interesa                      Todo Necesita ver a sus pacientes y ellos no quieren                Ninguna Innecesarias                 No        Todas      No estoy interesado      No la requiero   Ninguna me interesa Realmente que sea competitiva con calidad este a nivel y no muy cara                Ninguna Todas        \n"
     ]
    }
   ],
   "source": [
    "written_ans = pre_written_ans\n",
    "\n",
    "for i in range(0, len(to_replace)):\n",
    "    written_ans = written_ans.replace(to_replace[i],replaced[i])\n",
    "    \n",
    "print(written_ans)"
   ]
  },
  {
   "cell_type": "code",
   "execution_count": 519,
   "metadata": {},
   "outputs": [],
   "source": [
    "token_words = word_tokenize(written_ans)"
   ]
  },
  {
   "cell_type": "code",
   "execution_count": 520,
   "metadata": {},
   "outputs": [
    {
     "data": {
      "text/plain": [
       "FreqDist({'No': 50, 'Ninguna': 15, 'interesa': 15, 'Que': 12, 'de': 11, 'le': 10, 'el': 10, 'la': 10, 'en': 8, 'me': 8, ...})"
      ]
     },
     "execution_count": 520,
     "metadata": {},
     "output_type": "execute_result"
    }
   ],
   "source": [
    "fdist = FreqDist(token_words)\n",
    "fdist"
   ]
  },
  {
   "cell_type": "code",
   "execution_count": 521,
   "metadata": {},
   "outputs": [
    {
     "data": {
      "text/plain": [
       "[('No', 50),\n",
       " ('Ninguna', 15),\n",
       " ('interesa', 15),\n",
       " ('Que', 12),\n",
       " ('de', 11),\n",
       " ('le', 10),\n",
       " ('el', 10),\n",
       " ('la', 10),\n",
       " ('en', 8),\n",
       " ('me', 8),\n",
       " ('no', 7),\n",
       " ('a', 7),\n",
       " ('que', 7),\n",
       " ('Todas', 6),\n",
       " ('todo', 6),\n",
       " ('esta', 6),\n",
       " ('calidad', 5),\n",
       " ('y', 5),\n",
       " ('con', 5),\n",
       " ('lo', 5),\n",
       " ('nos', 5),\n",
       " ('es', 4),\n",
       " ('por', 4),\n",
       " ('muy', 4),\n",
       " ('buena', 3),\n",
       " ('apoye', 3),\n",
       " ('mi', 3),\n",
       " ('para', 3),\n",
       " ('pacientes', 3),\n",
       " ('varias', 3),\n",
       " ('o', 3),\n",
       " ('momento', 3),\n",
       " ('hospital', 3),\n",
       " ('informacion', 3),\n",
       " ('se', 3),\n",
       " ('interesado', 3),\n",
       " ('LE', 3),\n",
       " ('como', 3),\n",
       " ('he', 2),\n",
       " ('whats', 2)]"
      ]
     },
     "execution_count": 521,
     "metadata": {},
     "output_type": "execute_result"
    }
   ],
   "source": [
    "fdist_top = fdist.most_common(40)\n",
    "fdist_top"
   ]
  },
  {
   "cell_type": "code",
   "execution_count": 522,
   "metadata": {},
   "outputs": [
    {
     "name": "stdout",
     "output_type": "stream",
     "text": [
      "['solicito', 'llamada', 'después', 'ocupada', 'ninguna', 'todas', 'funcional', 'prefiere', 'genera', 'físico', 'ofreca', 'buena', 'calidad', 'apoye', 'costo', 'ninguna', 'considerado', 'opcion', 'todas', 'asistente', 'usa', 'whats', 'app', 'pudiera', 'llevar', 'secretaria', 'creo', 'viable', 'requiere', 'usa', 'ofrezca', 'buena', 'calidad', 'apoye', 'calidad', 'wats', 'zoom', 'teams', 'incluso', 'webex', 'necesita', 'ninguna', 'gusta', 'interesaría', 'usaría', 'interesa', 'especificar', 'interesa', 'proporcionará', 'buen', 'precio', 'accesible', 'solo', 'seguimiento', 'considero', 'usar', 'platafromas', 'ninguna', 'atender', 'pacientes', 'modalidad', 'gratis', 'seguimiento', 'englobar', 'varias', 'interesa', 'dar', 'teleconsulta', 'interesa', 'informacion', 'utilizo', 'computadora', 'consultas', 'ninguna', 'utilidad', 'cosiderado', 'acostumbra', 'utiliza', 'usaria', 'interesa', 'ninguna', 'interesa', 'gestione', 'gran', 'parte', 'podria', 'ser', 'ayuda', 'casos', 'todas', 'especificar', 'momento', 'alguna', 'mente', 'informativa', 'buena', 'cálidad', 'ninguna', 'uso', 'informativa', 'informacion', 'laboratorios', 'gestionar', 'fresca', 'calidad', 'información', 'aplican', 'varias', 'plataformas', 'hospital', 'universitario', 'informacion', 'da', 'hospital', 'completa', 'considerará', 'varias', 'anteriores', 'formulario', 'previo', 'llenado', 'paciente', 'historia', 'clinica', 'ninguna', 'usaria', 'apoye', 'requisicion', 'mayoria', 'informacion', 'hospital', 'ninguna', 'momento', 'solo', 'whats', 'app', 'ninguna', 'interesa', 'plataformas', 'intereso', 'ninguna', 'realmente', 'necesita', 'ver', 'oaciente', 'interesa', 'útil', 'momento', 'interesado', 'hace', 'practico', 'utilizar', 'aplicaciones', 'creo', 'sustituya', 'consulta', 'interesa', 'interesa', 'interesan', 'plataformas', 'interesa', 'trabajado', 'skype', 'página', 'mato', 'clinic', 'consultante', 'ayudar', 'dar', 'diagnósticos', 'útil', 'vía', 'si', 'organiza', 'servidor', 'recetas', 'imprimir', 'útiles', 'bueno', 'agregando', 'hago', 'practica', 'privada', 'tarjeta', 'débito', 'traspasa', 'pago', 'bueno', 'hiciera', 'frecuente', 'gracias', 'dios', 'bendice', 'hospital', 'toda', 'informacion', 'conaiderado', 'ninguna', 'interesado', 'todas', 'ninguna', 'interesa', 'explorar', 'pacientes', 'dice', 'llame', 'agosto', 'utilizaría', 'informativo', 'interesa', 'interesa', 'necesita', 'ver', 'pacientes', 'quieren', 'ninguna', 'innecesarias', 'todas', 'interesado', 'requiero', 'ninguna', 'interesa', 'realmente', 'competitiva', 'calidad', 'nivel', 'cara', 'ninguna', 'todas']\n"
     ]
    },
    {
     "name": "stderr",
     "output_type": "stream",
     "text": [
      "[nltk_data] Downloading package stopwords to /home/miuser/nltk_data...\n",
      "[nltk_data]   Package stopwords is already up-to-date!\n"
     ]
    }
   ],
   "source": [
    "nltk.download('stopwords')\n",
    "a = set(stopwords.words('spanish'))\n",
    "\n",
    "pre_processed_text = word_tokenize(written_ans.lower())\n",
    "processed_text = [x for x in pre_processed_text if x not in a]\n",
    "\n",
    "print(processed_text)"
   ]
  },
  {
   "cell_type": "code",
   "execution_count": 523,
   "metadata": {},
   "outputs": [],
   "source": [
    "fdist2 = FreqDist(processed_text)"
   ]
  },
  {
   "cell_type": "code",
   "execution_count": 524,
   "metadata": {},
   "outputs": [
    {
     "data": {
      "text/plain": [
       "[('ninguna', 16),\n",
       " ('interesa', 15),\n",
       " ('todas', 6),\n",
       " ('calidad', 5),\n",
       " ('informacion', 5),\n",
       " ('hospital', 4),\n",
       " ('buena', 3),\n",
       " ('apoye', 3),\n",
       " ('necesita', 3),\n",
       " ('pacientes', 3),\n",
       " ('varias', 3),\n",
       " ('momento', 3),\n",
       " ('plataformas', 3),\n",
       " ('interesado', 3),\n",
       " ('usa', 2),\n",
       " ('whats', 2),\n",
       " ('app', 2),\n",
       " ('creo', 2),\n",
       " ('especificar', 2),\n",
       " ('solo', 2),\n",
       " ('seguimiento', 2),\n",
       " ('dar', 2),\n",
       " ('usaria', 2),\n",
       " ('informativa', 2),\n",
       " ('realmente', 2),\n",
       " ('ver', 2),\n",
       " ('útil', 2),\n",
       " ('bueno', 2),\n",
       " ('solicito', 1),\n",
       " ('llamada', 1),\n",
       " ('después', 1),\n",
       " ('ocupada', 1),\n",
       " ('funcional', 1),\n",
       " ('prefiere', 1),\n",
       " ('genera', 1),\n",
       " ('físico', 1),\n",
       " ('ofreca', 1),\n",
       " ('costo', 1),\n",
       " ('considerado', 1),\n",
       " ('opcion', 1),\n",
       " ('asistente', 1),\n",
       " ('pudiera', 1),\n",
       " ('llevar', 1),\n",
       " ('secretaria', 1),\n",
       " ('viable', 1),\n",
       " ('requiere', 1),\n",
       " ('ofrezca', 1),\n",
       " ('wats', 1),\n",
       " ('zoom', 1),\n",
       " ('teams', 1)]"
      ]
     },
     "execution_count": 524,
     "metadata": {},
     "output_type": "execute_result"
    }
   ],
   "source": [
    "fdist_top2 = fdist2.most_common(50)\n",
    "fdist_top2"
   ]
  },
  {
   "cell_type": "code",
   "execution_count": null,
   "metadata": {},
   "outputs": [],
   "source": []
  },
  {
   "cell_type": "code",
   "execution_count": null,
   "metadata": {},
   "outputs": [],
   "source": []
  },
  {
   "cell_type": "code",
   "execution_count": null,
   "metadata": {},
   "outputs": [],
   "source": []
  }
 ],
 "metadata": {
  "kernelspec": {
   "display_name": "Python 3",
   "language": "python",
   "name": "python3"
  },
  "language_info": {
   "codemirror_mode": {
    "name": "ipython",
    "version": 3
   },
   "file_extension": ".py",
   "mimetype": "text/x-python",
   "name": "python",
   "nbconvert_exporter": "python",
   "pygments_lexer": "ipython3",
   "version": "3.6.9"
  }
 },
 "nbformat": 4,
 "nbformat_minor": 4
}
