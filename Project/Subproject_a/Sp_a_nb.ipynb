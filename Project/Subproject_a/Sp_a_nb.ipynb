{
 "cells": [
  {
   "cell_type": "markdown",
   "metadata": {},
   "source": [
    "# Subproject a\n",
    "- Age vs eagerness to use platform correlation\n",
    "- Author: Sergio S. (GitHub: esesancr) (mail: esesancr@gmail.com)"
   ]
  },
  {
   "cell_type": "markdown",
   "metadata": {},
   "source": [
    "---"
   ]
  },
  {
   "cell_type": "markdown",
   "metadata": {},
   "source": [
    "# Imports"
   ]
  },
  {
   "cell_type": "markdown",
   "metadata": {},
   "source": [
    "#### Python libraries"
   ]
  },
  {
   "cell_type": "code",
   "execution_count": 1,
   "metadata": {
    "ExecuteTime": {
     "end_time": "2020-07-16T22:35:30.322825Z",
     "start_time": "2020-07-16T22:35:30.304082Z"
    }
   },
   "outputs": [],
   "source": [
    "import pandas as pd\n",
    "\n",
    "import numpy as np\n",
    "\n",
    "import os\n",
    "\n",
    "import pprint\n",
    "\n",
    "import matplotlib.pyplot as plt\n",
    "\n",
    "from matplotlib.pyplot import figure"
   ]
  },
  {
   "cell_type": "markdown",
   "metadata": {},
   "source": [
    "#### Ancillary modules"
   ]
  },
  {
   "cell_type": "code",
   "execution_count": 2,
   "metadata": {
    "ExecuteTime": {
     "end_time": "2020-07-16T22:28:11.789403Z",
     "start_time": "2020-07-16T22:28:11.769060Z"
    }
   },
   "outputs": [],
   "source": [
    "## Reloading module\n",
    "%load_ext autoreload\n",
    "%autoreload 2\n",
    "\n",
    "from Sp_a_params import *\n",
    "from Sp_a_funcs import *"
   ]
  },
  {
   "cell_type": "markdown",
   "metadata": {},
   "source": [
    "---"
   ]
  },
  {
   "cell_type": "markdown",
   "metadata": {},
   "source": [
    "# Upload and clean data"
   ]
  },
  {
   "cell_type": "code",
   "execution_count": 3,
   "metadata": {
    "ExecuteTime": {
     "end_time": "2020-07-16T22:28:12.814141Z",
     "start_time": "2020-07-16T22:28:12.790450Z"
    },
    "scrolled": true
   },
   "outputs": [],
   "source": [
    "df = pd.read_csv(os.path.join(relative_data_loc, file_name))"
   ]
  },
  {
   "cell_type": "code",
   "execution_count": 4,
   "metadata": {
    "ExecuteTime": {
     "end_time": "2020-07-16T22:28:13.124590Z",
     "start_time": "2020-07-16T22:28:13.108408Z"
    }
   },
   "outputs": [
    {
     "data": {
      "text/html": [
       "<div>\n",
       "<style scoped>\n",
       "    .dataframe tbody tr th:only-of-type {\n",
       "        vertical-align: middle;\n",
       "    }\n",
       "\n",
       "    .dataframe tbody tr th {\n",
       "        vertical-align: top;\n",
       "    }\n",
       "\n",
       "    .dataframe thead th {\n",
       "        text-align: right;\n",
       "    }\n",
       "</style>\n",
       "<table border=\"1\" class=\"dataframe\">\n",
       "  <thead>\n",
       "    <tr style=\"text-align: right;\">\n",
       "      <th></th>\n",
       "      <th>ID</th>\n",
       "      <th>Considera_tele</th>\n",
       "      <th>Cree_comun_tele</th>\n",
       "      <th>Regularidad_uso</th>\n",
       "      <th>Fecha_nacimiento</th>\n",
       "    </tr>\n",
       "  </thead>\n",
       "  <tbody>\n",
       "    <tr>\n",
       "      <th>0</th>\n",
       "      <td>721</td>\n",
       "      <td>SI</td>\n",
       "      <td>5: Totalmente Común</td>\n",
       "      <td>3: Neutral</td>\n",
       "      <td>26/03/70</td>\n",
       "    </tr>\n",
       "    <tr>\n",
       "      <th>1</th>\n",
       "      <td>386</td>\n",
       "      <td>SI</td>\n",
       "      <td>3: Neutral</td>\n",
       "      <td>3: Neutral</td>\n",
       "      <td>29/05/77</td>\n",
       "    </tr>\n",
       "    <tr>\n",
       "      <th>2</th>\n",
       "      <td>652</td>\n",
       "      <td>SI</td>\n",
       "      <td>2: Poco común</td>\n",
       "      <td>1: No la utilizaría</td>\n",
       "      <td>01/01/78</td>\n",
       "    </tr>\n",
       "    <tr>\n",
       "      <th>3</th>\n",
       "      <td>362</td>\n",
       "      <td>SI</td>\n",
       "      <td>3: Neutral</td>\n",
       "      <td>2: Con poca regularidad</td>\n",
       "      <td>0</td>\n",
       "    </tr>\n",
       "    <tr>\n",
       "      <th>4</th>\n",
       "      <td>28</td>\n",
       "      <td>SI</td>\n",
       "      <td>4: Muy Común</td>\n",
       "      <td>3: Neutral</td>\n",
       "      <td>0</td>\n",
       "    </tr>\n",
       "    <tr>\n",
       "      <th>...</th>\n",
       "      <td>...</td>\n",
       "      <td>...</td>\n",
       "      <td>...</td>\n",
       "      <td>...</td>\n",
       "      <td>...</td>\n",
       "    </tr>\n",
       "    <tr>\n",
       "      <th>760</th>\n",
       "      <td>533</td>\n",
       "      <td>NO</td>\n",
       "      <td>4: Muy Común</td>\n",
       "      <td>5: Regularmente</td>\n",
       "      <td>0</td>\n",
       "    </tr>\n",
       "    <tr>\n",
       "      <th>761</th>\n",
       "      <td>201</td>\n",
       "      <td>NO</td>\n",
       "      <td>5: Totalmente Común</td>\n",
       "      <td>1: No la utilizaría</td>\n",
       "      <td>0</td>\n",
       "    </tr>\n",
       "    <tr>\n",
       "      <th>762</th>\n",
       "      <td>40</td>\n",
       "      <td>SI</td>\n",
       "      <td>2: Poco común</td>\n",
       "      <td>2: Con poca regularidad</td>\n",
       "      <td>0</td>\n",
       "    </tr>\n",
       "    <tr>\n",
       "      <th>763</th>\n",
       "      <td>63</td>\n",
       "      <td>NO</td>\n",
       "      <td>1: No será común</td>\n",
       "      <td>1: No la utilizaría</td>\n",
       "      <td>0</td>\n",
       "    </tr>\n",
       "    <tr>\n",
       "      <th>764</th>\n",
       "      <td>65</td>\n",
       "      <td>NO</td>\n",
       "      <td>1: No será común</td>\n",
       "      <td>2: Con poca regularidad</td>\n",
       "      <td>0</td>\n",
       "    </tr>\n",
       "  </tbody>\n",
       "</table>\n",
       "<p>765 rows × 5 columns</p>\n",
       "</div>"
      ],
      "text/plain": [
       "      ID Considera_tele       Cree_comun_tele          Regularidad_uso  \\\n",
       "0    721             SI  5: Totalmente Común                3: Neutral   \n",
       "1    386             SI            3: Neutral               3: Neutral   \n",
       "2    652             SI         2: Poco común      1: No la utilizaría   \n",
       "3    362             SI            3: Neutral  2: Con poca regularidad   \n",
       "4     28             SI          4: Muy Común               3: Neutral   \n",
       "..   ...            ...                   ...                      ...   \n",
       "760  533             NO          4: Muy Común          5: Regularmente   \n",
       "761  201             NO  5: Totalmente Común       1: No la utilizaría   \n",
       "762   40             SI         2: Poco común  2: Con poca regularidad   \n",
       "763   63             NO     1: No será común       1: No la utilizaría   \n",
       "764   65             NO     1: No será común   2: Con poca regularidad   \n",
       "\n",
       "    Fecha_nacimiento  \n",
       "0           26/03/70  \n",
       "1           29/05/77  \n",
       "2           01/01/78  \n",
       "3                  0  \n",
       "4                  0  \n",
       "..               ...  \n",
       "760                0  \n",
       "761                0  \n",
       "762                0  \n",
       "763                0  \n",
       "764                0  \n",
       "\n",
       "[765 rows x 5 columns]"
      ]
     },
     "execution_count": 4,
     "metadata": {},
     "output_type": "execute_result"
    }
   ],
   "source": [
    "cleaning_df(df)\n",
    "df"
   ]
  },
  {
   "cell_type": "markdown",
   "metadata": {},
   "source": [
    "In order to avoid inconsistencies in the information we remove all dates `Fecha_nacimiento`$=0$"
   ]
  },
  {
   "cell_type": "code",
   "execution_count": 5,
   "metadata": {},
   "outputs": [],
   "source": [
    "df.drop(df[df.Fecha_nacimiento=='0'].index,inplace=True) #\"Removing\" all date of birth==0."
   ]
  },
  {
   "cell_type": "code",
   "execution_count": 6,
   "metadata": {},
   "outputs": [
    {
     "data": {
      "text/html": [
       "<div>\n",
       "<style scoped>\n",
       "    .dataframe tbody tr th:only-of-type {\n",
       "        vertical-align: middle;\n",
       "    }\n",
       "\n",
       "    .dataframe tbody tr th {\n",
       "        vertical-align: top;\n",
       "    }\n",
       "\n",
       "    .dataframe thead th {\n",
       "        text-align: right;\n",
       "    }\n",
       "</style>\n",
       "<table border=\"1\" class=\"dataframe\">\n",
       "  <thead>\n",
       "    <tr style=\"text-align: right;\">\n",
       "      <th></th>\n",
       "      <th>ID</th>\n",
       "      <th>Considera_tele</th>\n",
       "      <th>Cree_comun_tele</th>\n",
       "      <th>Regularidad_uso</th>\n",
       "      <th>Fecha_nacimiento</th>\n",
       "    </tr>\n",
       "  </thead>\n",
       "  <tbody>\n",
       "    <tr>\n",
       "      <th>0</th>\n",
       "      <td>721</td>\n",
       "      <td>SI</td>\n",
       "      <td>5: Totalmente Común</td>\n",
       "      <td>3: Neutral</td>\n",
       "      <td>26/03/70</td>\n",
       "    </tr>\n",
       "    <tr>\n",
       "      <th>1</th>\n",
       "      <td>386</td>\n",
       "      <td>SI</td>\n",
       "      <td>3: Neutral</td>\n",
       "      <td>3: Neutral</td>\n",
       "      <td>29/05/77</td>\n",
       "    </tr>\n",
       "    <tr>\n",
       "      <th>2</th>\n",
       "      <td>652</td>\n",
       "      <td>SI</td>\n",
       "      <td>2: Poco común</td>\n",
       "      <td>1: No la utilizaría</td>\n",
       "      <td>01/01/78</td>\n",
       "    </tr>\n",
       "    <tr>\n",
       "      <th>5</th>\n",
       "      <td>501</td>\n",
       "      <td>SI</td>\n",
       "      <td>3: Neutral</td>\n",
       "      <td>3: Neutral</td>\n",
       "      <td>26/04/83</td>\n",
       "    </tr>\n",
       "    <tr>\n",
       "      <th>7</th>\n",
       "      <td>253</td>\n",
       "      <td>SI</td>\n",
       "      <td>3: Neutral</td>\n",
       "      <td>4: Con cierta regularidad</td>\n",
       "      <td>05/04/58</td>\n",
       "    </tr>\n",
       "    <tr>\n",
       "      <th>...</th>\n",
       "      <td>...</td>\n",
       "      <td>...</td>\n",
       "      <td>...</td>\n",
       "      <td>...</td>\n",
       "      <td>...</td>\n",
       "    </tr>\n",
       "    <tr>\n",
       "      <th>755</th>\n",
       "      <td>164</td>\n",
       "      <td>NO</td>\n",
       "      <td>1: No será común</td>\n",
       "      <td>2: Con poca regularidad</td>\n",
       "      <td>27/01/58</td>\n",
       "    </tr>\n",
       "    <tr>\n",
       "      <th>756</th>\n",
       "      <td>22</td>\n",
       "      <td>SI</td>\n",
       "      <td>3: Neutral</td>\n",
       "      <td>2: Con poca regularidad</td>\n",
       "      <td>12/02/51</td>\n",
       "    </tr>\n",
       "    <tr>\n",
       "      <th>757</th>\n",
       "      <td>390</td>\n",
       "      <td>NO</td>\n",
       "      <td>1: No será común</td>\n",
       "      <td>3: Neutral</td>\n",
       "      <td>28/10/49</td>\n",
       "    </tr>\n",
       "    <tr>\n",
       "      <th>758</th>\n",
       "      <td>259</td>\n",
       "      <td>SI</td>\n",
       "      <td>4: Muy Común</td>\n",
       "      <td>1: No la utilizaría</td>\n",
       "      <td>27/12/67</td>\n",
       "    </tr>\n",
       "    <tr>\n",
       "      <th>759</th>\n",
       "      <td>497</td>\n",
       "      <td>NO</td>\n",
       "      <td>1: No será común</td>\n",
       "      <td>1: No la utilizaría</td>\n",
       "      <td>08/01/80</td>\n",
       "    </tr>\n",
       "  </tbody>\n",
       "</table>\n",
       "<p>738 rows × 5 columns</p>\n",
       "</div>"
      ],
      "text/plain": [
       "      ID Considera_tele       Cree_comun_tele            Regularidad_uso  \\\n",
       "0    721             SI  5: Totalmente Común                  3: Neutral   \n",
       "1    386             SI            3: Neutral                 3: Neutral   \n",
       "2    652             SI         2: Poco común        1: No la utilizaría   \n",
       "5    501             SI            3: Neutral                 3: Neutral   \n",
       "7    253             SI            3: Neutral  4: Con cierta regularidad   \n",
       "..   ...            ...                   ...                        ...   \n",
       "755  164             NO     1: No será común     2: Con poca regularidad   \n",
       "756   22             SI            3: Neutral    2: Con poca regularidad   \n",
       "757  390             NO     1: No será común                  3: Neutral   \n",
       "758  259             SI          4: Muy Común        1: No la utilizaría   \n",
       "759  497             NO     1: No será común         1: No la utilizaría   \n",
       "\n",
       "    Fecha_nacimiento  \n",
       "0           26/03/70  \n",
       "1           29/05/77  \n",
       "2           01/01/78  \n",
       "5           26/04/83  \n",
       "7           05/04/58  \n",
       "..               ...  \n",
       "755         27/01/58  \n",
       "756         12/02/51  \n",
       "757         28/10/49  \n",
       "758         27/12/67  \n",
       "759         08/01/80  \n",
       "\n",
       "[738 rows x 5 columns]"
      ]
     },
     "execution_count": 6,
     "metadata": {},
     "output_type": "execute_result"
    }
   ],
   "source": [
    "df"
   ]
  },
  {
   "cell_type": "markdown",
   "metadata": {},
   "source": [
    "Continuing with the cleaning and transformation process, the next step is to convert `Fecha_nacimiento` to its correct date and time format as shown below."
   ]
  },
  {
   "cell_type": "code",
   "execution_count": 7,
   "metadata": {},
   "outputs": [
    {
     "name": "stdout",
     "output_type": "stream",
     "text": [
      "<class 'pandas.core.frame.DataFrame'>\n",
      "Int64Index: 738 entries, 0 to 759\n",
      "Data columns (total 5 columns):\n",
      " #   Column            Non-Null Count  Dtype \n",
      "---  ------            --------------  ----- \n",
      " 0   ID                738 non-null    int64 \n",
      " 1   Considera_tele    738 non-null    object\n",
      " 2   Cree_comun_tele   738 non-null    object\n",
      " 3   Regularidad_uso   738 non-null    object\n",
      " 4   Fecha_nacimiento  738 non-null    object\n",
      "dtypes: int64(1), object(4)\n",
      "memory usage: 34.6+ KB\n"
     ]
    }
   ],
   "source": [
    "#Summary of the dataframe where 'Fecha_nacimiento' is in object format.\n",
    "df.info()"
   ]
  },
  {
   "cell_type": "code",
   "execution_count": 8,
   "metadata": {},
   "outputs": [],
   "source": [
    "#Converting dtype object to datetime object\n",
    "df[\"Fecha_nacimiento\"] = pd.to_datetime(df[\"Fecha_nacimiento\"])"
   ]
  },
  {
   "cell_type": "code",
   "execution_count": 9,
   "metadata": {},
   "outputs": [
    {
     "name": "stdout",
     "output_type": "stream",
     "text": [
      "<class 'pandas.core.frame.DataFrame'>\n",
      "Int64Index: 738 entries, 0 to 759\n",
      "Data columns (total 5 columns):\n",
      " #   Column            Non-Null Count  Dtype         \n",
      "---  ------            --------------  -----         \n",
      " 0   ID                738 non-null    int64         \n",
      " 1   Considera_tele    738 non-null    object        \n",
      " 2   Cree_comun_tele   738 non-null    object        \n",
      " 3   Regularidad_uso   738 non-null    object        \n",
      " 4   Fecha_nacimiento  738 non-null    datetime64[ns]\n",
      "dtypes: datetime64[ns](1), int64(1), object(3)\n",
      "memory usage: 34.6+ KB\n"
     ]
    }
   ],
   "source": [
    "#Summary of the dataframe where 'Fecha_nacimiento' is in datetime format.\n",
    "df.info()"
   ]
  },
  {
   "cell_type": "code",
   "execution_count": 10,
   "metadata": {},
   "outputs": [
    {
     "data": {
      "text/plain": [
       "0     1970-03-26\n",
       "1     1977-05-29\n",
       "2     1978-01-01\n",
       "5     1983-04-26\n",
       "7     2058-05-04\n",
       "         ...    \n",
       "755   2058-01-27\n",
       "756   2051-12-02\n",
       "757   2049-10-28\n",
       "758   2067-12-27\n",
       "759   1980-08-01\n",
       "Name: Fecha_nacimiento, Length: 738, dtype: datetime64[ns]"
      ]
     },
     "execution_count": 10,
     "metadata": {},
     "output_type": "execute_result"
    }
   ],
   "source": [
    "df.Fecha_nacimiento"
   ]
  },
  {
   "cell_type": "markdown",
   "metadata": {},
   "source": [
    "Pandas `to_datetime` function has a parsing error where for some convertions, the year is sometimes correct but sometimes not. For example date 27/12/67 is converted to 2067-12-27.\n",
    "\n",
    "To correct this issue, we created the function `fix_date` that solves the parsing of wrong years"
   ]
  },
  {
   "cell_type": "code",
   "execution_count": 11,
   "metadata": {},
   "outputs": [
    {
     "data": {
      "text/plain": [
       "0      1970-03-26\n",
       "1      1977-05-29\n",
       "2      1978-01-01\n",
       "5      1983-04-26\n",
       "7      1958-05-04\n",
       "          ...    \n",
       "755    1958-01-27\n",
       "756    1951-12-02\n",
       "757    1949-10-28\n",
       "758    1967-12-27\n",
       "759    1980-08-01\n",
       "Name: Fecha_nacimiento, Length: 738, dtype: object"
      ]
     },
     "execution_count": 11,
     "metadata": {},
     "output_type": "execute_result"
    }
   ],
   "source": [
    "df['Fecha_nacimiento'] = df['Fecha_nacimiento'] .apply(fix_date) #Solving the parsing issue.\n",
    "df.Fecha_nacimiento"
   ]
  },
  {
   "cell_type": "markdown",
   "metadata": {},
   "source": [
    "The next step is to calculate doctor's age based on birthday date. For this task we created a function called `compute_age`"
   ]
  },
  {
   "cell_type": "code",
   "execution_count": 12,
   "metadata": {},
   "outputs": [
    {
     "data": {
      "text/plain": [
       "0      50\n",
       "1      43\n",
       "2      42\n",
       "5      37\n",
       "7      62\n",
       "       ..\n",
       "755    62\n",
       "756    69\n",
       "757    71\n",
       "758    53\n",
       "759    40\n",
       "Name: Edad, Length: 738, dtype: int64"
      ]
     },
     "execution_count": 12,
     "metadata": {},
     "output_type": "execute_result"
    }
   ],
   "source": [
    "df['Edad'] = df['Fecha_nacimiento'] .apply(compute_age) #Computing doctor's age.\n",
    "df.Edad"
   ]
  },
  {
   "cell_type": "code",
   "execution_count": 13,
   "metadata": {},
   "outputs": [
    {
     "data": {
      "text/html": [
       "<div>\n",
       "<style scoped>\n",
       "    .dataframe tbody tr th:only-of-type {\n",
       "        vertical-align: middle;\n",
       "    }\n",
       "\n",
       "    .dataframe tbody tr th {\n",
       "        vertical-align: top;\n",
       "    }\n",
       "\n",
       "    .dataframe thead th {\n",
       "        text-align: right;\n",
       "    }\n",
       "</style>\n",
       "<table border=\"1\" class=\"dataframe\">\n",
       "  <thead>\n",
       "    <tr style=\"text-align: right;\">\n",
       "      <th></th>\n",
       "      <th>ID</th>\n",
       "      <th>Considera_tele</th>\n",
       "      <th>Cree_comun_tele</th>\n",
       "      <th>Regularidad_uso</th>\n",
       "      <th>Fecha_nacimiento</th>\n",
       "      <th>Edad</th>\n",
       "    </tr>\n",
       "  </thead>\n",
       "  <tbody>\n",
       "    <tr>\n",
       "      <th>0</th>\n",
       "      <td>721</td>\n",
       "      <td>SI</td>\n",
       "      <td>5: Totalmente Común</td>\n",
       "      <td>3: Neutral</td>\n",
       "      <td>1970-03-26</td>\n",
       "      <td>50</td>\n",
       "    </tr>\n",
       "    <tr>\n",
       "      <th>1</th>\n",
       "      <td>386</td>\n",
       "      <td>SI</td>\n",
       "      <td>3: Neutral</td>\n",
       "      <td>3: Neutral</td>\n",
       "      <td>1977-05-29</td>\n",
       "      <td>43</td>\n",
       "    </tr>\n",
       "    <tr>\n",
       "      <th>2</th>\n",
       "      <td>652</td>\n",
       "      <td>SI</td>\n",
       "      <td>2: Poco común</td>\n",
       "      <td>1: No la utilizaría</td>\n",
       "      <td>1978-01-01</td>\n",
       "      <td>42</td>\n",
       "    </tr>\n",
       "    <tr>\n",
       "      <th>5</th>\n",
       "      <td>501</td>\n",
       "      <td>SI</td>\n",
       "      <td>3: Neutral</td>\n",
       "      <td>3: Neutral</td>\n",
       "      <td>1983-04-26</td>\n",
       "      <td>37</td>\n",
       "    </tr>\n",
       "    <tr>\n",
       "      <th>7</th>\n",
       "      <td>253</td>\n",
       "      <td>SI</td>\n",
       "      <td>3: Neutral</td>\n",
       "      <td>4: Con cierta regularidad</td>\n",
       "      <td>1958-05-04</td>\n",
       "      <td>62</td>\n",
       "    </tr>\n",
       "    <tr>\n",
       "      <th>...</th>\n",
       "      <td>...</td>\n",
       "      <td>...</td>\n",
       "      <td>...</td>\n",
       "      <td>...</td>\n",
       "      <td>...</td>\n",
       "      <td>...</td>\n",
       "    </tr>\n",
       "    <tr>\n",
       "      <th>755</th>\n",
       "      <td>164</td>\n",
       "      <td>NO</td>\n",
       "      <td>1: No será común</td>\n",
       "      <td>2: Con poca regularidad</td>\n",
       "      <td>1958-01-27</td>\n",
       "      <td>62</td>\n",
       "    </tr>\n",
       "    <tr>\n",
       "      <th>756</th>\n",
       "      <td>22</td>\n",
       "      <td>SI</td>\n",
       "      <td>3: Neutral</td>\n",
       "      <td>2: Con poca regularidad</td>\n",
       "      <td>1951-12-02</td>\n",
       "      <td>69</td>\n",
       "    </tr>\n",
       "    <tr>\n",
       "      <th>757</th>\n",
       "      <td>390</td>\n",
       "      <td>NO</td>\n",
       "      <td>1: No será común</td>\n",
       "      <td>3: Neutral</td>\n",
       "      <td>1949-10-28</td>\n",
       "      <td>71</td>\n",
       "    </tr>\n",
       "    <tr>\n",
       "      <th>758</th>\n",
       "      <td>259</td>\n",
       "      <td>SI</td>\n",
       "      <td>4: Muy Común</td>\n",
       "      <td>1: No la utilizaría</td>\n",
       "      <td>1967-12-27</td>\n",
       "      <td>53</td>\n",
       "    </tr>\n",
       "    <tr>\n",
       "      <th>759</th>\n",
       "      <td>497</td>\n",
       "      <td>NO</td>\n",
       "      <td>1: No será común</td>\n",
       "      <td>1: No la utilizaría</td>\n",
       "      <td>1980-08-01</td>\n",
       "      <td>40</td>\n",
       "    </tr>\n",
       "  </tbody>\n",
       "</table>\n",
       "<p>738 rows × 6 columns</p>\n",
       "</div>"
      ],
      "text/plain": [
       "      ID Considera_tele       Cree_comun_tele            Regularidad_uso  \\\n",
       "0    721             SI  5: Totalmente Común                  3: Neutral   \n",
       "1    386             SI            3: Neutral                 3: Neutral   \n",
       "2    652             SI         2: Poco común        1: No la utilizaría   \n",
       "5    501             SI            3: Neutral                 3: Neutral   \n",
       "7    253             SI            3: Neutral  4: Con cierta regularidad   \n",
       "..   ...            ...                   ...                        ...   \n",
       "755  164             NO     1: No será común     2: Con poca regularidad   \n",
       "756   22             SI            3: Neutral    2: Con poca regularidad   \n",
       "757  390             NO     1: No será común                  3: Neutral   \n",
       "758  259             SI          4: Muy Común        1: No la utilizaría   \n",
       "759  497             NO     1: No será común         1: No la utilizaría   \n",
       "\n",
       "    Fecha_nacimiento  Edad  \n",
       "0         1970-03-26    50  \n",
       "1         1977-05-29    43  \n",
       "2         1978-01-01    42  \n",
       "5         1983-04-26    37  \n",
       "7         1958-05-04    62  \n",
       "..               ...   ...  \n",
       "755       1958-01-27    62  \n",
       "756       1951-12-02    69  \n",
       "757       1949-10-28    71  \n",
       "758       1967-12-27    53  \n",
       "759       1980-08-01    40  \n",
       "\n",
       "[738 rows x 6 columns]"
      ]
     },
     "execution_count": 13,
     "metadata": {},
     "output_type": "execute_result"
    }
   ],
   "source": [
    "df #Dataframe ready for the analysis"
   ]
  },
  {
   "cell_type": "markdown",
   "metadata": {},
   "source": [
    "# Initial data exploration"
   ]
  },
  {
   "cell_type": "markdown",
   "metadata": {},
   "source": [
    "#### Histograms"
   ]
  },
  {
   "cell_type": "code",
   "execution_count": 14,
   "metadata": {},
   "outputs": [
    {
     "data": {
      "image/png": "[encoded data removed]",
      "text/plain": [
       "<Figure size 864x360 with 1 Axes>"
      ]
     },
     "metadata": {
      "needs_background": "light"
     },
     "output_type": "display_data"
    }
   ],
   "source": [
    "plot_hist(df,'Edad',55)"
   ]
  },
  {
   "cell_type": "markdown",
   "metadata": {},
   "source": [
    "At first glance, we see above that there are some doctors who are under 20 years old. This behavior is probably an inconsistency in the database because the interviewed doctors are \"Internists\" and \"Endocrinologists\" who generally graduate after the age of 22 years old.\n",
    "\n",
    "To avoid any incosistence in the information we decided to delete these records as follows:"
   ]
  },
  {
   "cell_type": "code",
   "execution_count": 15,
   "metadata": {},
   "outputs": [],
   "source": [
    "df.drop(df[df.Edad<22].index,inplace=True) # \"Removing\" registers where doctor is younger than 22 yo "
   ]
  },
  {
   "cell_type": "code",
   "execution_count": 16,
   "metadata": {},
   "outputs": [
    {
     "data": {
      "image/png": "[encoded data removed]",
      "text/plain": [
       "<Figure size 864x360 with 1 Axes>"
      ]
     },
     "metadata": {
      "needs_background": "light"
     },
     "output_type": "display_data"
    }
   ],
   "source": [
    "plot_hist(df,'Edad',55) #Histogram of count of doctors per age. 55 bins used"
   ]
  },
  {
   "cell_type": "code",
   "execution_count": 17,
   "metadata": {},
   "outputs": [
    {
     "data": {
      "image/png": "[encoded data removed]",
      "text/plain": [
       "<Figure size 864x360 with 1 Axes>"
      ]
     },
     "metadata": {
      "needs_background": "light"
     },
     "output_type": "display_data"
    }
   ],
   "source": [
    "plot_hist(df,'Edad',20) #Histogram of count of doctors per age. 20 bins used"
   ]
  },
  {
   "cell_type": "markdown",
   "metadata": {},
   "source": [
    "At this point we identify that this information looks like a bimodal distribution, where a good analysis could be try to identify if this distribution follows the behavior of a common known probability distribution. "
   ]
  },
  {
   "cell_type": "markdown",
   "metadata": {},
   "source": [
    "# Analysis \n",
    "\n",
    "## Doctor's age and his/her perception about the attractiveness of telemedicine"
   ]
  },
  {
   "cell_type": "markdown",
   "metadata": {},
   "source": [
    "The objective of this analysis is to try to identify if there is already a relationship between doctor's age and his/her perception about the attractiveness of telemedicine.\n",
    "\n",
    "The survey ansewerd by $765$ Internists and Endocrinologists contains a field called `Considera_tele` that answers the question **If they are willing to offer medical assistance (telemedicine)**"
   ]
  },
  {
   "cell_type": "markdown",
   "metadata": {},
   "source": [
    "As first approach we plot the histogram showing the count of 'Negative' and 'Positive' perceptions of doctors grouped by doctor's age.\n",
    "\n",
    "As we see below, line chart doesn't provide information to identify whether there is a relationship between doctor's age and his/her perception about telemedicine."
   ]
  },
  {
   "cell_type": "code",
   "execution_count": 18,
   "metadata": {},
   "outputs": [
    {
     "data": {
      "image/png": "[encoded data removed]",
      "text/plain": [
       "<Figure size 864x360 with 1 Axes>"
      ]
     },
     "metadata": {
      "needs_background": "light"
     },
     "output_type": "display_data"
    }
   ],
   "source": [
    "plot_line_groupedby(df,'Edad','Considera_tele')"
   ]
  },
  {
   "cell_type": "markdown",
   "metadata": {},
   "source": [
    "In order to analyse doctor's willingness to offer telemedicine services, we need to separately analyze doctors perception and see if there is a correlation with their age. \n",
    "\n",
    "Due this, we created 2 groups that summarize 'negative and positive perception by age' and 'total count of perceptions by age'."
   ]
  },
  {
   "cell_type": "code",
   "execution_count": 19,
   "metadata": {},
   "outputs": [],
   "source": [
    "#Creating groups in order to summarize perception information.\n",
    "ggroup_perc_count= df['ID'].groupby([df['Edad'],df['Considera_tele']]).count().reset_index() #Creating pandas df for count per perception\n",
    "ggroup_total_count= df['ID'].groupby([df['Edad']]).count().reset_index() #Creating pandas df for total count"
   ]
  },
  {
   "cell_type": "markdown",
   "metadata": {},
   "source": [
    "As next step, we merged both dataframes in order to mantain a unified record of perceptions and their relationship to the total.\n",
    "\n",
    "This step is very important because it provides us the information that will allow us to calculate the **RATIO** of perceptions to the total."
   ]
  },
  {
   "cell_type": "code",
   "execution_count": 20,
   "metadata": {},
   "outputs": [
    {
     "data": {
      "text/html": [
       "<div>\n",
       "<style scoped>\n",
       "    .dataframe tbody tr th:only-of-type {\n",
       "        vertical-align: middle;\n",
       "    }\n",
       "\n",
       "    .dataframe tbody tr th {\n",
       "        vertical-align: top;\n",
       "    }\n",
       "\n",
       "    .dataframe thead th {\n",
       "        text-align: right;\n",
       "    }\n",
       "</style>\n",
       "<table border=\"1\" class=\"dataframe\">\n",
       "  <thead>\n",
       "    <tr style=\"text-align: right;\">\n",
       "      <th></th>\n",
       "      <th>Edad</th>\n",
       "      <th>Considera_tele</th>\n",
       "      <th>Conteo</th>\n",
       "      <th>Total</th>\n",
       "    </tr>\n",
       "  </thead>\n",
       "  <tbody>\n",
       "    <tr>\n",
       "      <th>0</th>\n",
       "      <td>26</td>\n",
       "      <td>SI</td>\n",
       "      <td>1</td>\n",
       "      <td>1</td>\n",
       "    </tr>\n",
       "    <tr>\n",
       "      <th>1</th>\n",
       "      <td>27</td>\n",
       "      <td>NO</td>\n",
       "      <td>1</td>\n",
       "      <td>2</td>\n",
       "    </tr>\n",
       "    <tr>\n",
       "      <th>2</th>\n",
       "      <td>27</td>\n",
       "      <td>SI</td>\n",
       "      <td>1</td>\n",
       "      <td>2</td>\n",
       "    </tr>\n",
       "    <tr>\n",
       "      <th>3</th>\n",
       "      <td>28</td>\n",
       "      <td>NO</td>\n",
       "      <td>1</td>\n",
       "      <td>1</td>\n",
       "    </tr>\n",
       "    <tr>\n",
       "      <th>4</th>\n",
       "      <td>29</td>\n",
       "      <td>NO</td>\n",
       "      <td>1</td>\n",
       "      <td>1</td>\n",
       "    </tr>\n",
       "    <tr>\n",
       "      <th>...</th>\n",
       "      <td>...</td>\n",
       "      <td>...</td>\n",
       "      <td>...</td>\n",
       "      <td>...</td>\n",
       "    </tr>\n",
       "    <tr>\n",
       "      <th>103</th>\n",
       "      <td>79</td>\n",
       "      <td>SI</td>\n",
       "      <td>1</td>\n",
       "      <td>1</td>\n",
       "    </tr>\n",
       "    <tr>\n",
       "      <th>104</th>\n",
       "      <td>80</td>\n",
       "      <td>NO</td>\n",
       "      <td>3</td>\n",
       "      <td>3</td>\n",
       "    </tr>\n",
       "    <tr>\n",
       "      <th>105</th>\n",
       "      <td>81</td>\n",
       "      <td>NO</td>\n",
       "      <td>1</td>\n",
       "      <td>2</td>\n",
       "    </tr>\n",
       "    <tr>\n",
       "      <th>106</th>\n",
       "      <td>81</td>\n",
       "      <td>SI</td>\n",
       "      <td>1</td>\n",
       "      <td>2</td>\n",
       "    </tr>\n",
       "    <tr>\n",
       "      <th>107</th>\n",
       "      <td>82</td>\n",
       "      <td>NO</td>\n",
       "      <td>1</td>\n",
       "      <td>1</td>\n",
       "    </tr>\n",
       "  </tbody>\n",
       "</table>\n",
       "<p>108 rows × 4 columns</p>\n",
       "</div>"
      ],
      "text/plain": [
       "     Edad Considera_tele  Conteo  Total\n",
       "0      26             SI       1      1\n",
       "1      27             NO       1      2\n",
       "2      27             SI       1      2\n",
       "3      28             NO       1      1\n",
       "4      29             NO       1      1\n",
       "..    ...            ...     ...    ...\n",
       "103    79             SI       1      1\n",
       "104    80             NO       3      3\n",
       "105    81             NO       1      2\n",
       "106    81             SI       1      2\n",
       "107    82             NO       1      1\n",
       "\n",
       "[108 rows x 4 columns]"
      ]
     },
     "execution_count": 20,
     "metadata": {},
     "output_type": "execute_result"
    }
   ],
   "source": [
    "ggroup_perc=pd.merge(ggroup_perc_count,ggroup_total_count,on='Edad') #Merging pandas df\n",
    "\n",
    "#Renaming ggroup_perception cols names\n",
    "rc = {\n",
    "    'ID_x': 'Conteo',\n",
    "    'ID_y':'Total'\n",
    "    }\n",
    "\n",
    "ggroup_perc.rename(rc, axis=1, inplace=True)\n",
    "\n",
    "ggroup_perc"
   ]
  },
  {
   "cell_type": "code",
   "execution_count": 21,
   "metadata": {},
   "outputs": [],
   "source": [
    "ggroup_no = ggroup_perc.copy()\n",
    "ggroup_si = ggroup_perc.copy()\n",
    "\n",
    "ggroup_no.drop(ggroup_no[ggroup_no.Considera_tele=='SI'].index,inplace=True) #\"Removing\".\n",
    "ggroup_si.drop(ggroup_si[ggroup_si.Considera_tele=='NO'].index,inplace=True) #\"Removing\".\n",
    "ggroup_si.drop(ggroup_si[ggroup_si.Considera_tele=='No'].index,inplace=True) #\"Removing\"."
   ]
  },
  {
   "cell_type": "markdown",
   "metadata": {},
   "source": [
    "Once we have the necessary information, we proceed with the convertion of the pandas dataframe to a NumPy array. This convertion obey the fact that we need NumPy arrays in order to use `polyfit` for the calculation of the Regression Model by the method of **Least squares polynomial fit**"
   ]
  },
  {
   "cell_type": "code",
   "execution_count": 22,
   "metadata": {},
   "outputs": [],
   "source": [
    "np_neg_perc=ggroup_no.to_numpy() #Creating numpy array \"Negative Perception\" from pandas dataframe\n",
    "np_pos_perc=ggroup_si.to_numpy() #Creating numpy array \"Positive Perception\" from pandas dataframe"
   ]
  },
  {
   "cell_type": "code",
   "execution_count": 23,
   "metadata": {},
   "outputs": [],
   "source": [
    "#Negative Perception\n",
    "x_neg=np.array(np_neg_perc[:,0],dtype=float)\n",
    "y_neg=np.array(np_neg_perc[:,2],dtype=float)\n",
    "y_neg_esc=np.array(np_neg_perc[:,2]/np_neg_perc[:,3],dtype=float)\n",
    "\n",
    "#Positive Perception\n",
    "x_pos=np.array(np_pos_perc[:,0],dtype=float)\n",
    "y_pos=np.array(np_pos_perc[:,2],dtype=float)\n",
    "y_pos_esc=np.array(np_pos_perc[:,2]/np_pos_perc[:,3],dtype=float)"
   ]
  },
  {
   "cell_type": "markdown",
   "metadata": {},
   "source": [
    "## Linear Regression Model"
   ]
  },
  {
   "cell_type": "markdown",
   "metadata": {},
   "source": [
    "Recalling what was seen in class, Linear regression attempts to model the relationship between two variables by fitting a linear equation to observed data. \n",
    "\n",
    "In our case **the explanatory variable is the doctor's age**, and the **dependent variable is the Negative or Positive perception about the attractiveness of telemedicine**\n",
    "\n",
    "Due we don't expect a regression line that must pass through the origin we opted for the **regression model with intercept**"
   ]
  },
  {
   "cell_type": "markdown",
   "metadata": {},
   "source": [
    "$$f(x|\\beta) = \\beta_0 + \\beta_1 x$$ $$(x_i,y_i)\\forall i=0,1,\\dots,m$$\n",
    "\n",
    "where $\\phi_0(x) = 1$, $\\phi_1(x) =x$. And we need to calculate: $\\beta_0, \\beta_1$."
   ]
  },
  {
   "cell_type": "markdown",
   "metadata": {},
   "source": [
    "#### Negative Perception"
   ]
  },
  {
   "cell_type": "markdown",
   "metadata": {},
   "source": [
    "Linear Regression that correlates doctor's age and their Negative perception about the attractiveness of telemedicine"
   ]
  },
  {
   "cell_type": "code",
   "execution_count": 24,
   "metadata": {},
   "outputs": [
    {
     "name": "stdout",
     "output_type": "stream",
     "text": [
      "array([0.00432852, 0.28488185])\n"
     ]
    }
   ],
   "source": [
    "ndegree = 1\n",
    "coefficients = np.polyfit(x_neg,y_neg_esc,ndegree)\n",
    "pprint.pprint(coefficients)"
   ]
  },
  {
   "cell_type": "markdown",
   "metadata": {},
   "source": [
    "Then:\n",
    "\n",
    "$$f(x|\\beta) = \\beta_0 + \\beta_1 x$$\n",
    "\n",
    "$$p_{np}(x) = 0.00432852x + 0.28488185$$\n",
    "\n",
    "With our beta's adjusted as $\\hat{\\beta_0} = 0.28488185$, $\\hat{\\beta_1} = 0.00432852$."
   ]
  },
  {
   "cell_type": "code",
   "execution_count": 25,
   "metadata": {},
   "outputs": [
    {
     "data": {
      "image/png": "[encoded data removed]",
      "text/plain": [
       "<Figure size 864x360 with 1 Axes>"
      ]
     },
     "metadata": {
      "needs_background": "light"
     },
     "output_type": "display_data"
    }
   ],
   "source": [
    "linear_regression(x_neg,y_neg_esc,1,\"Negative Perception\")"
   ]
  },
  {
   "cell_type": "markdown",
   "metadata": {},
   "source": [
    "#### Positive Perception"
   ]
  },
  {
   "cell_type": "markdown",
   "metadata": {},
   "source": [
    "Linear Regression that correlates doctor's age and their Positive perception about the attractiveness of telemedicine"
   ]
  },
  {
   "cell_type": "code",
   "execution_count": 26,
   "metadata": {},
   "outputs": [
    {
     "name": "stdout",
     "output_type": "stream",
     "text": [
      "array([-0.0031727 ,  0.68710041])\n"
     ]
    }
   ],
   "source": [
    "ndegree = 1\n",
    "coefficients = np.polyfit(x_pos,y_pos_esc,ndegree)\n",
    "pprint.pprint(coefficients)"
   ]
  },
  {
   "cell_type": "markdown",
   "metadata": {},
   "source": [
    "Then:\n",
    "\n",
    "$$f(x|\\beta) = \\beta_0 + \\beta_1 x$$\n",
    "\n",
    "$$p_{np}(x) = -0.0031727x + 0.68710041$$\n",
    "\n",
    "With our beta's adjusted as $\\hat{\\beta_0} = 0.68710041$, $\\hat{\\beta_1} = -0.0031727$."
   ]
  },
  {
   "cell_type": "code",
   "execution_count": 27,
   "metadata": {},
   "outputs": [
    {
     "data": {
      "image/png": "[encoded data removed]",
      "text/plain": [
       "<Figure size 864x360 with 1 Axes>"
      ]
     },
     "metadata": {
      "needs_background": "light"
     },
     "output_type": "display_data"
    }
   ],
   "source": [
    "linear_regression(x_pos,y_pos_esc,1,\"Positive Perception\")"
   ]
  },
  {
   "cell_type": "markdown",
   "metadata": {},
   "source": [
    "## Conclusion"
   ]
  },
  {
   "cell_type": "markdown",
   "metadata": {},
   "source": [
    "As we could see in both analyzes, we corroborated that already exists a relationship between doctor's age and their willingness to offer telemedicine services and we concluded that **as doctors get older, they are less willing to offer telemedicine medical assistance services.**"
   ]
  },
  {
   "cell_type": "code",
   "execution_count": null,
   "metadata": {},
   "outputs": [],
   "source": []
  }
 ],
 "metadata": {
  "kernelspec": {
   "display_name": "Python 3",
   "language": "python",
   "name": "python3"
  },
  "language_info": {
   "codemirror_mode": {
    "name": "ipython",
    "version": 3
   },
   "file_extension": ".py",
   "mimetype": "text/x-python",
   "name": "python",
   "nbconvert_exporter": "python",
   "pygments_lexer": "ipython3",
   "version": "3.6.9"
  }
 },
 "nbformat": 4,
 "nbformat_minor": 4
}
