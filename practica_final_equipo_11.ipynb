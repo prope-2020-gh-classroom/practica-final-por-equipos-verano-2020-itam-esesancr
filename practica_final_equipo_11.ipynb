{
 "cells": [
  {
   "cell_type": "markdown",
   "metadata": {
    "heading_collapsed": true
   },
   "source": [
    "# Subproject a\n",
    "- Age vs eagerness to use platform correlation\n",
    "- Author: Sergio S. (GitHub: esesancr) (mail: esesancr@gmail.com)"
   ]
  },
  {
   "cell_type": "markdown",
   "metadata": {
    "hidden": true
   },
   "source": [
    "---"
   ]
  },
  {
   "cell_type": "markdown",
   "metadata": {
    "hidden": true
   },
   "source": [
    "## Imports"
   ]
  },
  {
   "cell_type": "markdown",
   "metadata": {
    "hidden": true
   },
   "source": [
    "#### Python libraries"
   ]
  },
  {
   "cell_type": "code",
   "execution_count": 1,
   "metadata": {
    "ExecuteTime": {
     "end_time": "2020-07-16T22:35:30.322825Z",
     "start_time": "2020-07-16T22:35:30.304082Z"
    },
    "hidden": true
   },
   "outputs": [],
   "source": [
    "import pandas as pd\n",
    "\n",
    "import numpy as np\n",
    "\n",
    "import os\n",
    "\n",
    "import pprint\n",
    "\n",
    "import matplotlib.pyplot as plt\n",
    "\n",
    "from matplotlib.pyplot import figure"
   ]
  },
  {
   "cell_type": "markdown",
   "metadata": {
    "hidden": true
   },
   "source": [
    "#### Ancillary modules"
   ]
  },
  {
   "cell_type": "code",
   "execution_count": 2,
   "metadata": {
    "ExecuteTime": {
     "end_time": "2020-07-16T22:28:11.789403Z",
     "start_time": "2020-07-16T22:28:11.769060Z"
    },
    "hidden": true
   },
   "outputs": [],
   "source": [
    "## Reloading module\n",
    "%load_ext autoreload\n",
    "%autoreload 2\n",
    "\n",
    "from Sp_a_params import *\n",
    "from Sp_a_funcs import *"
   ]
  },
  {
   "cell_type": "markdown",
   "metadata": {
    "hidden": true
   },
   "source": [
    "---"
   ]
  },
  {
   "cell_type": "markdown",
   "metadata": {
    "hidden": true
   },
   "source": [
    "## Upload and clean data"
   ]
  },
  {
   "cell_type": "code",
   "execution_count": 3,
   "metadata": {
    "ExecuteTime": {
     "end_time": "2020-07-16T22:28:12.814141Z",
     "start_time": "2020-07-16T22:28:12.790450Z"
    },
    "hidden": true,
    "scrolled": true
   },
   "outputs": [],
   "source": [
    "df = pd.read_csv(os.path.join(relative_data_loc, file_name))"
   ]
  },
  {
   "cell_type": "code",
   "execution_count": 4,
   "metadata": {
    "ExecuteTime": {
     "end_time": "2020-07-16T22:28:13.124590Z",
     "start_time": "2020-07-16T22:28:13.108408Z"
    },
    "hidden": true
   },
   "outputs": [
    {
     "data": {
      "text/html": [
       "<div>\n",
       "<style scoped>\n",
       "    .dataframe tbody tr th:only-of-type {\n",
       "        vertical-align: middle;\n",
       "    }\n",
       "\n",
       "    .dataframe tbody tr th {\n",
       "        vertical-align: top;\n",
       "    }\n",
       "\n",
       "    .dataframe thead th {\n",
       "        text-align: right;\n",
       "    }\n",
       "</style>\n",
       "<table border=\"1\" class=\"dataframe\">\n",
       "  <thead>\n",
       "    <tr style=\"text-align: right;\">\n",
       "      <th></th>\n",
       "      <th>ID</th>\n",
       "      <th>Considera_tele</th>\n",
       "      <th>Cree_comun_tele</th>\n",
       "      <th>Regularidad_uso</th>\n",
       "      <th>Fecha_nacimiento</th>\n",
       "    </tr>\n",
       "  </thead>\n",
       "  <tbody>\n",
       "    <tr>\n",
       "      <th>0</th>\n",
       "      <td>721</td>\n",
       "      <td>SI</td>\n",
       "      <td>5: Totalmente Común</td>\n",
       "      <td>3: Neutral</td>\n",
       "      <td>26/03/70</td>\n",
       "    </tr>\n",
       "    <tr>\n",
       "      <th>1</th>\n",
       "      <td>386</td>\n",
       "      <td>SI</td>\n",
       "      <td>3: Neutral</td>\n",
       "      <td>3: Neutral</td>\n",
       "      <td>29/05/77</td>\n",
       "    </tr>\n",
       "    <tr>\n",
       "      <th>2</th>\n",
       "      <td>652</td>\n",
       "      <td>SI</td>\n",
       "      <td>2: Poco común</td>\n",
       "      <td>1: No la utilizaría</td>\n",
       "      <td>01/01/78</td>\n",
       "    </tr>\n",
       "    <tr>\n",
       "      <th>3</th>\n",
       "      <td>362</td>\n",
       "      <td>SI</td>\n",
       "      <td>3: Neutral</td>\n",
       "      <td>2: Con poca regularidad</td>\n",
       "      <td>0</td>\n",
       "    </tr>\n",
       "    <tr>\n",
       "      <th>4</th>\n",
       "      <td>28</td>\n",
       "      <td>SI</td>\n",
       "      <td>4: Muy Común</td>\n",
       "      <td>3: Neutral</td>\n",
       "      <td>0</td>\n",
       "    </tr>\n",
       "    <tr>\n",
       "      <th>...</th>\n",
       "      <td>...</td>\n",
       "      <td>...</td>\n",
       "      <td>...</td>\n",
       "      <td>...</td>\n",
       "      <td>...</td>\n",
       "    </tr>\n",
       "    <tr>\n",
       "      <th>760</th>\n",
       "      <td>533</td>\n",
       "      <td>NO</td>\n",
       "      <td>4: Muy Común</td>\n",
       "      <td>5: Regularmente</td>\n",
       "      <td>0</td>\n",
       "    </tr>\n",
       "    <tr>\n",
       "      <th>761</th>\n",
       "      <td>201</td>\n",
       "      <td>NO</td>\n",
       "      <td>5: Totalmente Común</td>\n",
       "      <td>1: No la utilizaría</td>\n",
       "      <td>0</td>\n",
       "    </tr>\n",
       "    <tr>\n",
       "      <th>762</th>\n",
       "      <td>40</td>\n",
       "      <td>SI</td>\n",
       "      <td>2: Poco común</td>\n",
       "      <td>2: Con poca regularidad</td>\n",
       "      <td>0</td>\n",
       "    </tr>\n",
       "    <tr>\n",
       "      <th>763</th>\n",
       "      <td>63</td>\n",
       "      <td>NO</td>\n",
       "      <td>1: No será común</td>\n",
       "      <td>1: No la utilizaría</td>\n",
       "      <td>0</td>\n",
       "    </tr>\n",
       "    <tr>\n",
       "      <th>764</th>\n",
       "      <td>65</td>\n",
       "      <td>NO</td>\n",
       "      <td>1: No será común</td>\n",
       "      <td>2: Con poca regularidad</td>\n",
       "      <td>0</td>\n",
       "    </tr>\n",
       "  </tbody>\n",
       "</table>\n",
       "<p>765 rows × 5 columns</p>\n",
       "</div>"
      ],
      "text/plain": [
       "      ID Considera_tele       Cree_comun_tele          Regularidad_uso  \\\n",
       "0    721             SI  5: Totalmente Común                3: Neutral   \n",
       "1    386             SI            3: Neutral               3: Neutral   \n",
       "2    652             SI         2: Poco común      1: No la utilizaría   \n",
       "3    362             SI            3: Neutral  2: Con poca regularidad   \n",
       "4     28             SI          4: Muy Común               3: Neutral   \n",
       "..   ...            ...                   ...                      ...   \n",
       "760  533             NO          4: Muy Común          5: Regularmente   \n",
       "761  201             NO  5: Totalmente Común       1: No la utilizaría   \n",
       "762   40             SI         2: Poco común  2: Con poca regularidad   \n",
       "763   63             NO     1: No será común       1: No la utilizaría   \n",
       "764   65             NO     1: No será común   2: Con poca regularidad   \n",
       "\n",
       "    Fecha_nacimiento  \n",
       "0           26/03/70  \n",
       "1           29/05/77  \n",
       "2           01/01/78  \n",
       "3                  0  \n",
       "4                  0  \n",
       "..               ...  \n",
       "760                0  \n",
       "761                0  \n",
       "762                0  \n",
       "763                0  \n",
       "764                0  \n",
       "\n",
       "[765 rows x 5 columns]"
      ]
     },
     "execution_count": 4,
     "metadata": {},
     "output_type": "execute_result"
    }
   ],
   "source": [
    "cleaning_df(df)\n",
    "df"
   ]
  },
  {
   "cell_type": "markdown",
   "metadata": {
    "hidden": true
   },
   "source": [
    "In order to avoid inconsistencies in the information we remove all dates `Fecha_nacimiento`$=0$"
   ]
  },
  {
   "cell_type": "code",
   "execution_count": 5,
   "metadata": {
    "hidden": true
   },
   "outputs": [],
   "source": [
    "df.drop(df[df.Fecha_nacimiento=='0'].index,inplace=True) #\"Removing\" all date of birth==0."
   ]
  },
  {
   "cell_type": "code",
   "execution_count": 6,
   "metadata": {
    "hidden": true
   },
   "outputs": [
    {
     "data": {
      "text/html": [
       "<div>\n",
       "<style scoped>\n",
       "    .dataframe tbody tr th:only-of-type {\n",
       "        vertical-align: middle;\n",
       "    }\n",
       "\n",
       "    .dataframe tbody tr th {\n",
       "        vertical-align: top;\n",
       "    }\n",
       "\n",
       "    .dataframe thead th {\n",
       "        text-align: right;\n",
       "    }\n",
       "</style>\n",
       "<table border=\"1\" class=\"dataframe\">\n",
       "  <thead>\n",
       "    <tr style=\"text-align: right;\">\n",
       "      <th></th>\n",
       "      <th>ID</th>\n",
       "      <th>Considera_tele</th>\n",
       "      <th>Cree_comun_tele</th>\n",
       "      <th>Regularidad_uso</th>\n",
       "      <th>Fecha_nacimiento</th>\n",
       "    </tr>\n",
       "  </thead>\n",
       "  <tbody>\n",
       "    <tr>\n",
       "      <th>0</th>\n",
       "      <td>721</td>\n",
       "      <td>SI</td>\n",
       "      <td>5: Totalmente Común</td>\n",
       "      <td>3: Neutral</td>\n",
       "      <td>26/03/70</td>\n",
       "    </tr>\n",
       "    <tr>\n",
       "      <th>1</th>\n",
       "      <td>386</td>\n",
       "      <td>SI</td>\n",
       "      <td>3: Neutral</td>\n",
       "      <td>3: Neutral</td>\n",
       "      <td>29/05/77</td>\n",
       "    </tr>\n",
       "    <tr>\n",
       "      <th>2</th>\n",
       "      <td>652</td>\n",
       "      <td>SI</td>\n",
       "      <td>2: Poco común</td>\n",
       "      <td>1: No la utilizaría</td>\n",
       "      <td>01/01/78</td>\n",
       "    </tr>\n",
       "    <tr>\n",
       "      <th>5</th>\n",
       "      <td>501</td>\n",
       "      <td>SI</td>\n",
       "      <td>3: Neutral</td>\n",
       "      <td>3: Neutral</td>\n",
       "      <td>26/04/83</td>\n",
       "    </tr>\n",
       "    <tr>\n",
       "      <th>7</th>\n",
       "      <td>253</td>\n",
       "      <td>SI</td>\n",
       "      <td>3: Neutral</td>\n",
       "      <td>4: Con cierta regularidad</td>\n",
       "      <td>05/04/58</td>\n",
       "    </tr>\n",
       "    <tr>\n",
       "      <th>...</th>\n",
       "      <td>...</td>\n",
       "      <td>...</td>\n",
       "      <td>...</td>\n",
       "      <td>...</td>\n",
       "      <td>...</td>\n",
       "    </tr>\n",
       "    <tr>\n",
       "      <th>755</th>\n",
       "      <td>164</td>\n",
       "      <td>NO</td>\n",
       "      <td>1: No será común</td>\n",
       "      <td>2: Con poca regularidad</td>\n",
       "      <td>27/01/58</td>\n",
       "    </tr>\n",
       "    <tr>\n",
       "      <th>756</th>\n",
       "      <td>22</td>\n",
       "      <td>SI</td>\n",
       "      <td>3: Neutral</td>\n",
       "      <td>2: Con poca regularidad</td>\n",
       "      <td>12/02/51</td>\n",
       "    </tr>\n",
       "    <tr>\n",
       "      <th>757</th>\n",
       "      <td>390</td>\n",
       "      <td>NO</td>\n",
       "      <td>1: No será común</td>\n",
       "      <td>3: Neutral</td>\n",
       "      <td>28/10/49</td>\n",
       "    </tr>\n",
       "    <tr>\n",
       "      <th>758</th>\n",
       "      <td>259</td>\n",
       "      <td>SI</td>\n",
       "      <td>4: Muy Común</td>\n",
       "      <td>1: No la utilizaría</td>\n",
       "      <td>27/12/67</td>\n",
       "    </tr>\n",
       "    <tr>\n",
       "      <th>759</th>\n",
       "      <td>497</td>\n",
       "      <td>NO</td>\n",
       "      <td>1: No será común</td>\n",
       "      <td>1: No la utilizaría</td>\n",
       "      <td>08/01/80</td>\n",
       "    </tr>\n",
       "  </tbody>\n",
       "</table>\n",
       "<p>738 rows × 5 columns</p>\n",
       "</div>"
      ],
      "text/plain": [
       "      ID Considera_tele       Cree_comun_tele            Regularidad_uso  \\\n",
       "0    721             SI  5: Totalmente Común                  3: Neutral   \n",
       "1    386             SI            3: Neutral                 3: Neutral   \n",
       "2    652             SI         2: Poco común        1: No la utilizaría   \n",
       "5    501             SI            3: Neutral                 3: Neutral   \n",
       "7    253             SI            3: Neutral  4: Con cierta regularidad   \n",
       "..   ...            ...                   ...                        ...   \n",
       "755  164             NO     1: No será común     2: Con poca regularidad   \n",
       "756   22             SI            3: Neutral    2: Con poca regularidad   \n",
       "757  390             NO     1: No será común                  3: Neutral   \n",
       "758  259             SI          4: Muy Común        1: No la utilizaría   \n",
       "759  497             NO     1: No será común         1: No la utilizaría   \n",
       "\n",
       "    Fecha_nacimiento  \n",
       "0           26/03/70  \n",
       "1           29/05/77  \n",
       "2           01/01/78  \n",
       "5           26/04/83  \n",
       "7           05/04/58  \n",
       "..               ...  \n",
       "755         27/01/58  \n",
       "756         12/02/51  \n",
       "757         28/10/49  \n",
       "758         27/12/67  \n",
       "759         08/01/80  \n",
       "\n",
       "[738 rows x 5 columns]"
      ]
     },
     "execution_count": 6,
     "metadata": {},
     "output_type": "execute_result"
    }
   ],
   "source": [
    "df"
   ]
  },
  {
   "cell_type": "markdown",
   "metadata": {
    "hidden": true
   },
   "source": [
    "Continuing with the cleaning and transformation process, the next step is to convert `Fecha_nacimiento` to its correct date and time format as shown below."
   ]
  },
  {
   "cell_type": "code",
   "execution_count": 7,
   "metadata": {
    "hidden": true
   },
   "outputs": [
    {
     "name": "stdout",
     "output_type": "stream",
     "text": [
      "<class 'pandas.core.frame.DataFrame'>\n",
      "Int64Index: 738 entries, 0 to 759\n",
      "Data columns (total 5 columns):\n",
      " #   Column            Non-Null Count  Dtype \n",
      "---  ------            --------------  ----- \n",
      " 0   ID                738 non-null    int64 \n",
      " 1   Considera_tele    738 non-null    object\n",
      " 2   Cree_comun_tele   738 non-null    object\n",
      " 3   Regularidad_uso   738 non-null    object\n",
      " 4   Fecha_nacimiento  738 non-null    object\n",
      "dtypes: int64(1), object(4)\n",
      "memory usage: 34.6+ KB\n"
     ]
    }
   ],
   "source": [
    "#Summary of the dataframe where 'Fecha_nacimiento' is in object format.\n",
    "df.info()"
   ]
  },
  {
   "cell_type": "code",
   "execution_count": 8,
   "metadata": {
    "hidden": true
   },
   "outputs": [],
   "source": [
    "#Converting dtype object to datetime object\n",
    "df[\"Fecha_nacimiento\"] = pd.to_datetime(df[\"Fecha_nacimiento\"])"
   ]
  },
  {
   "cell_type": "code",
   "execution_count": 9,
   "metadata": {
    "hidden": true
   },
   "outputs": [
    {
     "name": "stdout",
     "output_type": "stream",
     "text": [
      "<class 'pandas.core.frame.DataFrame'>\n",
      "Int64Index: 738 entries, 0 to 759\n",
      "Data columns (total 5 columns):\n",
      " #   Column            Non-Null Count  Dtype         \n",
      "---  ------            --------------  -----         \n",
      " 0   ID                738 non-null    int64         \n",
      " 1   Considera_tele    738 non-null    object        \n",
      " 2   Cree_comun_tele   738 non-null    object        \n",
      " 3   Regularidad_uso   738 non-null    object        \n",
      " 4   Fecha_nacimiento  738 non-null    datetime64[ns]\n",
      "dtypes: datetime64[ns](1), int64(1), object(3)\n",
      "memory usage: 34.6+ KB\n"
     ]
    }
   ],
   "source": [
    "#Summary of the dataframe where 'Fecha_nacimiento' is in datetime format.\n",
    "df.info()"
   ]
  },
  {
   "cell_type": "code",
   "execution_count": 10,
   "metadata": {
    "hidden": true
   },
   "outputs": [
    {
     "data": {
      "text/plain": [
       "0     1970-03-26\n",
       "1     1977-05-29\n",
       "2     1978-01-01\n",
       "5     1983-04-26\n",
       "7     2058-05-04\n",
       "         ...    \n",
       "755   2058-01-27\n",
       "756   2051-12-02\n",
       "757   2049-10-28\n",
       "758   2067-12-27\n",
       "759   1980-08-01\n",
       "Name: Fecha_nacimiento, Length: 738, dtype: datetime64[ns]"
      ]
     },
     "execution_count": 10,
     "metadata": {},
     "output_type": "execute_result"
    }
   ],
   "source": [
    "df.Fecha_nacimiento"
   ]
  },
  {
   "cell_type": "markdown",
   "metadata": {
    "hidden": true
   },
   "source": [
    "Pandas `to_datetime` function has a parsing error where for some convertions, the year is sometimes correct but sometimes not. For example date 27/12/67 is converted to 2067-12-27.\n",
    "\n",
    "To correct this issue, we created the function `fix_date` that solves the parsing of wrong years"
   ]
  },
  {
   "cell_type": "code",
   "execution_count": 11,
   "metadata": {
    "hidden": true
   },
   "outputs": [
    {
     "data": {
      "text/plain": [
       "0      1970-03-26\n",
       "1      1977-05-29\n",
       "2      1978-01-01\n",
       "5      1983-04-26\n",
       "7      1958-05-04\n",
       "          ...    \n",
       "755    1958-01-27\n",
       "756    1951-12-02\n",
       "757    1949-10-28\n",
       "758    1967-12-27\n",
       "759    1980-08-01\n",
       "Name: Fecha_nacimiento, Length: 738, dtype: object"
      ]
     },
     "execution_count": 11,
     "metadata": {},
     "output_type": "execute_result"
    }
   ],
   "source": [
    "df['Fecha_nacimiento'] = df['Fecha_nacimiento'] .apply(fix_date) #Solving the parsing issue.\n",
    "df.Fecha_nacimiento"
   ]
  },
  {
   "cell_type": "markdown",
   "metadata": {
    "hidden": true
   },
   "source": [
    "The next step is to calculate doctor's age based on birthday date. For this task we created a function called `compute_age`"
   ]
  },
  {
   "cell_type": "code",
   "execution_count": 12,
   "metadata": {
    "hidden": true
   },
   "outputs": [
    {
     "data": {
      "text/plain": [
       "0      50\n",
       "1      43\n",
       "2      42\n",
       "5      37\n",
       "7      62\n",
       "       ..\n",
       "755    62\n",
       "756    69\n",
       "757    71\n",
       "758    53\n",
       "759    40\n",
       "Name: Edad, Length: 738, dtype: int64"
      ]
     },
     "execution_count": 12,
     "metadata": {},
     "output_type": "execute_result"
    }
   ],
   "source": [
    "df['Edad'] = df['Fecha_nacimiento'] .apply(compute_age) #Computing doctor's age.\n",
    "df.Edad"
   ]
  },
  {
   "cell_type": "code",
   "execution_count": 13,
   "metadata": {
    "hidden": true
   },
   "outputs": [
    {
     "data": {
      "text/html": [
       "<div>\n",
       "<style scoped>\n",
       "    .dataframe tbody tr th:only-of-type {\n",
       "        vertical-align: middle;\n",
       "    }\n",
       "\n",
       "    .dataframe tbody tr th {\n",
       "        vertical-align: top;\n",
       "    }\n",
       "\n",
       "    .dataframe thead th {\n",
       "        text-align: right;\n",
       "    }\n",
       "</style>\n",
       "<table border=\"1\" class=\"dataframe\">\n",
       "  <thead>\n",
       "    <tr style=\"text-align: right;\">\n",
       "      <th></th>\n",
       "      <th>ID</th>\n",
       "      <th>Considera_tele</th>\n",
       "      <th>Cree_comun_tele</th>\n",
       "      <th>Regularidad_uso</th>\n",
       "      <th>Fecha_nacimiento</th>\n",
       "      <th>Edad</th>\n",
       "    </tr>\n",
       "  </thead>\n",
       "  <tbody>\n",
       "    <tr>\n",
       "      <th>0</th>\n",
       "      <td>721</td>\n",
       "      <td>SI</td>\n",
       "      <td>5: Totalmente Común</td>\n",
       "      <td>3: Neutral</td>\n",
       "      <td>1970-03-26</td>\n",
       "      <td>50</td>\n",
       "    </tr>\n",
       "    <tr>\n",
       "      <th>1</th>\n",
       "      <td>386</td>\n",
       "      <td>SI</td>\n",
       "      <td>3: Neutral</td>\n",
       "      <td>3: Neutral</td>\n",
       "      <td>1977-05-29</td>\n",
       "      <td>43</td>\n",
       "    </tr>\n",
       "    <tr>\n",
       "      <th>2</th>\n",
       "      <td>652</td>\n",
       "      <td>SI</td>\n",
       "      <td>2: Poco común</td>\n",
       "      <td>1: No la utilizaría</td>\n",
       "      <td>1978-01-01</td>\n",
       "      <td>42</td>\n",
       "    </tr>\n",
       "    <tr>\n",
       "      <th>5</th>\n",
       "      <td>501</td>\n",
       "      <td>SI</td>\n",
       "      <td>3: Neutral</td>\n",
       "      <td>3: Neutral</td>\n",
       "      <td>1983-04-26</td>\n",
       "      <td>37</td>\n",
       "    </tr>\n",
       "    <tr>\n",
       "      <th>7</th>\n",
       "      <td>253</td>\n",
       "      <td>SI</td>\n",
       "      <td>3: Neutral</td>\n",
       "      <td>4: Con cierta regularidad</td>\n",
       "      <td>1958-05-04</td>\n",
       "      <td>62</td>\n",
       "    </tr>\n",
       "    <tr>\n",
       "      <th>...</th>\n",
       "      <td>...</td>\n",
       "      <td>...</td>\n",
       "      <td>...</td>\n",
       "      <td>...</td>\n",
       "      <td>...</td>\n",
       "      <td>...</td>\n",
       "    </tr>\n",
       "    <tr>\n",
       "      <th>755</th>\n",
       "      <td>164</td>\n",
       "      <td>NO</td>\n",
       "      <td>1: No será común</td>\n",
       "      <td>2: Con poca regularidad</td>\n",
       "      <td>1958-01-27</td>\n",
       "      <td>62</td>\n",
       "    </tr>\n",
       "    <tr>\n",
       "      <th>756</th>\n",
       "      <td>22</td>\n",
       "      <td>SI</td>\n",
       "      <td>3: Neutral</td>\n",
       "      <td>2: Con poca regularidad</td>\n",
       "      <td>1951-12-02</td>\n",
       "      <td>69</td>\n",
       "    </tr>\n",
       "    <tr>\n",
       "      <th>757</th>\n",
       "      <td>390</td>\n",
       "      <td>NO</td>\n",
       "      <td>1: No será común</td>\n",
       "      <td>3: Neutral</td>\n",
       "      <td>1949-10-28</td>\n",
       "      <td>71</td>\n",
       "    </tr>\n",
       "    <tr>\n",
       "      <th>758</th>\n",
       "      <td>259</td>\n",
       "      <td>SI</td>\n",
       "      <td>4: Muy Común</td>\n",
       "      <td>1: No la utilizaría</td>\n",
       "      <td>1967-12-27</td>\n",
       "      <td>53</td>\n",
       "    </tr>\n",
       "    <tr>\n",
       "      <th>759</th>\n",
       "      <td>497</td>\n",
       "      <td>NO</td>\n",
       "      <td>1: No será común</td>\n",
       "      <td>1: No la utilizaría</td>\n",
       "      <td>1980-08-01</td>\n",
       "      <td>40</td>\n",
       "    </tr>\n",
       "  </tbody>\n",
       "</table>\n",
       "<p>738 rows × 6 columns</p>\n",
       "</div>"
      ],
      "text/plain": [
       "      ID Considera_tele       Cree_comun_tele            Regularidad_uso  \\\n",
       "0    721             SI  5: Totalmente Común                  3: Neutral   \n",
       "1    386             SI            3: Neutral                 3: Neutral   \n",
       "2    652             SI         2: Poco común        1: No la utilizaría   \n",
       "5    501             SI            3: Neutral                 3: Neutral   \n",
       "7    253             SI            3: Neutral  4: Con cierta regularidad   \n",
       "..   ...            ...                   ...                        ...   \n",
       "755  164             NO     1: No será común     2: Con poca regularidad   \n",
       "756   22             SI            3: Neutral    2: Con poca regularidad   \n",
       "757  390             NO     1: No será común                  3: Neutral   \n",
       "758  259             SI          4: Muy Común        1: No la utilizaría   \n",
       "759  497             NO     1: No será común         1: No la utilizaría   \n",
       "\n",
       "    Fecha_nacimiento  Edad  \n",
       "0         1970-03-26    50  \n",
       "1         1977-05-29    43  \n",
       "2         1978-01-01    42  \n",
       "5         1983-04-26    37  \n",
       "7         1958-05-04    62  \n",
       "..               ...   ...  \n",
       "755       1958-01-27    62  \n",
       "756       1951-12-02    69  \n",
       "757       1949-10-28    71  \n",
       "758       1967-12-27    53  \n",
       "759       1980-08-01    40  \n",
       "\n",
       "[738 rows x 6 columns]"
      ]
     },
     "execution_count": 13,
     "metadata": {},
     "output_type": "execute_result"
    }
   ],
   "source": [
    "df #Dataframe ready for the analysis"
   ]
  },
  {
   "cell_type": "markdown",
   "metadata": {
    "hidden": true
   },
   "source": [
    "## Initial data exploration"
   ]
  },
  {
   "cell_type": "markdown",
   "metadata": {
    "hidden": true
   },
   "source": [
    "#### Histograms"
   ]
  },
  {
   "cell_type": "code",
   "execution_count": 14,
   "metadata": {
    "hidden": true
   },
   "outputs": [
    {
     "data": {
      "image/png": "[encoded data removed]",
      "text/plain": [
       "<Figure size 864x360 with 1 Axes>"
      ]
     },
     "metadata": {
      "needs_background": "light"
     },
     "output_type": "display_data"
    }
   ],
   "source": [
    "plot_hist(df,'Edad',55)"
   ]
  },
  {
   "cell_type": "markdown",
   "metadata": {
    "hidden": true
   },
   "source": [
    "At first glance, we see above that there are some doctors who are under 20 years old. This behavior is probably an inconsistency in the database because the interviewed doctors are \"Internists\" and \"Endocrinologists\" who generally graduate after the age of 22 years old.\n",
    "\n",
    "To avoid any incosistence in the information we decided to delete these records as follows:"
   ]
  },
  {
   "cell_type": "code",
   "execution_count": 15,
   "metadata": {
    "hidden": true
   },
   "outputs": [],
   "source": [
    "df.drop(df[df.Edad<22].index,inplace=True) # \"Removing\" registers where doctor is younger than 22 yo "
   ]
  },
  {
   "cell_type": "code",
   "execution_count": 16,
   "metadata": {
    "hidden": true
   },
   "outputs": [
    {
     "data": {
      "image/png": "[encoded data removed]",
      "text/plain": [
       "<Figure size 864x360 with 1 Axes>"
      ]
     },
     "metadata": {
      "needs_background": "light"
     },
     "output_type": "display_data"
    }
   ],
   "source": [
    "plot_hist(df,'Edad',55) #Histogram of count of doctors per age. 55 bins used"
   ]
  },
  {
   "cell_type": "code",
   "execution_count": 17,
   "metadata": {
    "hidden": true
   },
   "outputs": [
    {
     "data": {
      "image/png": "[encoded data removed]",
      "text/plain": [
       "<Figure size 864x360 with 1 Axes>"
      ]
     },
     "metadata": {
      "needs_background": "light"
     },
     "output_type": "display_data"
    }
   ],
   "source": [
    "plot_hist(df,'Edad',20) #Histogram of count of doctors per age. 20 bins used"
   ]
  },
  {
   "cell_type": "markdown",
   "metadata": {
    "hidden": true
   },
   "source": [
    "At this point we identify that this information looks like a bimodal distribution, where a good analysis could be try to identify if this distribution follows the behavior of a common known probability distribution. "
   ]
  },
  {
   "cell_type": "markdown",
   "metadata": {
    "hidden": true
   },
   "source": [
    "## Analysis \n",
    "\n",
    "### Doctor's age and his/her perception about the attractiveness of telemedicine"
   ]
  },
  {
   "cell_type": "markdown",
   "metadata": {
    "hidden": true
   },
   "source": [
    "The objective of this analysis is to try to identify if there is already a relationship between doctor's age and his/her perception about the attractiveness of telemedicine.\n",
    "\n",
    "The survey ansewerd by $765$ Internists and Endocrinologists contains a field called `Considera_tele` that answers the question **If they are willing to offer medical assistance (telemedicine)**"
   ]
  },
  {
   "cell_type": "markdown",
   "metadata": {
    "hidden": true
   },
   "source": [
    "As first approach we plot the histogram showing the count of 'Negative' and 'Positive' perceptions of doctors grouped by doctor's age.\n",
    "\n",
    "As we see below, line chart doesn't provide information to identify whether there is a relationship between doctor's age and his/her perception about telemedicine."
   ]
  },
  {
   "cell_type": "code",
   "execution_count": 18,
   "metadata": {
    "hidden": true
   },
   "outputs": [
    {
     "data": {
      "image/png": "[encoded data removed]",
      "text/plain": [
       "<Figure size 864x360 with 1 Axes>"
      ]
     },
     "metadata": {
      "needs_background": "light"
     },
     "output_type": "display_data"
    }
   ],
   "source": [
    "plot_line_groupedby(df,'Edad','Considera_tele')"
   ]
  },
  {
   "cell_type": "markdown",
   "metadata": {
    "hidden": true
   },
   "source": [
    "In order to analyse doctor's willingness to offer telemedicine services, we need to separately analyze doctors perception and see if there is a correlation with their age. \n",
    "\n",
    "Due this, we created 2 groups that summarize 'negative and positive perception by age' and 'total count of perceptions by age'."
   ]
  },
  {
   "cell_type": "code",
   "execution_count": 19,
   "metadata": {
    "hidden": true
   },
   "outputs": [],
   "source": [
    "#Creating groups in order to summarize perception information.\n",
    "ggroup_perc_count= df['ID'].groupby([df['Edad'],df['Considera_tele']]).count().reset_index() #Creating pandas df for count per perception\n",
    "ggroup_total_count= df['ID'].groupby([df['Edad']]).count().reset_index() #Creating pandas df for total count"
   ]
  },
  {
   "cell_type": "markdown",
   "metadata": {
    "hidden": true
   },
   "source": [
    "As next step, we merged both dataframes in order to mantain a unified record of perceptions and their relationship to the total.\n",
    "\n",
    "This step is very important because it provides us the information that will allow us to calculate the **RATIO** of perceptions to the total."
   ]
  },
  {
   "cell_type": "code",
   "execution_count": 20,
   "metadata": {
    "hidden": true
   },
   "outputs": [
    {
     "data": {
      "text/html": [
       "<div>\n",
       "<style scoped>\n",
       "    .dataframe tbody tr th:only-of-type {\n",
       "        vertical-align: middle;\n",
       "    }\n",
       "\n",
       "    .dataframe tbody tr th {\n",
       "        vertical-align: top;\n",
       "    }\n",
       "\n",
       "    .dataframe thead th {\n",
       "        text-align: right;\n",
       "    }\n",
       "</style>\n",
       "<table border=\"1\" class=\"dataframe\">\n",
       "  <thead>\n",
       "    <tr style=\"text-align: right;\">\n",
       "      <th></th>\n",
       "      <th>Edad</th>\n",
       "      <th>Considera_tele</th>\n",
       "      <th>Conteo</th>\n",
       "      <th>Total</th>\n",
       "    </tr>\n",
       "  </thead>\n",
       "  <tbody>\n",
       "    <tr>\n",
       "      <th>0</th>\n",
       "      <td>26</td>\n",
       "      <td>SI</td>\n",
       "      <td>1</td>\n",
       "      <td>1</td>\n",
       "    </tr>\n",
       "    <tr>\n",
       "      <th>1</th>\n",
       "      <td>27</td>\n",
       "      <td>NO</td>\n",
       "      <td>1</td>\n",
       "      <td>2</td>\n",
       "    </tr>\n",
       "    <tr>\n",
       "      <th>2</th>\n",
       "      <td>27</td>\n",
       "      <td>SI</td>\n",
       "      <td>1</td>\n",
       "      <td>2</td>\n",
       "    </tr>\n",
       "    <tr>\n",
       "      <th>3</th>\n",
       "      <td>28</td>\n",
       "      <td>NO</td>\n",
       "      <td>1</td>\n",
       "      <td>1</td>\n",
       "    </tr>\n",
       "    <tr>\n",
       "      <th>4</th>\n",
       "      <td>29</td>\n",
       "      <td>NO</td>\n",
       "      <td>1</td>\n",
       "      <td>1</td>\n",
       "    </tr>\n",
       "    <tr>\n",
       "      <th>...</th>\n",
       "      <td>...</td>\n",
       "      <td>...</td>\n",
       "      <td>...</td>\n",
       "      <td>...</td>\n",
       "    </tr>\n",
       "    <tr>\n",
       "      <th>103</th>\n",
       "      <td>79</td>\n",
       "      <td>SI</td>\n",
       "      <td>1</td>\n",
       "      <td>1</td>\n",
       "    </tr>\n",
       "    <tr>\n",
       "      <th>104</th>\n",
       "      <td>80</td>\n",
       "      <td>NO</td>\n",
       "      <td>3</td>\n",
       "      <td>3</td>\n",
       "    </tr>\n",
       "    <tr>\n",
       "      <th>105</th>\n",
       "      <td>81</td>\n",
       "      <td>NO</td>\n",
       "      <td>1</td>\n",
       "      <td>2</td>\n",
       "    </tr>\n",
       "    <tr>\n",
       "      <th>106</th>\n",
       "      <td>81</td>\n",
       "      <td>SI</td>\n",
       "      <td>1</td>\n",
       "      <td>2</td>\n",
       "    </tr>\n",
       "    <tr>\n",
       "      <th>107</th>\n",
       "      <td>82</td>\n",
       "      <td>NO</td>\n",
       "      <td>1</td>\n",
       "      <td>1</td>\n",
       "    </tr>\n",
       "  </tbody>\n",
       "</table>\n",
       "<p>108 rows × 4 columns</p>\n",
       "</div>"
      ],
      "text/plain": [
       "     Edad Considera_tele  Conteo  Total\n",
       "0      26             SI       1      1\n",
       "1      27             NO       1      2\n",
       "2      27             SI       1      2\n",
       "3      28             NO       1      1\n",
       "4      29             NO       1      1\n",
       "..    ...            ...     ...    ...\n",
       "103    79             SI       1      1\n",
       "104    80             NO       3      3\n",
       "105    81             NO       1      2\n",
       "106    81             SI       1      2\n",
       "107    82             NO       1      1\n",
       "\n",
       "[108 rows x 4 columns]"
      ]
     },
     "execution_count": 20,
     "metadata": {},
     "output_type": "execute_result"
    }
   ],
   "source": [
    "ggroup_perc=pd.merge(ggroup_perc_count,ggroup_total_count,on='Edad') #Merging pandas df\n",
    "\n",
    "#Renaming ggroup_perception cols names\n",
    "rc = {\n",
    "    'ID_x': 'Conteo',\n",
    "    'ID_y':'Total'\n",
    "    }\n",
    "\n",
    "ggroup_perc.rename(rc, axis=1, inplace=True)\n",
    "\n",
    "ggroup_perc"
   ]
  },
  {
   "cell_type": "code",
   "execution_count": 21,
   "metadata": {
    "hidden": true
   },
   "outputs": [],
   "source": [
    "ggroup_no = ggroup_perc.copy()\n",
    "ggroup_si = ggroup_perc.copy()\n",
    "\n",
    "ggroup_no.drop(ggroup_no[ggroup_no.Considera_tele=='SI'].index,inplace=True) #\"Removing\".\n",
    "ggroup_si.drop(ggroup_si[ggroup_si.Considera_tele=='NO'].index,inplace=True) #\"Removing\".\n",
    "ggroup_si.drop(ggroup_si[ggroup_si.Considera_tele=='No'].index,inplace=True) #\"Removing\"."
   ]
  },
  {
   "cell_type": "markdown",
   "metadata": {
    "hidden": true
   },
   "source": [
    "Once we have the necessary information, we proceed with the convertion of the pandas dataframe to a NumPy array. This convertion obey the fact that we need NumPy arrays in order to use `polyfit` for the calculation of the Regression Model by the method of **Least squares polynomial fit**"
   ]
  },
  {
   "cell_type": "code",
   "execution_count": 22,
   "metadata": {
    "hidden": true
   },
   "outputs": [],
   "source": [
    "np_neg_perc=ggroup_no.to_numpy() #Creating numpy array \"Negative Perception\" from pandas dataframe\n",
    "np_pos_perc=ggroup_si.to_numpy() #Creating numpy array \"Positive Perception\" from pandas dataframe"
   ]
  },
  {
   "cell_type": "code",
   "execution_count": 23,
   "metadata": {
    "hidden": true
   },
   "outputs": [],
   "source": [
    "#Negative Perception\n",
    "x_neg=np.array(np_neg_perc[:,0],dtype=float)\n",
    "y_neg=np.array(np_neg_perc[:,2],dtype=float)\n",
    "y_neg_esc=np.array(np_neg_perc[:,2]/np_neg_perc[:,3],dtype=float)\n",
    "\n",
    "#Positive Perception\n",
    "x_pos=np.array(np_pos_perc[:,0],dtype=float)\n",
    "y_pos=np.array(np_pos_perc[:,2],dtype=float)\n",
    "y_pos_esc=np.array(np_pos_perc[:,2]/np_pos_perc[:,3],dtype=float)"
   ]
  },
  {
   "cell_type": "markdown",
   "metadata": {
    "hidden": true
   },
   "source": [
    "## Linear Regression Model"
   ]
  },
  {
   "cell_type": "markdown",
   "metadata": {
    "hidden": true
   },
   "source": [
    "Recalling what was seen in class, Linear regression attempts to model the relationship between two variables by fitting a linear equation to observed data. \n",
    "\n",
    "In our case **the explanatory variable is the doctor's age**, and the **dependent variable is the Negative or Positive perception about the attractiveness of telemedicine**\n",
    "\n",
    "Due we don't expect a regression line that must pass through the origin we opted for the **regression model with intercept**"
   ]
  },
  {
   "cell_type": "markdown",
   "metadata": {
    "hidden": true
   },
   "source": [
    "$$f(x|\\beta) = \\beta_0 + \\beta_1 x$$ $$(x_i,y_i)\\forall i=0,1,\\dots,m$$\n",
    "\n",
    "where $\\phi_0(x) = 1$, $\\phi_1(x) =x$. And we need to calculate: $\\beta_0, \\beta_1$."
   ]
  },
  {
   "cell_type": "markdown",
   "metadata": {
    "hidden": true
   },
   "source": [
    "#### Negative Perception"
   ]
  },
  {
   "cell_type": "markdown",
   "metadata": {
    "hidden": true
   },
   "source": [
    "Linear Regression that correlates doctor's age and their Negative perception about the attractiveness of telemedicine"
   ]
  },
  {
   "cell_type": "code",
   "execution_count": 24,
   "metadata": {
    "hidden": true
   },
   "outputs": [
    {
     "name": "stdout",
     "output_type": "stream",
     "text": [
      "array([0.00432852, 0.28488185])\n"
     ]
    }
   ],
   "source": [
    "ndegree = 1\n",
    "coefficients = np.polyfit(x_neg,y_neg_esc,ndegree)\n",
    "pprint.pprint(coefficients)"
   ]
  },
  {
   "cell_type": "markdown",
   "metadata": {
    "hidden": true
   },
   "source": [
    "Then:\n",
    "\n",
    "$$f(x|\\beta) = \\beta_0 + \\beta_1 x$$\n",
    "\n",
    "$$p_{np}(x) = 0.00432852x + 0.28488185$$\n",
    "\n",
    "With our beta's adjusted as $\\hat{\\beta_0} = 0.28488185$, $\\hat{\\beta_1} = 0.00432852$."
   ]
  },
  {
   "cell_type": "code",
   "execution_count": 25,
   "metadata": {
    "hidden": true
   },
   "outputs": [
    {
     "data": {
      "image/png": "[encoded data removed]",
      "text/plain": [
       "<Figure size 864x360 with 1 Axes>"
      ]
     },
     "metadata": {
      "needs_background": "light"
     },
     "output_type": "display_data"
    }
   ],
   "source": [
    "linear_regression(x_neg,y_neg_esc,1,\"Negative Perception\")"
   ]
  },
  {
   "cell_type": "markdown",
   "metadata": {
    "hidden": true
   },
   "source": [
    "#### Positive Perception"
   ]
  },
  {
   "cell_type": "markdown",
   "metadata": {
    "hidden": true
   },
   "source": [
    "Linear Regression that correlates doctor's age and their Positive perception about the attractiveness of telemedicine"
   ]
  },
  {
   "cell_type": "code",
   "execution_count": 26,
   "metadata": {
    "hidden": true
   },
   "outputs": [
    {
     "name": "stdout",
     "output_type": "stream",
     "text": [
      "array([-0.0031727 ,  0.68710041])\n"
     ]
    }
   ],
   "source": [
    "ndegree = 1\n",
    "coefficients = np.polyfit(x_pos,y_pos_esc,ndegree)\n",
    "pprint.pprint(coefficients)"
   ]
  },
  {
   "cell_type": "markdown",
   "metadata": {
    "hidden": true
   },
   "source": [
    "Then:\n",
    "\n",
    "$$f(x|\\beta) = \\beta_0 + \\beta_1 x$$\n",
    "\n",
    "$$p_{np}(x) = -0.0031727x + 0.68710041$$\n",
    "\n",
    "With our beta's adjusted as $\\hat{\\beta_0} = 0.68710041$, $\\hat{\\beta_1} = -0.0031727$."
   ]
  },
  {
   "cell_type": "code",
   "execution_count": 27,
   "metadata": {
    "hidden": true
   },
   "outputs": [
    {
     "data": {
      "image/png": "[encoded data removed]",
      "text/plain": [
       "<Figure size 864x360 with 1 Axes>"
      ]
     },
     "metadata": {
      "needs_background": "light"
     },
     "output_type": "display_data"
    }
   ],
   "source": [
    "linear_regression(x_pos,y_pos_esc,1,\"Positive Perception\")"
   ]
  },
  {
   "cell_type": "markdown",
   "metadata": {
    "hidden": true
   },
   "source": [
    "## Conclusion"
   ]
  },
  {
   "cell_type": "markdown",
   "metadata": {
    "hidden": true
   },
   "source": [
    "As we could see in both analyzes, we corroborated that already exists a relationship between doctor's age and their willingness to offer telemedicine services and we concluded that **as doctors get older, they are less willing to offer telemedicine medical assistance services.**"
   ]
  },
  {
   "cell_type": "markdown",
   "metadata": {
    "hidden": true
   },
   "source": [
    "---\n",
    "---"
   ]
  },
  {
   "cell_type": "markdown",
   "metadata": {
    "heading_collapsed": true
   },
   "source": [
    "# Subproject b\n",
    "- Platform attributes\n",
    "- Author: Cecilia Avilés Robles (GitHub: cecyar) (mail: cecyar@gmail.com)"
   ]
  },
  {
   "cell_type": "markdown",
   "metadata": {
    "hidden": true
   },
   "source": [
    "---"
   ]
  },
  {
   "cell_type": "markdown",
   "metadata": {
    "hidden": true
   },
   "source": [
    "## Packages installation and imports required"
   ]
  },
  {
   "cell_type": "code",
   "execution_count": 6,
   "metadata": {
    "hidden": true
   },
   "outputs": [],
   "source": [
    "!pip install --user -q nltk"
   ]
  },
  {
   "cell_type": "code",
   "execution_count": 7,
   "metadata": {
    "hidden": true
   },
   "outputs": [],
   "source": [
    "!pip install --user -q unidecode"
   ]
  },
  {
   "cell_type": "code",
   "execution_count": 8,
   "metadata": {
    "hidden": true
   },
   "outputs": [],
   "source": [
    "!pip install --user -q wordcloud"
   ]
  },
  {
   "cell_type": "code",
   "execution_count": 9,
   "metadata": {
    "hidden": true
   },
   "outputs": [],
   "source": [
    "import pandas as pd\n",
    "import numpy as np\n",
    "import matplotlib.pyplot as plt\n",
    "import seaborn as sns\n",
    "from wordcloud import WordCloud"
   ]
  },
  {
   "cell_type": "code",
   "execution_count": 10,
   "metadata": {
    "hidden": true
   },
   "outputs": [],
   "source": [
    "import os\n",
    "import nltk\n",
    "from nltk import * \n",
    "from nltk.corpus import stopwords\n",
    "from unidecode import unidecode\n",
    "\n",
    "#import nltk.corpus\n",
    "#from nltk import word_tokenize\n",
    "#from nltk.tokenize import word_tokenize\n",
    "#from nltk.probability import FreqDist"
   ]
  },
  {
   "cell_type": "markdown",
   "metadata": {
    "hidden": true
   },
   "source": [
    "## Importing & Cleaning Data"
   ]
  },
  {
   "cell_type": "markdown",
   "metadata": {
    "hidden": true
   },
   "source": [
    "First, we import the raw data and save it to a dataframe for further use."
   ]
  },
  {
   "cell_type": "code",
   "execution_count": 11,
   "metadata": {
    "hidden": true
   },
   "outputs": [
    {
     "data": {
      "text/html": [
       "<div>\n",
       "<style scoped>\n",
       "    .dataframe tbody tr th:only-of-type {\n",
       "        vertical-align: middle;\n",
       "    }\n",
       "\n",
       "    .dataframe tbody tr th {\n",
       "        vertical-align: top;\n",
       "    }\n",
       "\n",
       "    .dataframe thead th {\n",
       "        text-align: right;\n",
       "    }\n",
       "</style>\n",
       "<table border=\"1\" class=\"dataframe\">\n",
       "  <thead>\n",
       "    <tr style=\"text-align: right;\">\n",
       "      <th></th>\n",
       "      <th>ID</th>\n",
       "      <th>ID del Médico</th>\n",
       "      <th>Codigo Medico</th>\n",
       "      <th>Especialidad del Médico</th>\n",
       "      <th>¿Ha considerado ofrecer consultas  médicas a distancia (teleconsultas) a través de videoconferencias a sus pacientes?</th>\n",
       "      <th>¿Del 1 al 5, qué tan común considera que será que sus pacientes soliciten teleconsultas médicas para atender sus padecimientos?</th>\n",
       "      <th>¿Cuenta con alguna plataforma digital que le ayude con la administración de sus servicios médicos (Por Ejemplo: con la gestión de citas, pagos, seguimiento a pacientes)?</th>\n",
       "      <th>¿Cuáles?</th>\n",
       "      <th>¿Cuenta con alguna plataforma digital para ofrecer teleconsultas?</th>\n",
       "      <th>¿Cuáles?2</th>\n",
       "      <th>Seleccione las funcionalidades que considera importantes para que estén presentes en una plataforma digital que lo apoye con la gestión de sus servicios médicos.</th>\n",
       "      <th>¿Cuánto estaría dispuesto a pagar mensualmente por el uso de la plataforma descrita?</th>\n",
       "      <th>Si le ofrecieran una plataforma digital a un precio competitivo para facilitarle la gestión de su agenda de citas, cobros y seguimientos a pacientes, así como la posibilidad de llevar a cabo telec...</th>\n",
       "      <th>Fecha de nacimiento</th>\n",
       "    </tr>\n",
       "  </thead>\n",
       "  <tbody>\n",
       "    <tr>\n",
       "      <th>0</th>\n",
       "      <td>721</td>\n",
       "      <td>1511533</td>\n",
       "      <td>1511533</td>\n",
       "      <td>Endocrinólogo</td>\n",
       "      <td>SI</td>\n",
       "      <td>5: Totalmente Común</td>\n",
       "      <td>SI</td>\n",
       "      <td>No especifico, solicito llamada en agosto</td>\n",
       "      <td>SI</td>\n",
       "      <td>No especifico</td>\n",
       "      <td>Solicito llamada después, estaba ocupada;</td>\n",
       "      <td>No pagaría por una</td>\n",
       "      <td>3: Neutral</td>\n",
       "      <td>26/03/70</td>\n",
       "    </tr>\n",
       "    <tr>\n",
       "      <th>1</th>\n",
       "      <td>386</td>\n",
       "      <td>1561268</td>\n",
       "      <td>1561268</td>\n",
       "      <td>Endocrinólogo</td>\n",
       "      <td>SI</td>\n",
       "      <td>3: Neutral</td>\n",
       "      <td>NO</td>\n",
       "      <td>NaN</td>\n",
       "      <td>NO</td>\n",
       "      <td>NaN</td>\n",
       "      <td>Envío y recepción de documentos con cliente (e...</td>\n",
       "      <td>No pagaría por una</td>\n",
       "      <td>3: Neutral</td>\n",
       "      <td>29/05/77</td>\n",
       "    </tr>\n",
       "    <tr>\n",
       "      <th>2</th>\n",
       "      <td>652</td>\n",
       "      <td>1514853</td>\n",
       "      <td>1514853</td>\n",
       "      <td>Internista</td>\n",
       "      <td>SI</td>\n",
       "      <td>2: Poco común</td>\n",
       "      <td>NO</td>\n",
       "      <td>NaN</td>\n",
       "      <td>SI</td>\n",
       "      <td>Skype</td>\n",
       "      <td>Creación automática de videoconferencias con c...</td>\n",
       "      <td>No pagaría por una</td>\n",
       "      <td>1: No la utilizaría</td>\n",
       "      <td>01/01/78</td>\n",
       "    </tr>\n",
       "    <tr>\n",
       "      <th>3</th>\n",
       "      <td>362</td>\n",
       "      <td>2166821</td>\n",
       "      <td>2166821</td>\n",
       "      <td>Internista</td>\n",
       "      <td>SI</td>\n",
       "      <td>3: Neutral</td>\n",
       "      <td>NO</td>\n",
       "      <td>NaN</td>\n",
       "      <td>SI</td>\n",
       "      <td>Whatsap, zoom, meet</td>\n",
       "      <td>Envío y recepción de documentos con cliente (e...</td>\n",
       "      <td>No pagaría por una</td>\n",
       "      <td>2: Con poca regularidad</td>\n",
       "      <td>0</td>\n",
       "    </tr>\n",
       "    <tr>\n",
       "      <th>4</th>\n",
       "      <td>28</td>\n",
       "      <td>..</td>\n",
       "      <td>..</td>\n",
       "      <td>Internista</td>\n",
       "      <td>SI</td>\n",
       "      <td>4: Muy Común</td>\n",
       "      <td>NO</td>\n",
       "      <td>NaN</td>\n",
       "      <td>NO</td>\n",
       "      <td>NaN</td>\n",
       "      <td>Creación automática de videoconferencias con c...</td>\n",
       "      <td>Menos de $750</td>\n",
       "      <td>3: Neutral</td>\n",
       "      <td>0</td>\n",
       "    </tr>\n",
       "    <tr>\n",
       "      <th>...</th>\n",
       "      <td>...</td>\n",
       "      <td>...</td>\n",
       "      <td>...</td>\n",
       "      <td>...</td>\n",
       "      <td>...</td>\n",
       "      <td>...</td>\n",
       "      <td>...</td>\n",
       "      <td>...</td>\n",
       "      <td>...</td>\n",
       "      <td>...</td>\n",
       "      <td>...</td>\n",
       "      <td>...</td>\n",
       "      <td>...</td>\n",
       "      <td>...</td>\n",
       "    </tr>\n",
       "    <tr>\n",
       "      <th>760</th>\n",
       "      <td>533</td>\n",
       "      <td>joel</td>\n",
       "      <td>joel</td>\n",
       "      <td>Internista</td>\n",
       "      <td>NO</td>\n",
       "      <td>4: Muy Común</td>\n",
       "      <td>NO</td>\n",
       "      <td>NaN</td>\n",
       "      <td>NO</td>\n",
       "      <td>NaN</td>\n",
       "      <td>Creación automática de videoconferencias con c...</td>\n",
       "      <td>No pagaría por una</td>\n",
       "      <td>5: Regularmente</td>\n",
       "      <td>0</td>\n",
       "    </tr>\n",
       "    <tr>\n",
       "      <th>761</th>\n",
       "      <td>201</td>\n",
       "      <td>OZ</td>\n",
       "      <td>OZ</td>\n",
       "      <td>Internista</td>\n",
       "      <td>NO</td>\n",
       "      <td>5: Totalmente Común</td>\n",
       "      <td>NO</td>\n",
       "      <td>NaN</td>\n",
       "      <td>NO</td>\n",
       "      <td>NaN</td>\n",
       "      <td>Envío y recepción de documentos con cliente (e...</td>\n",
       "      <td>No pagaría por una</td>\n",
       "      <td>1: No la utilizaría</td>\n",
       "      <td>0</td>\n",
       "    </tr>\n",
       "    <tr>\n",
       "      <th>762</th>\n",
       "      <td>40</td>\n",
       "      <td>pitaluis</td>\n",
       "      <td>pitaluis</td>\n",
       "      <td>Internista</td>\n",
       "      <td>SI</td>\n",
       "      <td>2: Poco común</td>\n",
       "      <td>NO</td>\n",
       "      <td>NaN</td>\n",
       "      <td>NO</td>\n",
       "      <td>NaN</td>\n",
       "      <td>Creación automática de videoconferencias con c...</td>\n",
       "      <td>No pagaría por una</td>\n",
       "      <td>2: Con poca regularidad</td>\n",
       "      <td>0</td>\n",
       "    </tr>\n",
       "    <tr>\n",
       "      <th>763</th>\n",
       "      <td>63</td>\n",
       "      <td>Q531206</td>\n",
       "      <td>531206</td>\n",
       "      <td>Internista</td>\n",
       "      <td>NO</td>\n",
       "      <td>1: No será común</td>\n",
       "      <td>NO</td>\n",
       "      <td>NaN</td>\n",
       "      <td>NO</td>\n",
       "      <td>NaN</td>\n",
       "      <td>Administración de citas;</td>\n",
       "      <td>No pagaría por una</td>\n",
       "      <td>1: No la utilizaría</td>\n",
       "      <td>0</td>\n",
       "    </tr>\n",
       "    <tr>\n",
       "      <th>764</th>\n",
       "      <td>65</td>\n",
       "      <td>Q531296</td>\n",
       "      <td>531296</td>\n",
       "      <td>Internista</td>\n",
       "      <td>NO</td>\n",
       "      <td>1: No será común</td>\n",
       "      <td>SI</td>\n",
       "      <td>DOCTORALIA</td>\n",
       "      <td>NO</td>\n",
       "      <td>NaN</td>\n",
       "      <td>Administración de citas;</td>\n",
       "      <td>No pagaría por una</td>\n",
       "      <td>2: Con poca regularidad</td>\n",
       "      <td>0</td>\n",
       "    </tr>\n",
       "  </tbody>\n",
       "</table>\n",
       "<p>765 rows × 14 columns</p>\n",
       "</div>"
      ],
      "text/plain": [
       "      ID ID del Médico Codigo Medico Especialidad del Médico  \\\n",
       "0    721       1511533       1511533           Endocrinólogo   \n",
       "1    386       1561268       1561268           Endocrinólogo   \n",
       "2    652       1514853       1514853              Internista   \n",
       "3    362       2166821       2166821              Internista   \n",
       "4     28            ..            ..              Internista   \n",
       "..   ...           ...           ...                     ...   \n",
       "760  533         joel           joel              Internista   \n",
       "761  201            OZ            OZ              Internista   \n",
       "762   40      pitaluis      pitaluis              Internista   \n",
       "763   63       Q531206        531206              Internista   \n",
       "764   65       Q531296        531296              Internista   \n",
       "\n",
       "    ¿Ha considerado ofrecer consultas  médicas a distancia (teleconsultas) a través de videoconferencias a sus pacientes?  \\\n",
       "0                                                   SI                                                                      \n",
       "1                                                   SI                                                                      \n",
       "2                                                   SI                                                                      \n",
       "3                                                   SI                                                                      \n",
       "4                                                   SI                                                                      \n",
       "..                                                 ...                                                                      \n",
       "760                                                 NO                                                                      \n",
       "761                                                 NO                                                                      \n",
       "762                                                 SI                                                                      \n",
       "763                                                 NO                                                                      \n",
       "764                                                 NO                                                                      \n",
       "\n",
       "    ¿Del 1 al 5, qué tan común considera que será que sus pacientes soliciten teleconsultas médicas para atender sus padecimientos?  \\\n",
       "0                                 5: Totalmente Común                                                                                 \n",
       "1                                           3: Neutral                                                                                \n",
       "2                                        2: Poco común                                                                                \n",
       "3                                           3: Neutral                                                                                \n",
       "4                                         4: Muy Común                                                                                \n",
       "..                                                 ...                                                                                \n",
       "760                                       4: Muy Común                                                                                \n",
       "761                               5: Totalmente Común                                                                                 \n",
       "762                                      2: Poco común                                                                                \n",
       "763                                  1: No será común                                                                                 \n",
       "764                                  1: No será común                                                                                 \n",
       "\n",
       "    ¿Cuenta con alguna plataforma digital que le ayude con la administración de sus servicios médicos (Por Ejemplo: con la gestión de citas, pagos, seguimiento a pacientes)?  \\\n",
       "0                                                   SI                                                                                                                          \n",
       "1                                                   NO                                                                                                                          \n",
       "2                                                   NO                                                                                                                          \n",
       "3                                                   NO                                                                                                                          \n",
       "4                                                   NO                                                                                                                          \n",
       "..                                                 ...                                                                                                                          \n",
       "760                                                 NO                                                                                                                          \n",
       "761                                                 NO                                                                                                                          \n",
       "762                                                 NO                                                                                                                          \n",
       "763                                                 NO                                                                                                                          \n",
       "764                                                 SI                                                                                                                          \n",
       "\n",
       "                                      ¿Cuáles?  \\\n",
       "0    No especifico, solicito llamada en agosto   \n",
       "1                                          NaN   \n",
       "2                                          NaN   \n",
       "3                                          NaN   \n",
       "4                                          NaN   \n",
       "..                                         ...   \n",
       "760                                        NaN   \n",
       "761                                        NaN   \n",
       "762                                        NaN   \n",
       "763                                        NaN   \n",
       "764                                 DOCTORALIA   \n",
       "\n",
       "    ¿Cuenta con alguna plataforma digital para ofrecer teleconsultas?  \\\n",
       "0                                                   SI                  \n",
       "1                                                   NO                  \n",
       "2                                                   SI                  \n",
       "3                                                   SI                  \n",
       "4                                                   NO                  \n",
       "..                                                 ...                  \n",
       "760                                                 NO                  \n",
       "761                                                 NO                  \n",
       "762                                                 NO                  \n",
       "763                                                 NO                  \n",
       "764                                                 NO                  \n",
       "\n",
       "               ¿Cuáles?2  \\\n",
       "0          No especifico   \n",
       "1                    NaN   \n",
       "2                  Skype   \n",
       "3    Whatsap, zoom, meet   \n",
       "4                    NaN   \n",
       "..                   ...   \n",
       "760                  NaN   \n",
       "761                  NaN   \n",
       "762                  NaN   \n",
       "763                  NaN   \n",
       "764                  NaN   \n",
       "\n",
       "    Seleccione las funcionalidades que considera importantes para que estén presentes en una plataforma digital que lo apoye con la gestión de sus servicios médicos.  \\\n",
       "0            Solicito llamada después, estaba ocupada;                                                                                                                  \n",
       "1    Envío y recepción de documentos con cliente (e...                                                                                                                  \n",
       "2    Creación automática de videoconferencias con c...                                                                                                                  \n",
       "3    Envío y recepción de documentos con cliente (e...                                                                                                                  \n",
       "4    Creación automática de videoconferencias con c...                                                                                                                  \n",
       "..                                                 ...                                                                                                                  \n",
       "760  Creación automática de videoconferencias con c...                                                                                                                  \n",
       "761  Envío y recepción de documentos con cliente (e...                                                                                                                  \n",
       "762  Creación automática de videoconferencias con c...                                                                                                                  \n",
       "763                           Administración de citas;                                                                                                                  \n",
       "764                           Administración de citas;                                                                                                                  \n",
       "\n",
       "    ¿Cuánto estaría dispuesto a pagar mensualmente por el uso de la plataforma descrita?  \\\n",
       "0                                   No pagaría por una                                     \n",
       "1                                   No pagaría por una                                     \n",
       "2                                   No pagaría por una                                     \n",
       "3                                   No pagaría por una                                     \n",
       "4                                       Menos de $750                                      \n",
       "..                                                 ...                                     \n",
       "760                                 No pagaría por una                                     \n",
       "761                                 No pagaría por una                                     \n",
       "762                                 No pagaría por una                                     \n",
       "763                                 No pagaría por una                                     \n",
       "764                                 No pagaría por una                                     \n",
       "\n",
       "    Si le ofrecieran una plataforma digital a un precio competitivo para facilitarle la gestión de su agenda de citas, cobros y seguimientos a pacientes, así como la posibilidad de llevar a cabo telec...  \\\n",
       "0                                           3: Neutral                                                                                                                                                        \n",
       "1                                           3: Neutral                                                                                                                                                        \n",
       "2                                  1: No la utilizaría                                                                                                                                                        \n",
       "3                              2: Con poca regularidad                                                                                                                                                        \n",
       "4                                           3: Neutral                                                                                                                                                        \n",
       "..                                                 ...                                                                                                                                                        \n",
       "760                                    5: Regularmente                                                                                                                                                        \n",
       "761                                1: No la utilizaría                                                                                                                                                        \n",
       "762                            2: Con poca regularidad                                                                                                                                                        \n",
       "763                                1: No la utilizaría                                                                                                                                                        \n",
       "764                            2: Con poca regularidad                                                                                                                                                        \n",
       "\n",
       "    Fecha de nacimiento  \n",
       "0              26/03/70  \n",
       "1              29/05/77  \n",
       "2              01/01/78  \n",
       "3                     0  \n",
       "4                     0  \n",
       "..                  ...  \n",
       "760                   0  \n",
       "761                   0  \n",
       "762                   0  \n",
       "763                   0  \n",
       "764                   0  \n",
       "\n",
       "[765 rows x 14 columns]"
      ]
     },
     "execution_count": 11,
     "metadata": {},
     "output_type": "execute_result"
    }
   ],
   "source": [
    "data = pd.read_csv(\"project_data.csv\")\n",
    "data"
   ]
  },
  {
   "cell_type": "markdown",
   "metadata": {
    "hidden": true
   },
   "source": [
    "The original column names are stored in a list (in case they are needed). Then, they are changed to a shorter name for easier manipulation."
   ]
  },
  {
   "cell_type": "code",
   "execution_count": 12,
   "metadata": {
    "hidden": true
   },
   "outputs": [],
   "source": [
    "column_names = list(data.columns)"
   ]
  },
  {
   "cell_type": "code",
   "execution_count": 13,
   "metadata": {
    "hidden": true
   },
   "outputs": [],
   "source": [
    "data.columns = ['ID', 'IDMED', 'COD', 'ESP', 'P1_CONSULTAS', 'P2_RANKING', 'P3_PLAT ADMON', 'R3', 'P4_PLAT CONSULTA',\n",
    "               'R4', 'P5_ATRIBUTOS', 'P6_PAGO', 'P7_DISPOSICION', 'FNAC'] "
   ]
  },
  {
   "cell_type": "markdown",
   "metadata": {
    "hidden": true
   },
   "source": [
    "The objective of this subproject is to analyze _\"what are the attributes that doctors value the most in a technological platform that enhances their services\"_. This data is repesented in the answers given in column `P5_ATRIBUTOS`, therefore it will be stored in a separate object for further analysis."
   ]
  },
  {
   "cell_type": "code",
   "execution_count": 14,
   "metadata": {
    "hidden": true
   },
   "outputs": [
    {
     "data": {
      "text/plain": [
       "765"
      ]
     },
     "execution_count": 14,
     "metadata": {},
     "output_type": "execute_result"
    }
   ],
   "source": [
    "attributes = data[\"P5_ATRIBUTOS\"]\n",
    "attributes.size"
   ]
  },
  {
   "cell_type": "markdown",
   "metadata": {
    "hidden": true
   },
   "source": [
    "## Data Analysis"
   ]
  },
  {
   "cell_type": "markdown",
   "metadata": {
    "hidden": true
   },
   "source": [
    "Since the data we are working with is of the type `string`, it will be first saved in a `list` that will be converted to a `string` afterwards."
   ]
  },
  {
   "cell_type": "code",
   "execution_count": 15,
   "metadata": {
    "hidden": true
   },
   "outputs": [],
   "source": [
    "raw_attributes = []\n",
    "\n",
    "for i in range(0, attributes.size):\n",
    "    text_i = str(attributes[i])\n",
    "    raw_attributes.append(text_i)      #List\n",
    "\n",
    "text_attributes = str(raw_attributes)  #String"
   ]
  },
  {
   "cell_type": "markdown",
   "metadata": {
    "hidden": true
   },
   "source": [
    "Then, the default answers are defined in different variables and are used to create an array named `answers`."
   ]
  },
  {
   "cell_type": "code",
   "execution_count": 16,
   "metadata": {
    "hidden": true
   },
   "outputs": [],
   "source": [
    "answer_1a = \"Creación automática de videoconferencias con clientes\"\n",
    "answer_1b = \"Creación automática de videoconferencias\"\n",
    "answer_2 = \"Envío y recepción de documentos con cliente (estudios, recetas médicas)\"\n",
    "answer_3 = \"Administración de citas\"\n",
    "answer_4 = \"Gestión de pagos\"\n",
    "answer_5 = \"Despliegue de encuestas de satisfacción de clientes\"\n",
    "answer_6 = \"Aplicación de promociones de descuento para clientes\"\n",
    "\n",
    "answers = [answer_1a, answer_1b, answer_2, answer_3, answer_4, answer_5, answer_6]"
   ]
  },
  {
   "cell_type": "markdown",
   "metadata": {
    "hidden": true
   },
   "source": [
    "The array `answers` is used to count the number of occurrences each answer has in the string `text_attributes`."
   ]
  },
  {
   "cell_type": "code",
   "execution_count": 17,
   "metadata": {
    "hidden": true
   },
   "outputs": [],
   "source": [
    "pre_counts = []\n",
    "\n",
    "for i in range(0, len(answers)):\n",
    "    count_i = text_attributes.count(answers[i])\n",
    "    pre_counts.append(count_i)"
   ]
  },
  {
   "cell_type": "markdown",
   "metadata": {
    "hidden": true
   },
   "source": [
    "The occurrences were stored in the arrary `pre_counts`. Since the default _answer 1_ was changed during the interview period, there are two possible answers that refer to the same one. Therefore, entries $0$ and $1$ are added to correctly represent this occurrence. The appropriate counts are stored in array `counts`."
   ]
  },
  {
   "cell_type": "code",
   "execution_count": 18,
   "metadata": {
    "hidden": true
   },
   "outputs": [
    {
     "data": {
      "text/plain": [
       "[536, 363, 379, 245, 90, 111]"
      ]
     },
     "execution_count": 18,
     "metadata": {},
     "output_type": "execute_result"
    }
   ],
   "source": [
    "counts = [pre_counts[0] + pre_counts[1], pre_counts[2], pre_counts[3], pre_counts[4], pre_counts[5], pre_counts[6]]\n",
    "counts"
   ]
  },
  {
   "cell_type": "markdown",
   "metadata": {
    "hidden": true
   },
   "source": [
    "**Plotting the default answers**"
   ]
  },
  {
   "cell_type": "markdown",
   "metadata": {
    "hidden": true
   },
   "source": [
    "Creating a label to be used in the plot."
   ]
  },
  {
   "cell_type": "code",
   "execution_count": 19,
   "metadata": {
    "hidden": true
   },
   "outputs": [],
   "source": [
    "label = \"1. \"+answer_1a+\"\\n\"+\"2. \"+answer_2+\"\\n\"+\"3. \"+answer_3+\"\\n\"+\"4. \"+answer_4+\"\\n\"+\"5. \"+answer_5+\"\\n\"+\"6. \"+answer_6"
   ]
  },
  {
   "cell_type": "code",
   "execution_count": 20,
   "metadata": {
    "hidden": true
   },
   "outputs": [
    {
     "data": {
      "image/png": "[encoded data removed]",
      "text/plain": [
       "<Figure size 1080x504 with 1 Axes>"
      ]
     },
     "metadata": {},
     "output_type": "display_data"
    }
   ],
   "source": [
    "sns.set_style(\"whitegrid\")\n",
    "fig = plt.figure(figsize = (15,7))\n",
    "\n",
    "x = np.arange(1,7,1)\n",
    "plt.bar(x, counts, color = [\"firebrick\",\"mediumpurple\",\"steelblue\",\"gray\",\"yellowgreen\",\"gold\"], edgecolor = \"black\")\n",
    "plt.text(3.73, 483, label, bbox = {\"facecolor\": \"white\"})  \n",
    "plt.axis([0.5, 6.5, 0, 600])\n",
    "plt.title(\"Frecuencia de respuestas predeterminadas\", fontsize = 17)\n",
    "plt.xlabel(\"Respuesta\", fontsize = 12)\n",
    "plt.ylabel(\"Frecuencia\", fontsize = 12)\n",
    "plt.show()"
   ]
  },
  {
   "cell_type": "markdown",
   "metadata": {
    "hidden": true
   },
   "source": [
    "We then want to show the default answers by percentages. For this matter, we will use a pie chart."
   ]
  },
  {
   "cell_type": "code",
   "execution_count": 49,
   "metadata": {
    "hidden": true
   },
   "outputs": [],
   "source": [
    "pie_answers = [answer_1a, answer_2, answer_3, answer_4, answer_5, answer_6]\n",
    "plot_info = pd.DataFrame({\"Answer\": pie_answers, \"Freq\": counts,})\n",
    "pie_info = plot_info.sort_values(by = \"Freq\", ascending = False)"
   ]
  },
  {
   "cell_type": "code",
   "execution_count": 50,
   "metadata": {
    "hidden": true
   },
   "outputs": [
    {
     "data": {
      "image/png": "[encoded data removed]",
      "text/plain": [
       "<Figure size 432x288 with 1 Axes>"
      ]
     },
     "metadata": {},
     "output_type": "display_data"
    }
   ],
   "source": [
    "sns.set_style(\"whitegrid\")\n",
    "plt.style.use(\"ggplot\")\n",
    "\n",
    "fig = plt.figure()\n",
    "ax = fig.add_axes([0,0,1,1])\n",
    "ax.axis(\"equal\")\n",
    "ax.pie(pie_info.Freq, labels = pie_info.Answer, autopct = \"%1.2f%%\")\n",
    "plt.title(\"Frecuencia de respuestas predeterminadas\", fontsize = 17)\n",
    "plt.show()"
   ]
  },
  {
   "cell_type": "markdown",
   "metadata": {
    "hidden": true
   },
   "source": [
    "Next, we want to show if there is any correlation between the age of the doctors and their disposition to use an online platform (represented by selecting some of the default answers or no)."
   ]
  },
  {
   "cell_type": "markdown",
   "metadata": {
    "hidden": true
   },
   "source": [
    "For this, a new dataframe `birth_info` will be created with columns `P5_ATRIBUTOS`and `FNAC` of the raw data."
   ]
  },
  {
   "cell_type": "code",
   "execution_count": 51,
   "metadata": {
    "hidden": true
   },
   "outputs": [],
   "source": [
    "attributes2 = data[\"P5_ATRIBUTOS\"]\n",
    "birthdates = data[\"FNAC\"]"
   ]
  },
  {
   "cell_type": "code",
   "execution_count": 24,
   "metadata": {
    "hidden": true
   },
   "outputs": [],
   "source": [
    "birth_info = pd.DataFrame({'BirthDate': birthdates, 'Attributes': attributes2,})"
   ]
  },
  {
   "cell_type": "markdown",
   "metadata": {
    "hidden": true
   },
   "source": [
    "Then, we calculate an _approximate age_ based only on the birth year. We create a list `year` with this calculation, and then append it to the dataframe `birth_info`."
   ]
  },
  {
   "cell_type": "code",
   "execution_count": 25,
   "metadata": {
    "hidden": true
   },
   "outputs": [],
   "source": [
    "year = []\n",
    "for i in range(0,birth_info.shape[0]):\n",
    "    year_i = 120 - int(birth_info.BirthDate[i][-2:])\n",
    "    year.append(year_i)"
   ]
  },
  {
   "cell_type": "code",
   "execution_count": 26,
   "metadata": {
    "hidden": true
   },
   "outputs": [],
   "source": [
    "dfyear = pd.DataFrame(year, columns = [\"Age\"])"
   ]
  },
  {
   "cell_type": "code",
   "execution_count": 27,
   "metadata": {
    "hidden": true
   },
   "outputs": [],
   "source": [
    "birth_info[\"Age\"] = dfyear[\"Age\"]"
   ]
  },
  {
   "cell_type": "markdown",
   "metadata": {
    "hidden": true
   },
   "source": [
    "Now we add new `flag` columns to indicate whether a default answer was selected (\"Yes\") or no (\"No\"). Additionally, the same is done for the optinal answer _\"Todas\"_."
   ]
  },
  {
   "cell_type": "code",
   "execution_count": 28,
   "metadata": {
    "hidden": true
   },
   "outputs": [
    {
     "data": {
      "text/plain": [
       "(765, 10)"
      ]
     },
     "execution_count": 28,
     "metadata": {},
     "output_type": "execute_result"
    }
   ],
   "source": [
    "birth_info['A1_flag'] = np.where(birth_info['Attributes'].str.contains(answer_1b), 'Yes', 'No')\n",
    "birth_info['A2_flag'] = np.where(birth_info['Attributes'].str.contains(\"Envío y recepción de documentos con cliente\"), 'Yes', 'No')\n",
    "birth_info['A3_flag'] = np.where(birth_info['Attributes'].str.contains(answer_3), 'Yes', 'No')\n",
    "birth_info['A4_flag'] = np.where(birth_info['Attributes'].str.contains(answer_4), 'Yes', 'No')\n",
    "birth_info['A5_flag'] = np.where(birth_info['Attributes'].str.contains(answer_5), 'Yes', 'No')\n",
    "birth_info['A6_flag'] = np.where(birth_info['Attributes'].str.contains(answer_6), 'Yes', 'No')\n",
    "birth_info['An_flag'] = np.where(birth_info['Attributes'].str.contains(\"Todas\"), 'Yes', 'No')\n",
    "birth_info.shape"
   ]
  },
  {
   "cell_type": "markdown",
   "metadata": {
    "hidden": true
   },
   "source": [
    "Later, we delete the rows in which no birth date was given, to exlude them from our analysis."
   ]
  },
  {
   "cell_type": "code",
   "execution_count": 52,
   "metadata": {
    "hidden": true
   },
   "outputs": [
    {
     "data": {
      "text/plain": [
       "(730, 11)"
      ]
     },
     "execution_count": 52,
     "metadata": {},
     "output_type": "execute_result"
    }
   ],
   "source": [
    "indexNames = birth_info[ (birth_info['Age'] == 120) | (birth_info['Age'] == 119) ].index\n",
    "birth_info.drop(indexNames, inplace = True)\n",
    "birth_info.shape"
   ]
  },
  {
   "cell_type": "markdown",
   "metadata": {
    "hidden": true
   },
   "source": [
    "Then, function `answers_pre` is defined to evaluate whether a `flag` column has `Yes` or `No`. It is later added to the dataframe `birth_info` in the new column `Boolean_Answer`."
   ]
  },
  {
   "cell_type": "code",
   "execution_count": 53,
   "metadata": {
    "hidden": true
   },
   "outputs": [],
   "source": [
    "def answers_pre (row):\n",
    "   if row[\"A1_flag\"] == \"Yes\" :\n",
    "      return \"Yes\"\n",
    "   if row[\"A2_flag\"] == \"Yes\" :\n",
    "      return \"Yes\"\n",
    "   if row[\"A3_flag\"] == \"Yes\" :\n",
    "      return \"Yes\"\n",
    "   if row[\"A4_flag\"] == \"Yes\":\n",
    "      return \"Yes\"\n",
    "   if row[\"A5_flag\"]  == \"Yes\":\n",
    "      return \"Yes\"\n",
    "   if row[\"A6_flag\"] == \"Yes\":\n",
    "      return \"Yes\"\n",
    "   if row[\"An_flag\"] == \"Yes\":\n",
    "      return \"Yes\"\n",
    "   return \"No\""
   ]
  },
  {
   "cell_type": "code",
   "execution_count": 54,
   "metadata": {
    "hidden": true
   },
   "outputs": [],
   "source": [
    "birth_info['Boolean_Answer'] = birth_info.apply (lambda row: answers_pre(row), axis = 1)"
   ]
  },
  {
   "cell_type": "markdown",
   "metadata": {
    "hidden": true
   },
   "source": [
    "Lastly, two sub dataframes are created both containing the age of the doctor. The first one is for when the doctor selected one of the default answers (`yes_df`), the second one for when he did not (`no_df`)."
   ]
  },
  {
   "cell_type": "code",
   "execution_count": 55,
   "metadata": {
    "hidden": true
   },
   "outputs": [
    {
     "data": {
      "text/plain": [
       "(627, 11)"
      ]
     },
     "execution_count": 55,
     "metadata": {},
     "output_type": "execute_result"
    }
   ],
   "source": [
    "yes_df = birth_info[birth_info['Boolean_Answer'] == \"Yes\"]\n",
    "yes_df.shape"
   ]
  },
  {
   "cell_type": "code",
   "execution_count": 56,
   "metadata": {
    "hidden": true
   },
   "outputs": [
    {
     "data": {
      "text/plain": [
       "(103, 11)"
      ]
     },
     "execution_count": 56,
     "metadata": {},
     "output_type": "execute_result"
    }
   ],
   "source": [
    "no_df = birth_info[birth_info['Boolean_Answer'] == \"No\"]\n",
    "no_df.shape"
   ]
  },
  {
   "cell_type": "markdown",
   "metadata": {
    "hidden": true
   },
   "source": [
    "Now we use these two sub dataframes to plot the age distribution of the two."
   ]
  },
  {
   "cell_type": "code",
   "execution_count": 57,
   "metadata": {
    "hidden": true
   },
   "outputs": [
    {
     "data": {
      "text/plain": [
       "<matplotlib.legend.Legend at 0x7fa854214438>"
      ]
     },
     "execution_count": 57,
     "metadata": {},
     "output_type": "execute_result"
    },
    {
     "data": {
      "image/png": "[encoded data removed]",
      "text/plain": [
       "<Figure size 1080x504 with 1 Axes>"
      ]
     },
     "metadata": {},
     "output_type": "display_data"
    }
   ],
   "source": [
    "sns.set_style(\"whitegrid\")\n",
    "fig = plt.figure(figsize = (15,7))\n",
    "\n",
    "sns.distplot(yes_df[\"Age\"], color = \"green\", label = \"Answered Yes to any question\")\n",
    "sns.distplot(no_df[\"Age\"], color = \"red\", label = \"Answered No\")\n",
    "plt.title(\"Distribución de Edades\", fontsize = 17)\n",
    "plt.legend()"
   ]
  },
  {
   "cell_type": "markdown",
   "metadata": {
    "hidden": true
   },
   "source": [
    "We combine the two sub dataframes in order to make a scatter plot."
   ]
  },
  {
   "cell_type": "code",
   "execution_count": 58,
   "metadata": {
    "hidden": true
   },
   "outputs": [],
   "source": [
    "yes_info = pd.DataFrame({\"Age\": yes_df.Age, \"Boolean_Ans\": yes_df.Boolean_Answer,})\n",
    "no_info = pd.DataFrame({\"Age\": no_df.Age, \"Boolean_Ans\": no_df.Boolean_Answer,})\n",
    "scatter_info = yes_info.append(no_info)"
   ]
  },
  {
   "cell_type": "code",
   "execution_count": 60,
   "metadata": {
    "hidden": true
   },
   "outputs": [
    {
     "data": {
      "text/plain": [
       "Text(0.5, 1.0, 'Dispersión de Edades')"
      ]
     },
     "execution_count": 60,
     "metadata": {},
     "output_type": "execute_result"
    },
    {
     "data": {
      "image/png": "[encoded data removed]",
      "text/plain": [
       "<Figure size 1080x504 with 1 Axes>"
      ]
     },
     "metadata": {},
     "output_type": "display_data"
    }
   ],
   "source": [
    "fig = plt.figure(figsize = (15,7))\n",
    "sns.set_style(\"whitegrid\")\n",
    "\n",
    "sns.regplot(x = scatter_info[\"Age\"], y = scatter_info[\"Boolean_Ans\"], fit_reg = False, scatter_kws = {\"color\":\"darkred\",\"alpha\":0.3,\"s\":200})\n",
    "plt.title(\"Dispersión de Edades\", fontsize = 17)"
   ]
  },
  {
   "cell_type": "markdown",
   "metadata": {
    "hidden": true
   },
   "source": [
    "Based on the distribution and scatter plots, we conclude that there is no correlation between the age of the doctors and their disposition to use an online platform (represented by selecting some of the default answers or no)."
   ]
  },
  {
   "cell_type": "markdown",
   "metadata": {
    "hidden": true
   },
   "source": [
    "## Analyzing the inputs from the _optional_ answer (written data)"
   ]
  },
  {
   "cell_type": "markdown",
   "metadata": {
    "hidden": true
   },
   "source": [
    "In case the doctor did not want to select one of the default answers, there was an _optional_ 7th answer in which they could write whatever they wanted. This \"free text\" needs to be part of the analysis."
   ]
  },
  {
   "cell_type": "markdown",
   "metadata": {
    "hidden": true
   },
   "source": [
    "We start by deleting the default answers from the string `text_attributes` and stored the new string in `pre_written_answers`."
   ]
  },
  {
   "cell_type": "code",
   "execution_count": 37,
   "metadata": {
    "hidden": true
   },
   "outputs": [],
   "source": [
    "pre_written_ans = text_attributes\n",
    "\n",
    "for i in range(0, len(answers)):\n",
    "    pre_written_ans = pre_written_ans.replace(str(answers[i]),\"\")\n",
    "    \n",
    "#print(pre_written_ans)        #Remove the hashtag at the beginning to see the result"
   ]
  },
  {
   "cell_type": "markdown",
   "metadata": {
    "hidden": true
   },
   "source": [
    "This new string has to be filtered in order to remove characters as `;`, `'`, `,`, `[`, `]`, `(` and `)`. This is achieved with the following line of code."
   ]
  },
  {
   "cell_type": "code",
   "execution_count": 61,
   "metadata": {
    "hidden": true
   },
   "outputs": [],
   "source": [
    "pre_written_ans = pre_written_ans.translate({ord(i): None for i in \";',[]()\"})\n",
    "#pre_written_ans               #Remove the hashtag at the beginning to see the result"
   ]
  },
  {
   "cell_type": "markdown",
   "metadata": {
    "hidden": true
   },
   "source": [
    "Now we remove all special characters and change the words to lowercase."
   ]
  },
  {
   "cell_type": "code",
   "execution_count": 62,
   "metadata": {
    "hidden": true
   },
   "outputs": [],
   "source": [
    "pre_written_ans = unidecode(pre_written_ans).lower()\n",
    "#pre_written_ans               #Remove the hashtag at the beginning to see the result"
   ]
  },
  {
   "cell_type": "markdown",
   "metadata": {
    "hidden": true
   },
   "source": [
    "In order to obtain a better analysis, the words defined in array `to_replace` will be changed with the words defined in array `replaced`. This new string is saved in `written_ans`."
   ]
  },
  {
   "cell_type": "code",
   "execution_count": 40,
   "metadata": {
    "hidden": true
   },
   "outputs": [],
   "source": [
    "to_replace = [\"intereza\", \"interezado\", \"interesaria\", \"interesado\", \".\"]\n",
    "replaced = [\"interesa\", \"interesa\", \"interesa\", \"interesa\", \"\"]"
   ]
  },
  {
   "cell_type": "code",
   "execution_count": 63,
   "metadata": {
    "hidden": true
   },
   "outputs": [],
   "source": [
    "written_ans = pre_written_ans\n",
    "\n",
    "for i in range(0, len(to_replace)):\n",
    "    written_ans = written_ans.replace(to_replace[i],replaced[i])\n",
    "    \n",
    "#written_ans                 #Remove the hashtag at the beginning to see the result"
   ]
  },
  {
   "cell_type": "markdown",
   "metadata": {
    "hidden": true
   },
   "source": [
    "Now, I will use the info provided in [Text Mining in Python](https://medium.com/towards-artificial-intelligence/text-mining-in-python-steps-and-examples-78b3f8fd913b) to do some language processing.\n",
    "\n",
    "First, we do a _tokenization_, which means breaking the string into tokens which in turn are small structures or units."
   ]
  },
  {
   "cell_type": "code",
   "execution_count": 64,
   "metadata": {
    "hidden": true
   },
   "outputs": [
    {
     "name": "stderr",
     "output_type": "stream",
     "text": [
      "[nltk_data] Downloading package punkt to /home/miuser/nltk_data...\n",
      "[nltk_data]   Package punkt is already up-to-date!\n"
     ]
    }
   ],
   "source": [
    "nltk.download('punkt')\n",
    "\n",
    "token_words = word_tokenize(written_ans)"
   ]
  },
  {
   "cell_type": "markdown",
   "metadata": {
    "hidden": true
   },
   "source": [
    "Then, we find the frequency of each token in order to identify and show the top 30 words."
   ]
  },
  {
   "cell_type": "code",
   "execution_count": 66,
   "metadata": {
    "hidden": true
   },
   "outputs": [
    {
     "data": {
      "text/plain": [
       "[('no', 57),\n",
       " ('que', 19),\n",
       " ('interesa', 19),\n",
       " ('ninguna', 16),\n",
       " ('le', 13),\n",
       " ('de', 12),\n",
       " ('el', 11),\n",
       " ('la', 11),\n",
       " ('me', 9),\n",
       " ('en', 8),\n",
       " ('a', 8),\n",
       " ('todo', 7),\n",
       " ('esta', 7),\n",
       " ('todas', 6),\n",
       " ('calidad', 6),\n",
       " ('y', 6),\n",
       " ('lo', 6),\n",
       " ('informacion', 6),\n",
       " ('por', 6),\n",
       " ('es', 5),\n",
       " ('con', 5),\n",
       " ('nos', 5),\n",
       " ('se', 5),\n",
       " ('o', 4),\n",
       " ('hospital', 4),\n",
       " ('muy', 4),\n",
       " ('buena', 3),\n",
       " ('apoye', 3),\n",
       " ('he', 3),\n",
       " ('mi', 3)]"
      ]
     },
     "execution_count": 66,
     "metadata": {},
     "output_type": "execute_result"
    }
   ],
   "source": [
    "fdist = FreqDist(token_words)\n",
    "fdist_top = fdist.most_common(30)\n",
    "fdist_top"
   ]
  },
  {
   "cell_type": "markdown",
   "metadata": {
    "hidden": true
   },
   "source": [
    "We can see there are a lot of words that do not offer any value for the analysis. These are called _\"Stop words\"_ and are interpreted as the most common words in any language (in spanish they will be equivalent to _artículos, preposiciones, conjunciones, etc._). These words do not provide any meaning and are usually removed from texts. We will remove these stop words with the following code."
   ]
  },
  {
   "cell_type": "code",
   "execution_count": 71,
   "metadata": {
    "hidden": true
   },
   "outputs": [
    {
     "name": "stderr",
     "output_type": "stream",
     "text": [
      "[nltk_data] Downloading package stopwords to /home/miuser/nltk_data...\n",
      "[nltk_data]   Package stopwords is already up-to-date!\n"
     ]
    }
   ],
   "source": [
    "nltk.download(\"stopwords\")\n",
    "a = set(stopwords.words(\"spanish\"))\n",
    "\n",
    "pre_processed_text = word_tokenize(written_ans.lower())\n",
    "processed_text = [x for x in pre_processed_text if x not in a]\n",
    "\n",
    "#print(processed_text)            #Remove the hashtag at the beginning to see the result"
   ]
  },
  {
   "cell_type": "markdown",
   "metadata": {
    "hidden": true
   },
   "source": [
    "Again, we find the frequency of each token in order to identify and show the top 30 words."
   ]
  },
  {
   "cell_type": "code",
   "execution_count": 73,
   "metadata": {
    "hidden": true
   },
   "outputs": [],
   "source": [
    "fdist2 = FreqDist(processed_text)"
   ]
  },
  {
   "cell_type": "code",
   "execution_count": 74,
   "metadata": {
    "hidden": true
   },
   "outputs": [
    {
     "data": {
      "text/plain": [
       "[('interesa', 19),\n",
       " ('ninguna', 16),\n",
       " ('todas', 6),\n",
       " ('calidad', 6),\n",
       " ('informacion', 6),\n",
       " ('hospital', 4),\n",
       " ('buena', 3),\n",
       " ('apoye', 3),\n",
       " ('necesita', 3),\n",
       " ('usaria', 3),\n",
       " ('pacientes', 3),\n",
       " ('varias', 3),\n",
       " ('momento', 3),\n",
       " ('plataformas', 3),\n",
       " ('usa', 2),\n",
       " ('whats', 2),\n",
       " ('app', 2),\n",
       " ('creo', 2),\n",
       " ('especificar', 2),\n",
       " ('solo', 2),\n",
       " ('seguimiento', 2),\n",
       " ('dar', 2),\n",
       " ('informativa', 2),\n",
       " ('realmente', 2),\n",
       " ('ver', 2),\n",
       " ('util', 2),\n",
       " ('bueno', 2),\n",
       " ('solicito', 1),\n",
       " ('llamada', 1),\n",
       " ('despues', 1)]"
      ]
     },
     "execution_count": 74,
     "metadata": {},
     "output_type": "execute_result"
    }
   ],
   "source": [
    "fdist_top2 = fdist2.most_common(30)\n",
    "fdist_top2"
   ]
  },
  {
   "cell_type": "markdown",
   "metadata": {
    "hidden": true
   },
   "source": [
    "We can see there is a better analysis of the written words. We will use this information to plot a Word Cloud for academic purposes."
   ]
  },
  {
   "cell_type": "code",
   "execution_count": 85,
   "metadata": {
    "hidden": true
   },
   "outputs": [
    {
     "data": {
      "image/png": "[encoded data removed]",
      "text/plain": [
       "<Figure size 504x504 with 1 Axes>"
      ]
     },
     "metadata": {},
     "output_type": "display_data"
    }
   ],
   "source": [
    "str_processed_text = str(processed_text)\n",
    "str_processed_text = str_processed_text.translate({ord(i): None for i in \"',\"})\n",
    "\n",
    "fig = plt.figure(figsize = (7,7))\n",
    "wordcloud = WordCloud(width = 1000, height = 1000, margin = 0, colormap = \"Dark2\", \n",
    "                      max_words = 25, stopwords = [\"interesa\", \"todas\"]).generate(str_processed_text)\n",
    "plt.imshow(wordcloud, interpolation = \"bilinear\")\n",
    "plt.axis(\"off\")\n",
    "plt.margins(x = 0, y = 0)\n",
    "plt.title(\"Palabras escrita con mayor frecuencia\", fontsize = 17)\n",
    "plt.show()"
   ]
  },
  {
   "cell_type": "markdown",
   "metadata": {
    "hidden": true
   },
   "source": [
    "**Conclusion**"
   ]
  },
  {
   "cell_type": "markdown",
   "metadata": {
    "hidden": true
   },
   "source": [
    "Our sample size consists of $765$ answers given by 765 doctors. The $82$% selected one of the default answers versus the $13$% that did not, the $5$% did not provide their birth date information.\n",
    "\n",
    "From the $13$% that choose not to select one of the default answers, we analyzed the given text. \n",
    "* The most common given answer was negative towards the digital platform, representing roughly the $10$% of the total sample (57 `No` plus 19 `Ninguna`). \n",
    "* Almost the $1.5$% value either the _quality_ or the _information_ available on hypothetical digital platform. \n",
    "* The rest of the common words do not provide any significant information due to very low sample size and no specific trend observed."
   ]
  },
  {
   "cell_type": "markdown",
   "metadata": {
    "hidden": true
   },
   "source": [
    "---\n",
    "---"
   ]
  },
  {
   "cell_type": "markdown",
   "metadata": {
    "heading_collapsed": true
   },
   "source": [
    "# Subproject c\n",
    "- Test for independence of selected survey responses\n",
    "- Author: Roberto P. (GitHub: Roberto919) (mail: robertosysm@gmail.com)"
   ]
  },
  {
   "cell_type": "markdown",
   "metadata": {
    "hidden": true
   },
   "source": [
    "---"
   ]
  },
  {
   "cell_type": "markdown",
   "metadata": {
    "hidden": true
   },
   "source": [
    "## Imports"
   ]
  },
  {
   "cell_type": "markdown",
   "metadata": {
    "hidden": true
   },
   "source": [
    "#### Python libraries"
   ]
  },
  {
   "cell_type": "code",
   "execution_count": 1,
   "metadata": {
    "ExecuteTime": {
     "end_time": "2020-07-18T02:08:13.519644Z",
     "start_time": "2020-07-18T02:08:12.923476Z"
    },
    "hidden": true
   },
   "outputs": [],
   "source": [
    "import pandas as pd\n",
    "\n",
    "import os\n",
    "\n",
    "import matplotlib.pyplot as plt\n",
    "from matplotlib.pyplot import figure\n",
    "\n",
    "from scipy.stats import chi2_contingency, chi2\n",
    "\n",
    "import numpy as np"
   ]
  },
  {
   "cell_type": "markdown",
   "metadata": {
    "hidden": true
   },
   "source": [
    "#### Ancillary modules"
   ]
  },
  {
   "cell_type": "code",
   "execution_count": 2,
   "metadata": {
    "ExecuteTime": {
     "end_time": "2020-07-18T02:08:14.185937Z",
     "start_time": "2020-07-18T02:08:14.158097Z"
    },
    "hidden": true
   },
   "outputs": [],
   "source": [
    "## Reloading module\n",
    "%load_ext autoreload\n",
    "%autoreload 2\n",
    "\n",
    "from Sp_c_params import *\n",
    "from Sp_c_funcs import *"
   ]
  },
  {
   "cell_type": "markdown",
   "metadata": {
    "hidden": true
   },
   "source": [
    "---"
   ]
  },
  {
   "cell_type": "markdown",
   "metadata": {
    "hidden": true
   },
   "source": [
    "## Upload and clean data"
   ]
  },
  {
   "cell_type": "code",
   "execution_count": 3,
   "metadata": {
    "ExecuteTime": {
     "end_time": "2020-07-18T02:08:15.657225Z",
     "start_time": "2020-07-18T02:08:15.630059Z"
    },
    "hidden": true,
    "scrolled": true
   },
   "outputs": [],
   "source": [
    "df = pd.read_csv(os.path.join(relative_data_loc, file_name))"
   ]
  },
  {
   "cell_type": "code",
   "execution_count": 4,
   "metadata": {
    "ExecuteTime": {
     "end_time": "2020-07-18T02:08:15.821396Z",
     "start_time": "2020-07-18T02:08:15.797683Z"
    },
    "hidden": true
   },
   "outputs": [],
   "source": [
    "cleaning_df(df)"
   ]
  },
  {
   "cell_type": "code",
   "execution_count": 5,
   "metadata": {
    "ExecuteTime": {
     "end_time": "2020-07-18T02:08:15.951109Z",
     "start_time": "2020-07-18T02:08:15.922199Z"
    },
    "hidden": true
   },
   "outputs": [
    {
     "data": {
      "text/html": [
       "<div>\n",
       "<style scoped>\n",
       "    .dataframe tbody tr th:only-of-type {\n",
       "        vertical-align: middle;\n",
       "    }\n",
       "\n",
       "    .dataframe tbody tr th {\n",
       "        vertical-align: top;\n",
       "    }\n",
       "\n",
       "    .dataframe thead th {\n",
       "        text-align: right;\n",
       "    }\n",
       "</style>\n",
       "<table border=\"1\" class=\"dataframe\">\n",
       "  <thead>\n",
       "    <tr style=\"text-align: right;\">\n",
       "      <th></th>\n",
       "      <th>ID</th>\n",
       "      <th>Considera_tele</th>\n",
       "      <th>Cree_comun_tele</th>\n",
       "      <th>Pagar_cuanto</th>\n",
       "      <th>Regularidad_uso</th>\n",
       "    </tr>\n",
       "  </thead>\n",
       "  <tbody>\n",
       "    <tr>\n",
       "      <th>0</th>\n",
       "      <td>4</td>\n",
       "      <td>NO</td>\n",
       "      <td>1: No será común</td>\n",
       "      <td>No pagaría por una</td>\n",
       "      <td>1: No la utilizaría</td>\n",
       "    </tr>\n",
       "    <tr>\n",
       "      <th>1</th>\n",
       "      <td>5</td>\n",
       "      <td>NO</td>\n",
       "      <td>2: Poco común</td>\n",
       "      <td>Menos de $100</td>\n",
       "      <td>2: Con poca regularidad</td>\n",
       "    </tr>\n",
       "    <tr>\n",
       "      <th>2</th>\n",
       "      <td>6</td>\n",
       "      <td>NO</td>\n",
       "      <td>2: Poco común</td>\n",
       "      <td>Menos de $750</td>\n",
       "      <td>2: Con poca regularidad</td>\n",
       "    </tr>\n",
       "    <tr>\n",
       "      <th>3</th>\n",
       "      <td>7</td>\n",
       "      <td>SI</td>\n",
       "      <td>3: Neutral</td>\n",
       "      <td>No pagaría por una</td>\n",
       "      <td>1: No la utilizaría</td>\n",
       "    </tr>\n",
       "    <tr>\n",
       "      <th>4</th>\n",
       "      <td>8</td>\n",
       "      <td>NO</td>\n",
       "      <td>2: Poco común</td>\n",
       "      <td>Menos de $100</td>\n",
       "      <td>1: No la utilizaría</td>\n",
       "    </tr>\n",
       "    <tr>\n",
       "      <th>...</th>\n",
       "      <td>...</td>\n",
       "      <td>...</td>\n",
       "      <td>...</td>\n",
       "      <td>...</td>\n",
       "      <td>...</td>\n",
       "    </tr>\n",
       "    <tr>\n",
       "      <th>749</th>\n",
       "      <td>753</td>\n",
       "      <td>NO</td>\n",
       "      <td>5: Totalmente Común</td>\n",
       "      <td>Más de $750</td>\n",
       "      <td>5: Regularmente</td>\n",
       "    </tr>\n",
       "    <tr>\n",
       "      <th>750</th>\n",
       "      <td>754</td>\n",
       "      <td>SI</td>\n",
       "      <td>5: Totalmente Común</td>\n",
       "      <td>Más de $750</td>\n",
       "      <td>5: Regularmente</td>\n",
       "    </tr>\n",
       "    <tr>\n",
       "      <th>751</th>\n",
       "      <td>755</td>\n",
       "      <td>SI</td>\n",
       "      <td>5: Totalmente Común</td>\n",
       "      <td>Más de $750</td>\n",
       "      <td>5: Regularmente</td>\n",
       "    </tr>\n",
       "    <tr>\n",
       "      <th>752</th>\n",
       "      <td>756</td>\n",
       "      <td>SI</td>\n",
       "      <td>2: Poco común</td>\n",
       "      <td>Menos de $100</td>\n",
       "      <td>3: Neutral</td>\n",
       "    </tr>\n",
       "    <tr>\n",
       "      <th>753</th>\n",
       "      <td>757</td>\n",
       "      <td>SI</td>\n",
       "      <td>3: Neutral</td>\n",
       "      <td>Menos de $100</td>\n",
       "      <td>3: Neutral</td>\n",
       "    </tr>\n",
       "  </tbody>\n",
       "</table>\n",
       "<p>754 rows × 5 columns</p>\n",
       "</div>"
      ],
      "text/plain": [
       "      ID Considera_tele       Cree_comun_tele        Pagar_cuanto  \\\n",
       "0      4             NO     1: No será común   No pagaría por una   \n",
       "1      5             NO         2: Poco común       Menos de $100   \n",
       "2      6             NO         2: Poco común       Menos de $750   \n",
       "3      7             SI            3: Neutral  No pagaría por una   \n",
       "4      8             NO         2: Poco común       Menos de $100   \n",
       "..   ...            ...                   ...                 ...   \n",
       "749  753             NO  5: Totalmente Común          Más de $750   \n",
       "750  754             SI  5: Totalmente Común          Más de $750   \n",
       "751  755             SI  5: Totalmente Común          Más de $750   \n",
       "752  756             SI         2: Poco común       Menos de $100   \n",
       "753  757             SI            3: Neutral       Menos de $100   \n",
       "\n",
       "             Regularidad_uso  \n",
       "0        1: No la utilizaría  \n",
       "1    2: Con poca regularidad  \n",
       "2    2: Con poca regularidad  \n",
       "3        1: No la utilizaría  \n",
       "4        1: No la utilizaría  \n",
       "..                       ...  \n",
       "749          5: Regularmente  \n",
       "750          5: Regularmente  \n",
       "751          5: Regularmente  \n",
       "752               3: Neutral  \n",
       "753               3: Neutral  \n",
       "\n",
       "[754 rows x 5 columns]"
      ]
     },
     "execution_count": 5,
     "metadata": {},
     "output_type": "execute_result"
    }
   ],
   "source": [
    "df"
   ]
  },
  {
   "cell_type": "markdown",
   "metadata": {
    "hidden": true
   },
   "source": [
    "---"
   ]
  },
  {
   "cell_type": "markdown",
   "metadata": {
    "hidden": true
   },
   "source": [
    "## Initial data exploration"
   ]
  },
  {
   "cell_type": "code",
   "execution_count": 6,
   "metadata": {
    "ExecuteTime": {
     "end_time": "2020-07-18T02:08:18.388971Z",
     "start_time": "2020-07-18T02:08:18.365794Z"
    },
    "hidden": true
   },
   "outputs": [],
   "source": [
    "dfx = df.copy()"
   ]
  },
  {
   "cell_type": "code",
   "execution_count": 7,
   "metadata": {
    "ExecuteTime": {
     "end_time": "2020-07-18T02:08:18.801302Z",
     "start_time": "2020-07-18T02:08:18.653299Z"
    },
    "hidden": true
   },
   "outputs": [
    {
     "data": {
      "image/png": "[encoded data removed]",
      "text/plain": [
       "<Figure size 864x360 with 1 Axes>"
      ]
     },
     "metadata": {
      "needs_background": "light"
     },
     "output_type": "display_data"
    },
    {
     "name": "stdout",
     "output_type": "stream",
     "text": [
      "                 ID      Prop\n",
      "Considera_tele               \n",
      "NO              374  0.496021\n",
      "SI              380  0.503979\n"
     ]
    }
   ],
   "source": [
    "ct_var = ['ID']\n",
    "bar_var = ['Considera_tele']\n",
    "color='orange'\n",
    "\n",
    "one_bar_graph(dfx, ct_var, bar_var, color)\n",
    "var_count_summary(dfx, ct_var, bar_var)"
   ]
  },
  {
   "cell_type": "code",
   "execution_count": 8,
   "metadata": {
    "ExecuteTime": {
     "end_time": "2020-07-18T02:08:19.341651Z",
     "start_time": "2020-07-18T02:08:19.207294Z"
    },
    "hidden": true
   },
   "outputs": [
    {
     "data": {
      "image/png": "[encoded data removed]",
      "text/plain": [
       "<Figure size 864x360 with 1 Axes>"
      ]
     },
     "metadata": {
      "needs_background": "light"
     },
     "output_type": "display_data"
    },
    {
     "name": "stdout",
     "output_type": "stream",
     "text": [
      "                       ID      Prop\n",
      "Cree_comun_tele                    \n",
      "1: No será común      159  0.210875\n",
      "2: Poco común         238  0.315650\n",
      "3: Neutral            203  0.269231\n",
      "4: Muy Común          125  0.165782\n",
      "5: Totalmente Común    29  0.038462\n"
     ]
    }
   ],
   "source": [
    "ct_var = ['ID']\n",
    "bar_var = ['Cree_comun_tele']\n",
    "color='blue'\n",
    "\n",
    "one_bar_graph(dfx, ct_var, bar_var, color)\n",
    "var_count_summary(dfx, ct_var, bar_var)"
   ]
  },
  {
   "cell_type": "code",
   "execution_count": 9,
   "metadata": {
    "ExecuteTime": {
     "end_time": "2020-07-18T02:08:19.825242Z",
     "start_time": "2020-07-18T02:08:19.685669Z"
    },
    "hidden": true
   },
   "outputs": [
    {
     "data": {
      "image/png": "[encoded data removed]",
      "text/plain": [
       "<Figure size 864x360 with 1 Axes>"
      ]
     },
     "metadata": {
      "needs_background": "light"
     },
     "output_type": "display_data"
    },
    {
     "name": "stdout",
     "output_type": "stream",
     "text": [
      "                     ID      Prop\n",
      "Pagar_cuanto                     \n",
      "Menos de $100       172  0.228117\n",
      "Menos de $750       197  0.261273\n",
      "Más de $750          18  0.023873\n",
      "No pagaría por una  367  0.486737\n"
     ]
    }
   ],
   "source": [
    "ct_var = ['ID']\n",
    "bar_var = ['Pagar_cuanto']\n",
    "color='green'\n",
    "\n",
    "one_bar_graph(dfx, ct_var, bar_var, color)\n",
    "var_count_summary(dfx, ct_var, bar_var)"
   ]
  },
  {
   "cell_type": "code",
   "execution_count": 10,
   "metadata": {
    "ExecuteTime": {
     "end_time": "2020-07-18T02:08:20.593582Z",
     "start_time": "2020-07-18T02:08:20.449711Z"
    },
    "hidden": true
   },
   "outputs": [
    {
     "data": {
      "image/png": "[encoded data removed]",
      "text/plain": [
       "<Figure size 864x360 with 1 Axes>"
      ]
     },
     "metadata": {
      "needs_background": "light"
     },
     "output_type": "display_data"
    },
    {
     "name": "stdout",
     "output_type": "stream",
     "text": [
      "                            ID      Prop\n",
      "Regularidad_uso                         \n",
      "1: No la utilizaría        192  0.254642\n",
      "2: Con poca regularidad    225  0.298408\n",
      "3: Neutral                 174  0.230769\n",
      "4: Con cierta regularidad  123  0.163130\n",
      "5: Regularmente             40  0.053050\n"
     ]
    }
   ],
   "source": [
    "ct_var = ['ID']\n",
    "bar_var = ['Regularidad_uso']\n",
    "color='purple'\n",
    "\n",
    "one_bar_graph(dfx, ct_var, bar_var, color)\n",
    "var_count_summary(dfx, ct_var, bar_var)"
   ]
  },
  {
   "cell_type": "markdown",
   "metadata": {
    "hidden": true
   },
   "source": [
    "---"
   ]
  },
  {
   "cell_type": "markdown",
   "metadata": {
    "hidden": true
   },
   "source": [
    "## Test 1: chi-square test of independece\n",
    "- **Variable 1:** doctors' expected use regularity of the platform\n",
    "- **Variable 2:** doctors' perception about their patients interest to take virtual medical sessions\n",
    "- $\\alpha \\text{ (significance)} = 0.1$\n",
    "\n",
    "$$H_0: \\text{the two variables are independent}$$\n",
    "$$H_1: \\text{the two variables are dependent}$$"
   ]
  },
  {
   "cell_type": "markdown",
   "metadata": {
    "hidden": true
   },
   "source": [
    "### Input data"
   ]
  },
  {
   "cell_type": "code",
   "execution_count": 11,
   "metadata": {
    "ExecuteTime": {
     "end_time": "2020-07-18T02:08:25.351453Z",
     "start_time": "2020-07-18T02:08:25.329993Z"
    },
    "hidden": true
   },
   "outputs": [],
   "source": [
    "alpha = 0.1"
   ]
  },
  {
   "cell_type": "markdown",
   "metadata": {
    "hidden": true
   },
   "source": [
    "### Variables crossing"
   ]
  },
  {
   "cell_type": "code",
   "execution_count": 12,
   "metadata": {
    "ExecuteTime": {
     "end_time": "2020-07-18T02:08:25.626179Z",
     "start_time": "2020-07-18T02:08:25.606465Z"
    },
    "hidden": true
   },
   "outputs": [],
   "source": [
    "rc = [\n",
    "    'Cree_comun_tele',\n",
    "    'Regularidad_uso',\n",
    "]\n",
    "\n",
    "ct_col = ['ID']"
   ]
  },
  {
   "cell_type": "code",
   "execution_count": 13,
   "metadata": {
    "ExecuteTime": {
     "end_time": "2020-07-18T02:08:25.796806Z",
     "start_time": "2020-07-18T02:08:25.763693Z"
    },
    "hidden": true
   },
   "outputs": [
    {
     "data": {
      "text/html": [
       "<div>\n",
       "<style scoped>\n",
       "    .dataframe tbody tr th:only-of-type {\n",
       "        vertical-align: middle;\n",
       "    }\n",
       "\n",
       "    .dataframe tbody tr th {\n",
       "        vertical-align: top;\n",
       "    }\n",
       "\n",
       "    .dataframe thead th {\n",
       "        text-align: right;\n",
       "    }\n",
       "</style>\n",
       "<table border=\"1\" class=\"dataframe\">\n",
       "  <thead>\n",
       "    <tr style=\"text-align: right;\">\n",
       "      <th>Regularidad_uso</th>\n",
       "      <th>1: No la utilizaría</th>\n",
       "      <th>2: Con poca regularidad</th>\n",
       "      <th>3: Neutral</th>\n",
       "      <th>4: Con cierta regularidad</th>\n",
       "      <th>5: Regularmente</th>\n",
       "    </tr>\n",
       "    <tr>\n",
       "      <th>Cree_comun_tele</th>\n",
       "      <th></th>\n",
       "      <th></th>\n",
       "      <th></th>\n",
       "      <th></th>\n",
       "      <th></th>\n",
       "    </tr>\n",
       "  </thead>\n",
       "  <tbody>\n",
       "    <tr>\n",
       "      <th>1: No será común</th>\n",
       "      <td>108.0</td>\n",
       "      <td>37.0</td>\n",
       "      <td>12.0</td>\n",
       "      <td>0.0</td>\n",
       "      <td>2.0</td>\n",
       "    </tr>\n",
       "    <tr>\n",
       "      <th>2: Poco común</th>\n",
       "      <td>43.0</td>\n",
       "      <td>134.0</td>\n",
       "      <td>43.0</td>\n",
       "      <td>16.0</td>\n",
       "      <td>2.0</td>\n",
       "    </tr>\n",
       "    <tr>\n",
       "      <th>3: Neutral</th>\n",
       "      <td>24.0</td>\n",
       "      <td>43.0</td>\n",
       "      <td>97.0</td>\n",
       "      <td>35.0</td>\n",
       "      <td>4.0</td>\n",
       "    </tr>\n",
       "    <tr>\n",
       "      <th>4: Muy Común</th>\n",
       "      <td>11.0</td>\n",
       "      <td>11.0</td>\n",
       "      <td>20.0</td>\n",
       "      <td>67.0</td>\n",
       "      <td>16.0</td>\n",
       "    </tr>\n",
       "    <tr>\n",
       "      <th>5: Totalmente Común</th>\n",
       "      <td>6.0</td>\n",
       "      <td>0.0</td>\n",
       "      <td>2.0</td>\n",
       "      <td>5.0</td>\n",
       "      <td>16.0</td>\n",
       "    </tr>\n",
       "  </tbody>\n",
       "</table>\n",
       "</div>"
      ],
      "text/plain": [
       "Regularidad_uso       1: No la utilizaría  2: Con poca regularidad  \\\n",
       "Cree_comun_tele                                                      \n",
       "1: No será común                    108.0                     37.0   \n",
       "2: Poco común                        43.0                    134.0   \n",
       "3: Neutral                           24.0                     43.0   \n",
       "4: Muy Común                         11.0                     11.0   \n",
       "5: Totalmente Común                   6.0                      0.0   \n",
       "\n",
       "Regularidad_uso       3: Neutral  4: Con cierta regularidad  5: Regularmente  \n",
       "Cree_comun_tele                                                               \n",
       "1: No será común            12.0                        0.0              2.0  \n",
       "2: Poco común               43.0                       16.0              2.0  \n",
       "3: Neutral                  97.0                       35.0              4.0  \n",
       "4: Muy Común                20.0                       67.0             16.0  \n",
       "5: Totalmente Común          2.0                        5.0             16.0  "
      ]
     },
     "execution_count": 13,
     "metadata": {},
     "output_type": "execute_result"
    }
   ],
   "source": [
    "dfx = vars_cross_df(df, ct_col, rc)\n",
    "dfx"
   ]
  },
  {
   "cell_type": "markdown",
   "metadata": {
    "hidden": true
   },
   "source": [
    "### $\\chi^2$ value, p-value, degrees of freedom and expected values"
   ]
  },
  {
   "cell_type": "code",
   "execution_count": 14,
   "metadata": {
    "ExecuteTime": {
     "end_time": "2020-07-18T02:08:27.260901Z",
     "start_time": "2020-07-18T02:08:27.238931Z"
    },
    "hidden": true
   },
   "outputs": [],
   "source": [
    "chi, pval, dof, exp_v = chi2_contingency(dfx)"
   ]
  },
  {
   "cell_type": "code",
   "execution_count": 15,
   "metadata": {
    "ExecuteTime": {
     "end_time": "2020-07-18T02:08:27.620392Z",
     "start_time": "2020-07-18T02:08:27.587971Z"
    },
    "hidden": true
   },
   "outputs": [
    {
     "data": {
      "text/html": [
       "<div>\n",
       "<style scoped>\n",
       "    .dataframe tbody tr th:only-of-type {\n",
       "        vertical-align: middle;\n",
       "    }\n",
       "\n",
       "    .dataframe tbody tr th {\n",
       "        vertical-align: top;\n",
       "    }\n",
       "\n",
       "    .dataframe thead th {\n",
       "        text-align: right;\n",
       "    }\n",
       "</style>\n",
       "<table border=\"1\" class=\"dataframe\">\n",
       "  <thead>\n",
       "    <tr style=\"text-align: right;\">\n",
       "      <th>Regularidad_uso</th>\n",
       "      <th>1: No la utilizaría</th>\n",
       "      <th>2: Con poca regularidad</th>\n",
       "      <th>3: Neutral</th>\n",
       "      <th>4: Con cierta regularidad</th>\n",
       "      <th>5: Regularmente</th>\n",
       "    </tr>\n",
       "    <tr>\n",
       "      <th>Cree_comun_tele</th>\n",
       "      <th></th>\n",
       "      <th></th>\n",
       "      <th></th>\n",
       "      <th></th>\n",
       "      <th></th>\n",
       "    </tr>\n",
       "  </thead>\n",
       "  <tbody>\n",
       "    <tr>\n",
       "      <th>1: No será común</th>\n",
       "      <td>40.49</td>\n",
       "      <td>47.45</td>\n",
       "      <td>36.69</td>\n",
       "      <td>25.94</td>\n",
       "      <td>8.44</td>\n",
       "    </tr>\n",
       "    <tr>\n",
       "      <th>2: Poco común</th>\n",
       "      <td>60.60</td>\n",
       "      <td>71.02</td>\n",
       "      <td>54.92</td>\n",
       "      <td>38.82</td>\n",
       "      <td>12.63</td>\n",
       "    </tr>\n",
       "    <tr>\n",
       "      <th>3: Neutral</th>\n",
       "      <td>51.69</td>\n",
       "      <td>60.58</td>\n",
       "      <td>46.85</td>\n",
       "      <td>33.12</td>\n",
       "      <td>10.77</td>\n",
       "    </tr>\n",
       "    <tr>\n",
       "      <th>4: Muy Común</th>\n",
       "      <td>31.83</td>\n",
       "      <td>37.30</td>\n",
       "      <td>28.85</td>\n",
       "      <td>20.39</td>\n",
       "      <td>6.63</td>\n",
       "    </tr>\n",
       "    <tr>\n",
       "      <th>5: Totalmente Común</th>\n",
       "      <td>7.38</td>\n",
       "      <td>8.65</td>\n",
       "      <td>6.69</td>\n",
       "      <td>4.73</td>\n",
       "      <td>1.54</td>\n",
       "    </tr>\n",
       "  </tbody>\n",
       "</table>\n",
       "</div>"
      ],
      "text/plain": [
       "Regularidad_uso       1: No la utilizaría  2: Con poca regularidad  \\\n",
       "Cree_comun_tele                                                      \n",
       "1: No será común                    40.49                    47.45   \n",
       "2: Poco común                       60.60                    71.02   \n",
       "3: Neutral                          51.69                    60.58   \n",
       "4: Muy Común                        31.83                    37.30   \n",
       "5: Totalmente Común                  7.38                     8.65   \n",
       "\n",
       "Regularidad_uso       3: Neutral  4: Con cierta regularidad  5: Regularmente  \n",
       "Cree_comun_tele                                                               \n",
       "1: No será común           36.69                      25.94             8.44  \n",
       "2: Poco común              54.92                      38.82            12.63  \n",
       "3: Neutral                 46.85                      33.12            10.77  \n",
       "4: Muy Común               28.85                      20.39             6.63  \n",
       "5: Totalmente Común         6.69                       4.73             1.54  "
      ]
     },
     "execution_count": 15,
     "metadata": {},
     "output_type": "execute_result"
    }
   ],
   "source": [
    "exp_v = pd.DataFrame(exp_v, index=[dfx.index], columns=dfx.columns).round(2)\n",
    "exp_v"
   ]
  },
  {
   "cell_type": "markdown",
   "metadata": {
    "hidden": true
   },
   "source": [
    "### Critical value"
   ]
  },
  {
   "cell_type": "code",
   "execution_count": 16,
   "metadata": {
    "ExecuteTime": {
     "end_time": "2020-07-18T02:08:28.369356Z",
     "start_time": "2020-07-18T02:08:28.347179Z"
    },
    "hidden": true
   },
   "outputs": [],
   "source": [
    "p = 1 - alpha"
   ]
  },
  {
   "cell_type": "code",
   "execution_count": 17,
   "metadata": {
    "ExecuteTime": {
     "end_time": "2020-07-18T02:08:28.652972Z",
     "start_time": "2020-07-18T02:08:28.629858Z"
    },
    "hidden": true
   },
   "outputs": [
    {
     "data": {
      "text/plain": [
       "23.541828923096105"
      ]
     },
     "execution_count": 17,
     "metadata": {},
     "output_type": "execute_result"
    }
   ],
   "source": [
    "c_v = chi2.ppf(p, dof)\n",
    "c_v"
   ]
  },
  {
   "cell_type": "markdown",
   "metadata": {
    "hidden": true
   },
   "source": [
    "### Conclusion"
   ]
  },
  {
   "cell_type": "code",
   "execution_count": 18,
   "metadata": {
    "ExecuteTime": {
     "end_time": "2020-07-18T02:08:29.184167Z",
     "start_time": "2020-07-18T02:08:29.161030Z"
    },
    "hidden": true
   },
   "outputs": [
    {
     "name": "stdout",
     "output_type": "stream",
     "text": [
      "At 0.1 level of significance, we reject the null hypotheses and accept the alternative hypoteses.\n",
      "The two variables are dependent.\n"
     ]
    }
   ],
   "source": [
    "if pval < alpha:\n",
    "    print(\"At {} level of significance, we reject the null hypotheses and accept the alternative hypoteses.\".format(alpha))\n",
    "    print(\"The two variables are dependent.\")\n",
    "else:\n",
    "    print(\"At {} level of significance, we accept the null hypotheses.\".format(alpha))\n",
    "    print(\"The two variables are independent\")"
   ]
  },
  {
   "cell_type": "markdown",
   "metadata": {
    "hidden": true
   },
   "source": [
    "---"
   ]
  },
  {
   "cell_type": "markdown",
   "metadata": {
    "hidden": true
   },
   "source": [
    "## Test 2: chi-square test of independece\n",
    "- **Variable 1:** doctors' perception about the future of telemedicine\n",
    "- **Variable 2:** doctors' willingness to pay for a telemedicine platform\n",
    "- $\\alpha \\text{ (significance)} = 0.1$\n",
    "\n",
    "$$H_0: \\text{the two variables are independent}$$\n",
    "$$H_1: \\text{the two variables are dependent}$$"
   ]
  },
  {
   "cell_type": "markdown",
   "metadata": {
    "hidden": true
   },
   "source": [
    "### Input data"
   ]
  },
  {
   "cell_type": "code",
   "execution_count": 19,
   "metadata": {
    "ExecuteTime": {
     "end_time": "2020-07-18T02:08:31.069354Z",
     "start_time": "2020-07-18T02:08:31.046353Z"
    },
    "hidden": true
   },
   "outputs": [],
   "source": [
    "alpha = 0.1"
   ]
  },
  {
   "cell_type": "markdown",
   "metadata": {
    "hidden": true
   },
   "source": [
    "### Variables crossing"
   ]
  },
  {
   "cell_type": "code",
   "execution_count": 20,
   "metadata": {
    "ExecuteTime": {
     "end_time": "2020-07-18T02:08:31.352353Z",
     "start_time": "2020-07-18T02:08:31.331599Z"
    },
    "hidden": true
   },
   "outputs": [],
   "source": [
    "rc = [\n",
    "    'Considera_tele',\n",
    "    'Pagar_cuanto',\n",
    "]\n",
    "\n",
    "ct_col = ['ID']"
   ]
  },
  {
   "cell_type": "code",
   "execution_count": 21,
   "metadata": {
    "ExecuteTime": {
     "end_time": "2020-07-18T02:08:31.507624Z",
     "start_time": "2020-07-18T02:08:31.480757Z"
    },
    "hidden": true
   },
   "outputs": [
    {
     "data": {
      "text/html": [
       "<div>\n",
       "<style scoped>\n",
       "    .dataframe tbody tr th:only-of-type {\n",
       "        vertical-align: middle;\n",
       "    }\n",
       "\n",
       "    .dataframe tbody tr th {\n",
       "        vertical-align: top;\n",
       "    }\n",
       "\n",
       "    .dataframe thead th {\n",
       "        text-align: right;\n",
       "    }\n",
       "</style>\n",
       "<table border=\"1\" class=\"dataframe\">\n",
       "  <thead>\n",
       "    <tr style=\"text-align: right;\">\n",
       "      <th>Pagar_cuanto</th>\n",
       "      <th>Menos de $100</th>\n",
       "      <th>Menos de $750</th>\n",
       "      <th>Más de $750</th>\n",
       "      <th>No pagaría por una</th>\n",
       "    </tr>\n",
       "    <tr>\n",
       "      <th>Considera_tele</th>\n",
       "      <th></th>\n",
       "      <th></th>\n",
       "      <th></th>\n",
       "      <th></th>\n",
       "    </tr>\n",
       "  </thead>\n",
       "  <tbody>\n",
       "    <tr>\n",
       "      <th>NO</th>\n",
       "      <td>55</td>\n",
       "      <td>59</td>\n",
       "      <td>2</td>\n",
       "      <td>258</td>\n",
       "    </tr>\n",
       "    <tr>\n",
       "      <th>SI</th>\n",
       "      <td>117</td>\n",
       "      <td>138</td>\n",
       "      <td>16</td>\n",
       "      <td>109</td>\n",
       "    </tr>\n",
       "  </tbody>\n",
       "</table>\n",
       "</div>"
      ],
      "text/plain": [
       "Pagar_cuanto    Menos de $100  Menos de $750  Más de $750  No pagaría por una\n",
       "Considera_tele                                                               \n",
       "NO                         55             59            2                 258\n",
       "SI                        117            138           16                 109"
      ]
     },
     "execution_count": 21,
     "metadata": {},
     "output_type": "execute_result"
    }
   ],
   "source": [
    "dfx = vars_cross_df(df, ct_col, rc)\n",
    "dfx"
   ]
  },
  {
   "cell_type": "markdown",
   "metadata": {
    "hidden": true
   },
   "source": [
    "### $\\chi^2$ value, p-value, degrees of freedom and expected values"
   ]
  },
  {
   "cell_type": "code",
   "execution_count": 22,
   "metadata": {
    "ExecuteTime": {
     "end_time": "2020-07-18T02:08:32.900256Z",
     "start_time": "2020-07-18T02:08:32.877359Z"
    },
    "hidden": true
   },
   "outputs": [],
   "source": [
    "chi, pval, dof, exp_v = chi2_contingency(dfx)"
   ]
  },
  {
   "cell_type": "code",
   "execution_count": 23,
   "metadata": {
    "ExecuteTime": {
     "end_time": "2020-07-18T02:08:33.076693Z",
     "start_time": "2020-07-18T02:08:33.046463Z"
    },
    "hidden": true
   },
   "outputs": [
    {
     "data": {
      "text/html": [
       "<div>\n",
       "<style scoped>\n",
       "    .dataframe tbody tr th:only-of-type {\n",
       "        vertical-align: middle;\n",
       "    }\n",
       "\n",
       "    .dataframe tbody tr th {\n",
       "        vertical-align: top;\n",
       "    }\n",
       "\n",
       "    .dataframe thead th {\n",
       "        text-align: right;\n",
       "    }\n",
       "</style>\n",
       "<table border=\"1\" class=\"dataframe\">\n",
       "  <thead>\n",
       "    <tr style=\"text-align: right;\">\n",
       "      <th>Pagar_cuanto</th>\n",
       "      <th>Menos de $100</th>\n",
       "      <th>Menos de $750</th>\n",
       "      <th>Más de $750</th>\n",
       "      <th>No pagaría por una</th>\n",
       "    </tr>\n",
       "    <tr>\n",
       "      <th>Considera_tele</th>\n",
       "      <th></th>\n",
       "      <th></th>\n",
       "      <th></th>\n",
       "      <th></th>\n",
       "    </tr>\n",
       "  </thead>\n",
       "  <tbody>\n",
       "    <tr>\n",
       "      <th>NO</th>\n",
       "      <td>85.32</td>\n",
       "      <td>97.72</td>\n",
       "      <td>8.93</td>\n",
       "      <td>182.04</td>\n",
       "    </tr>\n",
       "    <tr>\n",
       "      <th>SI</th>\n",
       "      <td>86.68</td>\n",
       "      <td>99.28</td>\n",
       "      <td>9.07</td>\n",
       "      <td>184.96</td>\n",
       "    </tr>\n",
       "  </tbody>\n",
       "</table>\n",
       "</div>"
      ],
      "text/plain": [
       "Pagar_cuanto    Menos de $100  Menos de $750  Más de $750  No pagaría por una\n",
       "Considera_tele                                                               \n",
       "NO                      85.32          97.72         8.93              182.04\n",
       "SI                      86.68          99.28         9.07              184.96"
      ]
     },
     "execution_count": 23,
     "metadata": {},
     "output_type": "execute_result"
    }
   ],
   "source": [
    "exp_v = pd.DataFrame(exp_v, index=[dfx.index], columns=dfx.columns).round(2)\n",
    "exp_v"
   ]
  },
  {
   "cell_type": "markdown",
   "metadata": {
    "hidden": true
   },
   "source": [
    "### Critical value"
   ]
  },
  {
   "cell_type": "code",
   "execution_count": 24,
   "metadata": {
    "ExecuteTime": {
     "end_time": "2020-07-18T02:08:33.397811Z",
     "start_time": "2020-07-18T02:08:33.377596Z"
    },
    "hidden": true
   },
   "outputs": [],
   "source": [
    "p = 1 - alpha"
   ]
  },
  {
   "cell_type": "code",
   "execution_count": 25,
   "metadata": {
    "ExecuteTime": {
     "end_time": "2020-07-18T02:08:33.655912Z",
     "start_time": "2020-07-18T02:08:33.632498Z"
    },
    "hidden": true
   },
   "outputs": [
    {
     "data": {
      "text/plain": [
       "6.251388631170325"
      ]
     },
     "execution_count": 25,
     "metadata": {},
     "output_type": "execute_result"
    }
   ],
   "source": [
    "c_v = chi2.ppf(p, dof)\n",
    "c_v"
   ]
  },
  {
   "cell_type": "markdown",
   "metadata": {
    "hidden": true
   },
   "source": [
    "### Conclusion"
   ]
  },
  {
   "cell_type": "code",
   "execution_count": 26,
   "metadata": {
    "ExecuteTime": {
     "end_time": "2020-07-18T02:08:34.403658Z",
     "start_time": "2020-07-18T02:08:34.379429Z"
    },
    "hidden": true
   },
   "outputs": [
    {
     "name": "stdout",
     "output_type": "stream",
     "text": [
      "At 0.1 level of significance, we reject the null hypotheses and accept the alternative hypoteses.\n",
      "The two variables are dependent.\n"
     ]
    }
   ],
   "source": [
    "if pval < alpha:\n",
    "    print(\"At {} level of significance, we reject the null hypotheses and accept the alternative hypoteses.\".format(alpha))\n",
    "    print(\"The two variables are dependent.\")\n",
    "else:\n",
    "    print(\"At {} level of significance, we accept the null hypotheses.\".format(alpha))\n",
    "    print(\"The two variables are independent\")"
   ]
  },
  {
   "cell_type": "markdown",
   "metadata": {
    "hidden": true
   },
   "source": [
    "---"
   ]
  },
  {
   "cell_type": "markdown",
   "metadata": {
    "hidden": true
   },
   "source": [
    "## Test 3: chi-square test of independece\n",
    "- **Variable 1:** doctors' perception about their patients interest to take virtual medical sessions\n",
    "- **Variable 2:** doctors' willingness to pay for a telemedicine platform\n",
    "- $\\alpha \\text{ (significance)} = 0.1$\n",
    "\n",
    "$$H_0: \\text{the two variables are independent}$$\n",
    "$$H_1: \\text{the two variables are dependent}$$"
   ]
  },
  {
   "cell_type": "markdown",
   "metadata": {
    "hidden": true
   },
   "source": [
    "### Input data"
   ]
  },
  {
   "cell_type": "code",
   "execution_count": 27,
   "metadata": {
    "ExecuteTime": {
     "end_time": "2020-07-18T02:08:36.201435Z",
     "start_time": "2020-07-18T02:08:36.182496Z"
    },
    "hidden": true
   },
   "outputs": [],
   "source": [
    "alpha = 0.1"
   ]
  },
  {
   "cell_type": "markdown",
   "metadata": {
    "hidden": true
   },
   "source": [
    "### Variables crossing"
   ]
  },
  {
   "cell_type": "code",
   "execution_count": 28,
   "metadata": {
    "ExecuteTime": {
     "end_time": "2020-07-18T02:08:36.485471Z",
     "start_time": "2020-07-18T02:08:36.464174Z"
    },
    "hidden": true
   },
   "outputs": [],
   "source": [
    "rc = [\n",
    "    'Cree_comun_tele',\n",
    "    'Pagar_cuanto',\n",
    "]\n",
    "\n",
    "ct_col = ['ID']"
   ]
  },
  {
   "cell_type": "code",
   "execution_count": 29,
   "metadata": {
    "ExecuteTime": {
     "end_time": "2020-07-18T02:08:36.640689Z",
     "start_time": "2020-07-18T02:08:36.608107Z"
    },
    "hidden": true
   },
   "outputs": [
    {
     "data": {
      "text/html": [
       "<div>\n",
       "<style scoped>\n",
       "    .dataframe tbody tr th:only-of-type {\n",
       "        vertical-align: middle;\n",
       "    }\n",
       "\n",
       "    .dataframe tbody tr th {\n",
       "        vertical-align: top;\n",
       "    }\n",
       "\n",
       "    .dataframe thead th {\n",
       "        text-align: right;\n",
       "    }\n",
       "</style>\n",
       "<table border=\"1\" class=\"dataframe\">\n",
       "  <thead>\n",
       "    <tr style=\"text-align: right;\">\n",
       "      <th>Pagar_cuanto</th>\n",
       "      <th>Menos de $100</th>\n",
       "      <th>Menos de $750</th>\n",
       "      <th>Más de $750</th>\n",
       "      <th>No pagaría por una</th>\n",
       "    </tr>\n",
       "    <tr>\n",
       "      <th>Cree_comun_tele</th>\n",
       "      <th></th>\n",
       "      <th></th>\n",
       "      <th></th>\n",
       "      <th></th>\n",
       "    </tr>\n",
       "  </thead>\n",
       "  <tbody>\n",
       "    <tr>\n",
       "      <th>1: No será común</th>\n",
       "      <td>18.0</td>\n",
       "      <td>23.0</td>\n",
       "      <td>1.0</td>\n",
       "      <td>117.0</td>\n",
       "    </tr>\n",
       "    <tr>\n",
       "      <th>2: Poco común</th>\n",
       "      <td>58.0</td>\n",
       "      <td>52.0</td>\n",
       "      <td>0.0</td>\n",
       "      <td>128.0</td>\n",
       "    </tr>\n",
       "    <tr>\n",
       "      <th>3: Neutral</th>\n",
       "      <td>56.0</td>\n",
       "      <td>61.0</td>\n",
       "      <td>4.0</td>\n",
       "      <td>82.0</td>\n",
       "    </tr>\n",
       "    <tr>\n",
       "      <th>4: Muy Común</th>\n",
       "      <td>32.0</td>\n",
       "      <td>51.0</td>\n",
       "      <td>9.0</td>\n",
       "      <td>33.0</td>\n",
       "    </tr>\n",
       "    <tr>\n",
       "      <th>5: Totalmente Común</th>\n",
       "      <td>8.0</td>\n",
       "      <td>10.0</td>\n",
       "      <td>4.0</td>\n",
       "      <td>7.0</td>\n",
       "    </tr>\n",
       "  </tbody>\n",
       "</table>\n",
       "</div>"
      ],
      "text/plain": [
       "Pagar_cuanto          Menos de $100  Menos de $750  Más de $750  \\\n",
       "Cree_comun_tele                                                   \n",
       "1: No será común               18.0           23.0          1.0   \n",
       "2: Poco común                  58.0           52.0          0.0   \n",
       "3: Neutral                     56.0           61.0          4.0   \n",
       "4: Muy Común                   32.0           51.0          9.0   \n",
       "5: Totalmente Común             8.0           10.0          4.0   \n",
       "\n",
       "Pagar_cuanto          No pagaría por una  \n",
       "Cree_comun_tele                           \n",
       "1: No será común                   117.0  \n",
       "2: Poco común                      128.0  \n",
       "3: Neutral                          82.0  \n",
       "4: Muy Común                        33.0  \n",
       "5: Totalmente Común                  7.0  "
      ]
     },
     "execution_count": 29,
     "metadata": {},
     "output_type": "execute_result"
    }
   ],
   "source": [
    "dfx = vars_cross_df(df, ct_col, rc)\n",
    "dfx"
   ]
  },
  {
   "cell_type": "markdown",
   "metadata": {
    "hidden": true
   },
   "source": [
    "### $\\chi^2$ value, p-value, degrees of freedom and expected values"
   ]
  },
  {
   "cell_type": "code",
   "execution_count": 30,
   "metadata": {
    "ExecuteTime": {
     "end_time": "2020-07-18T02:08:37.822895Z",
     "start_time": "2020-07-18T02:08:37.799613Z"
    },
    "hidden": true
   },
   "outputs": [],
   "source": [
    "chi, pval, dof, exp_v = chi2_contingency(dfx)"
   ]
  },
  {
   "cell_type": "code",
   "execution_count": 31,
   "metadata": {
    "ExecuteTime": {
     "end_time": "2020-07-18T02:08:37.980361Z",
     "start_time": "2020-07-18T02:08:37.951569Z"
    },
    "hidden": true
   },
   "outputs": [
    {
     "data": {
      "text/html": [
       "<div>\n",
       "<style scoped>\n",
       "    .dataframe tbody tr th:only-of-type {\n",
       "        vertical-align: middle;\n",
       "    }\n",
       "\n",
       "    .dataframe tbody tr th {\n",
       "        vertical-align: top;\n",
       "    }\n",
       "\n",
       "    .dataframe thead th {\n",
       "        text-align: right;\n",
       "    }\n",
       "</style>\n",
       "<table border=\"1\" class=\"dataframe\">\n",
       "  <thead>\n",
       "    <tr style=\"text-align: right;\">\n",
       "      <th>Pagar_cuanto</th>\n",
       "      <th>Menos de $100</th>\n",
       "      <th>Menos de $750</th>\n",
       "      <th>Más de $750</th>\n",
       "      <th>No pagaría por una</th>\n",
       "    </tr>\n",
       "    <tr>\n",
       "      <th>Cree_comun_tele</th>\n",
       "      <th></th>\n",
       "      <th></th>\n",
       "      <th></th>\n",
       "      <th></th>\n",
       "    </tr>\n",
       "  </thead>\n",
       "  <tbody>\n",
       "    <tr>\n",
       "      <th>1: No será común</th>\n",
       "      <td>36.27</td>\n",
       "      <td>41.54</td>\n",
       "      <td>3.80</td>\n",
       "      <td>77.39</td>\n",
       "    </tr>\n",
       "    <tr>\n",
       "      <th>2: Poco común</th>\n",
       "      <td>54.29</td>\n",
       "      <td>62.18</td>\n",
       "      <td>5.68</td>\n",
       "      <td>115.84</td>\n",
       "    </tr>\n",
       "    <tr>\n",
       "      <th>3: Neutral</th>\n",
       "      <td>46.31</td>\n",
       "      <td>53.04</td>\n",
       "      <td>4.85</td>\n",
       "      <td>98.81</td>\n",
       "    </tr>\n",
       "    <tr>\n",
       "      <th>4: Muy Común</th>\n",
       "      <td>28.51</td>\n",
       "      <td>32.66</td>\n",
       "      <td>2.98</td>\n",
       "      <td>60.84</td>\n",
       "    </tr>\n",
       "    <tr>\n",
       "      <th>5: Totalmente Común</th>\n",
       "      <td>6.62</td>\n",
       "      <td>7.58</td>\n",
       "      <td>0.69</td>\n",
       "      <td>14.12</td>\n",
       "    </tr>\n",
       "  </tbody>\n",
       "</table>\n",
       "</div>"
      ],
      "text/plain": [
       "Pagar_cuanto          Menos de $100  Menos de $750  Más de $750  \\\n",
       "Cree_comun_tele                                                   \n",
       "1: No será común              36.27          41.54         3.80   \n",
       "2: Poco común                 54.29          62.18         5.68   \n",
       "3: Neutral                    46.31          53.04         4.85   \n",
       "4: Muy Común                  28.51          32.66         2.98   \n",
       "5: Totalmente Común            6.62           7.58         0.69   \n",
       "\n",
       "Pagar_cuanto          No pagaría por una  \n",
       "Cree_comun_tele                           \n",
       "1: No será común                   77.39  \n",
       "2: Poco común                     115.84  \n",
       "3: Neutral                         98.81  \n",
       "4: Muy Común                       60.84  \n",
       "5: Totalmente Común                14.12  "
      ]
     },
     "execution_count": 31,
     "metadata": {},
     "output_type": "execute_result"
    }
   ],
   "source": [
    "exp_v = pd.DataFrame(exp_v, index=[dfx.index], columns=dfx.columns).round(2)\n",
    "exp_v"
   ]
  },
  {
   "cell_type": "markdown",
   "metadata": {
    "hidden": true
   },
   "source": [
    "### Critical value"
   ]
  },
  {
   "cell_type": "code",
   "execution_count": 32,
   "metadata": {
    "ExecuteTime": {
     "end_time": "2020-07-18T02:08:38.286824Z",
     "start_time": "2020-07-18T02:08:38.264831Z"
    },
    "hidden": true
   },
   "outputs": [],
   "source": [
    "p = 1 - alpha"
   ]
  },
  {
   "cell_type": "code",
   "execution_count": 33,
   "metadata": {
    "ExecuteTime": {
     "end_time": "2020-07-18T02:08:38.671714Z",
     "start_time": "2020-07-18T02:08:38.651497Z"
    },
    "hidden": true
   },
   "outputs": [
    {
     "data": {
      "text/plain": [
       "18.54934778670325"
      ]
     },
     "execution_count": 33,
     "metadata": {},
     "output_type": "execute_result"
    }
   ],
   "source": [
    "c_v = chi2.ppf(p, dof)\n",
    "c_v"
   ]
  },
  {
   "cell_type": "markdown",
   "metadata": {
    "hidden": true
   },
   "source": [
    "### Conclusion"
   ]
  },
  {
   "cell_type": "code",
   "execution_count": 34,
   "metadata": {
    "ExecuteTime": {
     "end_time": "2020-07-18T02:08:39.318419Z",
     "start_time": "2020-07-18T02:08:39.294180Z"
    },
    "hidden": true
   },
   "outputs": [
    {
     "name": "stdout",
     "output_type": "stream",
     "text": [
      "At 0.1 level of significance, we reject the null hypotheses and accept the alternative hypoteses.\n",
      "The two variables are dependent.\n"
     ]
    }
   ],
   "source": [
    "if pval < alpha:\n",
    "    print(\"At {} level of significance, we reject the null hypotheses and accept the alternative hypoteses.\".format(alpha))\n",
    "    print(\"The two variables are dependent.\")\n",
    "else:\n",
    "    print(\"At {} level of significance, we accept the null hypotheses.\".format(alpha))\n",
    "    print(\"The two variables are independent\")"
   ]
  },
  {
   "cell_type": "markdown",
   "metadata": {
    "hidden": true
   },
   "source": [
    "---\n",
    "---"
   ]
  }
 ],
 "metadata": {
  "kernelspec": {
   "display_name": "Python 3",
   "language": "python",
   "name": "python3"
  },
  "language_info": {
   "codemirror_mode": {
    "name": "ipython",
    "version": 3
   },
   "file_extension": ".py",
   "mimetype": "text/x-python",
   "name": "python",
   "nbconvert_exporter": "python",
   "pygments_lexer": "ipython3",
   "version": "3.7.4"
  }
 },
 "nbformat": 4,
 "nbformat_minor": 4
}
